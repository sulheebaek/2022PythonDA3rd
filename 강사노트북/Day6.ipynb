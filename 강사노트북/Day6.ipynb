{
 "cells": [
  {
   "cell_type": "markdown",
   "id": "9cc9c7eb",
   "metadata": {},
   "source": [
    "# 서포트 벡터 머신"
   ]
  },
  {
   "cell_type": "markdown",
   "id": "ad834d7a",
   "metadata": {},
   "source": [
    "## 분류\n",
    "* sklearn.svm.LinearSVC\n",
    "* sklearn.svm.SVC\n",
    "\n",
    "## 회귀\n",
    "* sklearn.svm.LinearSVR\n",
    "* sklearn.svm.SVR\n"
   ]
  },
  {
   "cell_type": "code",
   "execution_count": 2,
   "id": "8eef880c",
   "metadata": {},
   "outputs": [
    {
     "name": "stdout",
     "output_type": "stream",
     "text": [
      "train:  0.95\n",
      "test:  1.0\n"
     ]
    }
   ],
   "source": [
    "import numpy as np\n",
    "from sklearn.datasets import load_iris\n",
    "from sklearn.pipeline import Pipeline\n",
    "from sklearn.preprocessing import StandardScaler\n",
    "from sklearn.svm import LinearSVC\n",
    "from sklearn.model_selection import train_test_split\n",
    "\n",
    "\n",
    "iris = load_iris()\n",
    "X = iris['data'][:, (2, 3)]\n",
    "y = (iris['target'] == 2).astype(np.float64)\n",
    "\n",
    "X_train, X_test, y_train, y_test = train_test_split(X, y, test_size=0.2, random_state=42)\n",
    "\n",
    "pipe = Pipeline([\n",
    "    ('scaler', StandardScaler()),\n",
    "])\n",
    "\n",
    "# 특성스케일링 필요함 (hinge: error가 거리)\n",
    "X_train_zs = pipe.fit_transform(X_train)\n",
    "X_test_zs = pipe.transform(X_test)\n",
    "svm_clf = LinearSVC()\n",
    "svm_clf.fit(X_train_zs, y_train)\n",
    "print('train: ', svm_clf.score(X_train_zs, y_train))\n",
    "print('test: ', svm_clf.score(X_test_zs, y_test))"
   ]
  },
  {
   "cell_type": "code",
   "execution_count": 3,
   "id": "2db205af",
   "metadata": {},
   "outputs": [
    {
     "data": {
      "text/plain": [
       "array([1.])"
      ]
     },
     "execution_count": 3,
     "metadata": {},
     "output_type": "execute_result"
    }
   ],
   "source": [
    "y_pred = svm_clf.predict([[5.5, 1.7]])\n",
    "y_pred"
   ]
  },
  {
   "cell_type": "code",
   "execution_count": 4,
   "id": "6f5d3a09",
   "metadata": {},
   "outputs": [
    {
     "data": {
      "text/plain": [
       "array(['setosa', 'versicolor', 'virginica'], dtype='<U10')"
      ]
     },
     "execution_count": 4,
     "metadata": {},
     "output_type": "execute_result"
    }
   ],
   "source": [
    "iris['target_names']"
   ]
  },
  {
   "cell_type": "code",
   "execution_count": 5,
   "id": "83cf5be3",
   "metadata": {},
   "outputs": [
    {
     "data": {
      "text/plain": [
       "'versicolor'"
      ]
     },
     "execution_count": 5,
     "metadata": {},
     "output_type": "execute_result"
    }
   ],
   "source": [
    "iris['target_names'][int(y_pred.round())]"
   ]
  },
  {
   "cell_type": "markdown",
   "id": "23afdd0e",
   "metadata": {},
   "source": [
    "## SVM에서는 커널트릭 사용이 가능한데, linear, poly, rbf, sigmoid"
   ]
  },
  {
   "cell_type": "code",
   "execution_count": 19,
   "id": "c97b3685",
   "metadata": {},
   "outputs": [],
   "source": [
    "from sklearn.svm import SVC, SVR\n",
    "SVC?"
   ]
  },
  {
   "cell_type": "code",
   "execution_count": 20,
   "id": "bbad7e80",
   "metadata": {},
   "outputs": [],
   "source": [
    "SVR?"
   ]
  },
  {
   "cell_type": "code",
   "execution_count": 21,
   "id": "d376c08d",
   "metadata": {},
   "outputs": [
    {
     "data": {
      "text/plain": [
       "((120, 2), (30, 2))"
      ]
     },
     "execution_count": 21,
     "metadata": {},
     "output_type": "execute_result"
    }
   ],
   "source": [
    "X_train_zs.shape, X_test_zs.shape"
   ]
  },
  {
   "cell_type": "code",
   "execution_count": 22,
   "id": "fd4bbd7e",
   "metadata": {},
   "outputs": [
    {
     "data": {
      "text/plain": [
       "0.7"
      ]
     },
     "execution_count": 22,
     "metadata": {},
     "output_type": "execute_result"
    }
   ],
   "source": [
    "polysvc = SVC(kernel='poly', degree=2, gamma=1, coef0=0.0)\n",
    "polysvc.fit(X_train_zs, y_train)\n",
    "polysvc.score(X_test_zs, y_test)"
   ]
  },
  {
   "cell_type": "code",
   "execution_count": 23,
   "id": "7bd56f9d",
   "metadata": {},
   "outputs": [
    {
     "data": {
      "text/plain": [
       "0.8"
      ]
     },
     "execution_count": 23,
     "metadata": {},
     "output_type": "execute_result"
    }
   ],
   "source": [
    "polysvc = SVC(kernel='poly', degree=10, gamma=1, coef0=0.0)\n",
    "polysvc.fit(X_train_zs, y_train)\n",
    "polysvc.score(X_test_zs, y_test)"
   ]
  },
  {
   "cell_type": "code",
   "execution_count": 24,
   "id": "7acf3e57",
   "metadata": {},
   "outputs": [
    {
     "data": {
      "text/plain": [
       "1.0"
      ]
     },
     "execution_count": 24,
     "metadata": {},
     "output_type": "execute_result"
    }
   ],
   "source": [
    "rbfsvc = SVC(kernel='rbf',gamma=1)\n",
    "rbfsvc.fit(X_train_zs, y_train)\n",
    "rbfsvc.score(X_test_zs, y_test)"
   ]
  },
  {
   "cell_type": "markdown",
   "id": "4b62e491",
   "metadata": {},
   "source": [
    "# 자율학습기 (k-평균 군집화)"
   ]
  },
  {
   "cell_type": "code",
   "execution_count": 10,
   "id": "5c71d306",
   "metadata": {},
   "outputs": [
    {
     "data": {
      "text/html": [
       "<style>#sk-container-id-1 {color: black;background-color: white;}#sk-container-id-1 pre{padding: 0;}#sk-container-id-1 div.sk-toggleable {background-color: white;}#sk-container-id-1 label.sk-toggleable__label {cursor: pointer;display: block;width: 100%;margin-bottom: 0;padding: 0.3em;box-sizing: border-box;text-align: center;}#sk-container-id-1 label.sk-toggleable__label-arrow:before {content: \"▸\";float: left;margin-right: 0.25em;color: #696969;}#sk-container-id-1 label.sk-toggleable__label-arrow:hover:before {color: black;}#sk-container-id-1 div.sk-estimator:hover label.sk-toggleable__label-arrow:before {color: black;}#sk-container-id-1 div.sk-toggleable__content {max-height: 0;max-width: 0;overflow: hidden;text-align: left;background-color: #f0f8ff;}#sk-container-id-1 div.sk-toggleable__content pre {margin: 0.2em;color: black;border-radius: 0.25em;background-color: #f0f8ff;}#sk-container-id-1 input.sk-toggleable__control:checked~div.sk-toggleable__content {max-height: 200px;max-width: 100%;overflow: auto;}#sk-container-id-1 input.sk-toggleable__control:checked~label.sk-toggleable__label-arrow:before {content: \"▾\";}#sk-container-id-1 div.sk-estimator input.sk-toggleable__control:checked~label.sk-toggleable__label {background-color: #d4ebff;}#sk-container-id-1 div.sk-label input.sk-toggleable__control:checked~label.sk-toggleable__label {background-color: #d4ebff;}#sk-container-id-1 input.sk-hidden--visually {border: 0;clip: rect(1px 1px 1px 1px);clip: rect(1px, 1px, 1px, 1px);height: 1px;margin: -1px;overflow: hidden;padding: 0;position: absolute;width: 1px;}#sk-container-id-1 div.sk-estimator {font-family: monospace;background-color: #f0f8ff;border: 1px dotted black;border-radius: 0.25em;box-sizing: border-box;margin-bottom: 0.5em;}#sk-container-id-1 div.sk-estimator:hover {background-color: #d4ebff;}#sk-container-id-1 div.sk-parallel-item::after {content: \"\";width: 100%;border-bottom: 1px solid gray;flex-grow: 1;}#sk-container-id-1 div.sk-label:hover label.sk-toggleable__label {background-color: #d4ebff;}#sk-container-id-1 div.sk-serial::before {content: \"\";position: absolute;border-left: 1px solid gray;box-sizing: border-box;top: 0;bottom: 0;left: 50%;z-index: 0;}#sk-container-id-1 div.sk-serial {display: flex;flex-direction: column;align-items: center;background-color: white;padding-right: 0.2em;padding-left: 0.2em;position: relative;}#sk-container-id-1 div.sk-item {position: relative;z-index: 1;}#sk-container-id-1 div.sk-parallel {display: flex;align-items: stretch;justify-content: center;background-color: white;position: relative;}#sk-container-id-1 div.sk-item::before, #sk-container-id-1 div.sk-parallel-item::before {content: \"\";position: absolute;border-left: 1px solid gray;box-sizing: border-box;top: 0;bottom: 0;left: 50%;z-index: -1;}#sk-container-id-1 div.sk-parallel-item {display: flex;flex-direction: column;z-index: 1;position: relative;background-color: white;}#sk-container-id-1 div.sk-parallel-item:first-child::after {align-self: flex-end;width: 50%;}#sk-container-id-1 div.sk-parallel-item:last-child::after {align-self: flex-start;width: 50%;}#sk-container-id-1 div.sk-parallel-item:only-child::after {width: 0;}#sk-container-id-1 div.sk-dashed-wrapped {border: 1px dashed gray;margin: 0 0.4em 0.5em 0.4em;box-sizing: border-box;padding-bottom: 0.4em;background-color: white;}#sk-container-id-1 div.sk-label label {font-family: monospace;font-weight: bold;display: inline-block;line-height: 1.2em;}#sk-container-id-1 div.sk-label-container {text-align: center;}#sk-container-id-1 div.sk-container {/* jupyter's `normalize.less` sets `[hidden] { display: none; }` but bootstrap.min.css set `[hidden] { display: none !important; }` so we also need the `!important` here to be able to override the default hidden behavior on the sphinx rendered scikit-learn.org. See: https://github.com/scikit-learn/scikit-learn/issues/21755 */display: inline-block !important;position: relative;}#sk-container-id-1 div.sk-text-repr-fallback {display: none;}</style><div id=\"sk-container-id-1\" class=\"sk-top-container\"><div class=\"sk-text-repr-fallback\"><pre>KMeans(n_clusters=3)</pre><b>In a Jupyter environment, please rerun this cell to show the HTML representation or trust the notebook. <br />On GitHub, the HTML representation is unable to render, please try loading this page with nbviewer.org.</b></div><div class=\"sk-container\" hidden><div class=\"sk-item\"><div class=\"sk-estimator sk-toggleable\"><input class=\"sk-toggleable__control sk-hidden--visually\" id=\"sk-estimator-id-1\" type=\"checkbox\" checked><label for=\"sk-estimator-id-1\" class=\"sk-toggleable__label sk-toggleable__label-arrow\">KMeans</label><div class=\"sk-toggleable__content\"><pre>KMeans(n_clusters=3)</pre></div></div></div></div></div>"
      ],
      "text/plain": [
       "KMeans(n_clusters=3)"
      ]
     },
     "execution_count": 10,
     "metadata": {},
     "output_type": "execute_result"
    }
   ],
   "source": [
    "from sklearn import cluster, datasets\n",
    "iris = datasets.load_iris()\n",
    "X = iris['data']\n",
    "# y = iris['target'] \n",
    "\n",
    "# 거리를 지표로 사용하므로 특성스케일링 필요\n",
    "from sklearn.preprocessing import MinMaxScaler\n",
    "scaler = MinMaxScaler()\n",
    "X_scaled = scaler.fit_transform(X)\n",
    "\n",
    "# 자율학습이므로 훈련셋/시험셋 나누기 불필요.\n",
    "# 평가도 불필요.\n",
    "\n",
    "kmeans = cluster.KMeans(n_clusters=3)\n",
    "kmeans.fit(X_scaled)\n",
    "\n",
    "# 대신, 시각화, 최적의 파라미터 튜닝"
   ]
  },
  {
   "cell_type": "markdown",
   "id": "1419c262",
   "metadata": {},
   "source": [
    "# 대신, 시각화, 최적의 파라미터 튜닝"
   ]
  },
  {
   "cell_type": "code",
   "execution_count": 15,
   "id": "e68c443e",
   "metadata": {},
   "outputs": [],
   "source": [
    "from sklearn.decomposition import PCA\n",
    "pca = PCA(n_components=2)\n",
    "X_pca = pca.fit_transform(X_scaled)"
   ]
  },
  {
   "cell_type": "code",
   "execution_count": 16,
   "id": "4fec7540",
   "metadata": {},
   "outputs": [
    {
     "data": {
      "text/plain": [
       "(150, 2)"
      ]
     },
     "execution_count": 16,
     "metadata": {},
     "output_type": "execute_result"
    }
   ],
   "source": [
    "X_pca.shape"
   ]
  },
  {
   "cell_type": "code",
   "execution_count": 17,
   "id": "58d2089e",
   "metadata": {},
   "outputs": [
    {
     "data": {
      "text/plain": [
       "<matplotlib.collections.PathCollection at 0x26bfdbec640>"
      ]
     },
     "execution_count": 17,
     "metadata": {},
     "output_type": "execute_result"
    },
    {
     "data": {
      "image/png": "[encoded data removed]",
      "text/plain": [
       "<Figure size 432x288 with 1 Axes>"
      ]
     },
     "metadata": {
      "needs_background": "light"
     },
     "output_type": "display_data"
    }
   ],
   "source": [
    "import matplotlib.pyplot as plt\n",
    "plt.scatter(X_pca[:, 0], X_pca[:, 1])"
   ]
  },
  {
   "cell_type": "code",
   "execution_count": 38,
   "id": "2ecc0438",
   "metadata": {},
   "outputs": [
    {
     "data": {
      "image/png": "[encoded data removed]",
      "text/plain": [
       "<Figure size 432x288 with 1 Axes>"
      ]
     },
     "metadata": {
      "needs_background": "light"
     },
     "output_type": "display_data"
    }
   ],
   "source": [
    "# 시각화로 군집화를 확인\n",
    "import numpy as np\n",
    "import matplotlib.pyplot as plt\n",
    "\n",
    "# kmeans 군집별 인덱스 구하기\n",
    "index0  = np.where(kmeans.labels_ == 0)[0]\n",
    "index1  = np.where(kmeans.labels_ == 1)[0]\n",
    "index2  = np.where(kmeans.labels_ == 2)[0]\n",
    "\n",
    "y = iris['data']\n",
    "labels0 = np.where(y == 0)[0]\n",
    "labels1 = np.where(y == 1)[0]\n",
    "labels2 = np.where(y == 2)[0]\n",
    "\n",
    "# kmeans 군집별 산점도 시각화\n",
    "plt.scatter(X_pca[index0, 0], X_pca[index0, 1], color='red', label='cluster 0', alpha=0.3, s=100)\n",
    "plt.scatter(X_pca[index1, 0], X_pca[index1, 1], color='blue', label='cluster 1', alpha=0.3, s=100)\n",
    "plt.scatter(X_pca[index2, 0], X_pca[index2, 1], color='green', label='cluster 2', alpha=0.3, s=100)\n",
    "\n",
    "# plt.scatter(X_pca[labels0, 0], X_pca[labels0, 1], marker='*', color='magenta', label='setosa')\n",
    "# plt.scatter(X_pca[labels1, 0], X_pca[labels1, 1], marker='*', color='cyan', label='versicolor')\n",
    "# plt.scatter(X_pca[labels2, 0], X_pca[labels2, 1], marker='*', color='olive', label='virginica')\n",
    "\n",
    "plt.legend(loc='best')\n",
    "plt.show()"
   ]
  },
  {
   "cell_type": "code",
   "execution_count": 42,
   "id": "c2e47c47",
   "metadata": {},
   "outputs": [
    {
     "data": {
      "image/png": "[encoded data removed]",
      "text/plain": [
       "<Figure size 432x288 with 1 Axes>"
      ]
     },
     "metadata": {
      "needs_background": "light"
     },
     "output_type": "display_data"
    }
   ],
   "source": [
    "# 시각화로 군집화를 확인\n",
    "import numpy as np\n",
    "import matplotlib.pyplot as plt\n",
    "\n",
    "# kmeans 군집별 인덱스 구하기\n",
    "index0  = np.where(kmeans.labels_ == 0)[0]\n",
    "index1  = np.where(kmeans.labels_ == 1)[0]\n",
    "index2  = np.where(kmeans.labels_ == 2)[0]\n",
    "\n",
    "y = iris['data']\n",
    "labels0 = np.where(y == 0)[0]\n",
    "labels1 = np.where(y == 1)[0]\n",
    "labels2 = np.where(y == 2)[0]\n",
    "\n",
    "# kmeans 군집별 산점도 시각화\n",
    "plt.scatter(X[index0, 2], X[index0, 3], color='red', label='cluster 0', alpha=0.3, s=100)\n",
    "plt.scatter(X[index1, 2], X[index1, 3], color='blue', label='cluster 1', alpha=0.3, s=100)\n",
    "plt.scatter(X[index2, 2], X[index2, 3], color='green', label='cluster 2', alpha=0.3, s=100)\n",
    "\n",
    "plt.scatter(X[labels0, 2], X[labels0, 3], marker='*', color='magenta', label='setosa')\n",
    "plt.scatter(X[labels1, 2], X[labels1, 3], marker='*', color='cyan', label='versicolor')\n",
    "plt.scatter(X[labels2, 2], X[labels2, 3], marker='*', color='olive', label='virginica')\n",
    "\n",
    "plt.legend(loc='best')\n",
    "plt.show()"
   ]
  },
  {
   "cell_type": "code",
   "execution_count": 49,
   "id": "01071c18",
   "metadata": {},
   "outputs": [],
   "source": [
    "kmeans.score?"
   ]
  },
  {
   "cell_type": "code",
   "execution_count": 53,
   "id": "ddfee678",
   "metadata": {},
   "outputs": [
    {
     "data": {
      "image/png": "[encoded data removed]",
      "text/plain": [
       "<Figure size 432x288 with 1 Axes>"
      ]
     },
     "metadata": {
      "needs_background": "light"
     },
     "output_type": "display_data"
    }
   ],
   "source": [
    "from sklearn.cluster import KMeans\n",
    "\n",
    "sse = []\n",
    "scores = []\n",
    "for k in range(1, 10):\n",
    "    kmeans = KMeans(n_clusters=k)\n",
    "    kmeans.fit(X_scaled)\n",
    "    sse.append(kmeans.inertia_)\n",
    "    scores.append(kmeans.score(X_scaled))\n",
    "plt.scatter(range(1, 10), sse)\n",
    "plt.scatter(range(1, 10), scores, color='red')\n",
    "plt.show()"
   ]
  },
  {
   "cell_type": "markdown",
   "id": "68013d4f",
   "metadata": {},
   "source": [
    "# 신경망을 위한 실습환경구축"
   ]
  },
  {
   "cell_type": "markdown",
   "id": "e098e3a5",
   "metadata": {},
   "source": [
    "* 넘파이 다운그레이드 후 텐서플로우와 케라스 설치\n",
    "아래 명령어는 아나콘다 프롬프트에서 실행할 것\n",
    "    - conda activate lgchem\n",
    "    - conda install -c conda-forge numpy=1.19\n",
    "    - pip install --user tensorflow==2.3\n",
    "    - pip install --user keras==2.3"
   ]
  },
  {
   "cell_type": "code",
   "execution_count": null,
   "id": "5c5a2093",
   "metadata": {},
   "outputs": [],
   "source": []
  }
 ],
 "metadata": {
  "kernelspec": {
   "display_name": "Python 3 (ipykernel)",
   "language": "python",
   "name": "python3"
  },
  "language_info": {
   "codemirror_mode": {
    "name": "ipython",
    "version": 3
   },
   "file_extension": ".py",
   "mimetype": "text/x-python",
   "name": "python",
   "nbconvert_exporter": "python",
   "pygments_lexer": "ipython3",
   "version": "3.8.13"
  }
 },
 "nbformat": 4,
 "nbformat_minor": 5
}
