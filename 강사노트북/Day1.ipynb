{
 "cells": [
  {
   "cell_type": "markdown",
   "id": "38b35a96",
   "metadata": {},
   "source": [
    "# DX 파이썬 데이터분석 중급 1일차\n",
    "## 파이썬 기본\n",
    "### 주피터노트북\n",
    "\n",
    "* 순서없는 목록\n",
    "    * 목록\n",
    "    * 목록\n",
    "    * 목록\n",
    "1. 순서 있는 목록\n",
    "    1. 목록\n",
    "    2. 목록\n",
    "    3. 목록"
   ]
  },
  {
   "cell_type": "code",
   "execution_count": 2,
   "id": "52970987",
   "metadata": {},
   "outputs": [
    {
     "name": "stdout",
     "output_type": "stream",
     "text": [
      "1\n",
      "I don't know.\n",
      "I don't know.\n",
      "I don't know.\n"
     ]
    }
   ],
   "source": [
    "a = 3\n",
    "b = 4\n",
    "\n",
    "print(b-a)\n",
    "print(\"I don't know.\")\n",
    "print(\"I don\\'t know.\\nI don\\'t know.\")"
   ]
  },
  {
   "cell_type": "code",
   "execution_count": 3,
   "id": "f92cfe8d",
   "metadata": {},
   "outputs": [
    {
     "name": "stdout",
     "output_type": "stream",
     "text": [
      "안녕\n"
     ]
    }
   ],
   "source": [
    "%run hello.py"
   ]
  },
  {
   "cell_type": "code",
   "execution_count": 4,
   "id": "3a66a616",
   "metadata": {},
   "outputs": [
    {
     "data": {
      "text/plain": [
       "'1.4.3'"
      ]
     },
     "execution_count": 4,
     "metadata": {},
     "output_type": "execute_result"
    }
   ],
   "source": [
    "import pandas as pd\n",
    "pd.__version__"
   ]
  },
  {
   "cell_type": "code",
   "execution_count": 5,
   "id": "eba95467",
   "metadata": {},
   "outputs": [
    {
     "ename": "NameError",
     "evalue": "name 'pandas' is not defined",
     "output_type": "error",
     "traceback": [
      "\u001b[1;31m---------------------------------------------------------------------------\u001b[0m",
      "\u001b[1;31mNameError\u001b[0m                                 Traceback (most recent call last)",
      "Input \u001b[1;32mIn [5]\u001b[0m, in \u001b[0;36m<cell line: 1>\u001b[1;34m()\u001b[0m\n\u001b[1;32m----> 1\u001b[0m \u001b[43mpandas\u001b[49m\u001b[38;5;241m.\u001b[39m__version__\n",
      "\u001b[1;31mNameError\u001b[0m: name 'pandas' is not defined"
     ]
    }
   ],
   "source": [
    "pandas.__version__"
   ]
  },
  {
   "cell_type": "code",
   "execution_count": 6,
   "id": "60d2d50e",
   "metadata": {},
   "outputs": [
    {
     "data": {
      "text/plain": [
       "'1.1.1'"
      ]
     },
     "execution_count": 6,
     "metadata": {},
     "output_type": "execute_result"
    }
   ],
   "source": [
    "import sklearn\n",
    "sklearn.__version__"
   ]
  },
  {
   "cell_type": "code",
   "execution_count": 7,
   "id": "25ec1d5b",
   "metadata": {},
   "outputs": [],
   "source": [
    "from pandas import DataFrame"
   ]
  },
  {
   "cell_type": "code",
   "execution_count": 8,
   "id": "a4ef5dfc",
   "metadata": {},
   "outputs": [],
   "source": [
    "DataFrame?"
   ]
  },
  {
   "cell_type": "code",
   "execution_count": 13,
   "id": "cd589c44",
   "metadata": {},
   "outputs": [],
   "source": [
    "f = open('hello.py')\n",
    "f.close()"
   ]
  },
  {
   "cell_type": "code",
   "execution_count": 14,
   "id": "3025edb8",
   "metadata": {},
   "outputs": [],
   "source": [
    "from os import open"
   ]
  },
  {
   "cell_type": "code",
   "execution_count": 15,
   "id": "a446523d",
   "metadata": {},
   "outputs": [
    {
     "ename": "TypeError",
     "evalue": "open() missing required argument 'flags' (pos 2)",
     "output_type": "error",
     "traceback": [
      "\u001b[1;31m---------------------------------------------------------------------------\u001b[0m",
      "\u001b[1;31mTypeError\u001b[0m                                 Traceback (most recent call last)",
      "Input \u001b[1;32mIn [15]\u001b[0m, in \u001b[0;36m<cell line: 1>\u001b[1;34m()\u001b[0m\n\u001b[1;32m----> 1\u001b[0m f \u001b[38;5;241m=\u001b[39m \u001b[38;5;28;43mopen\u001b[39;49m\u001b[43m(\u001b[49m\u001b[38;5;124;43m'\u001b[39;49m\u001b[38;5;124;43mhello.py\u001b[39;49m\u001b[38;5;124;43m'\u001b[39;49m\u001b[43m)\u001b[49m\n\u001b[0;32m      2\u001b[0m f\u001b[38;5;241m.\u001b[39mclose()\n",
      "\u001b[1;31mTypeError\u001b[0m: open() missing required argument 'flags' (pos 2)"
     ]
    }
   ],
   "source": [
    "f = open('hello.py')\n",
    "f.close()"
   ]
  },
  {
   "cell_type": "code",
   "execution_count": 16,
   "id": "fb8af230",
   "metadata": {},
   "outputs": [],
   "source": [
    "del open"
   ]
  },
  {
   "cell_type": "code",
   "execution_count": 17,
   "id": "c770adab",
   "metadata": {},
   "outputs": [],
   "source": [
    "f = open('hello.py')\n",
    "f.close()"
   ]
  },
  {
   "cell_type": "code",
   "execution_count": 19,
   "id": "0fb7bd5c",
   "metadata": {},
   "outputs": [],
   "source": [
    "from os import open as os_open"
   ]
  },
  {
   "cell_type": "code",
   "execution_count": 20,
   "id": "9d8de864",
   "metadata": {},
   "outputs": [],
   "source": [
    "f = open('hello.py')\n",
    "f.close()"
   ]
  },
  {
   "cell_type": "code",
   "execution_count": 21,
   "id": "1f0a34f5",
   "metadata": {},
   "outputs": [],
   "source": [
    "os_open?"
   ]
  },
  {
   "cell_type": "code",
   "execution_count": 22,
   "id": "5ece3e6d",
   "metadata": {},
   "outputs": [],
   "source": [
    "del os_open"
   ]
  },
  {
   "cell_type": "code",
   "execution_count": 26,
   "id": "c61a7ec9",
   "metadata": {},
   "outputs": [],
   "source": [
    "print?"
   ]
  },
  {
   "cell_type": "code",
   "execution_count": 24,
   "id": "953c483d",
   "metadata": {},
   "outputs": [
    {
     "name": "stdout",
     "output_type": "stream",
     "text": [
      "hi python\n"
     ]
    }
   ],
   "source": [
    "print('hi', 'python', sep=' ')"
   ]
  },
  {
   "cell_type": "code",
   "execution_count": 25,
   "id": "06e175c6",
   "metadata": {},
   "outputs": [
    {
     "name": "stdout",
     "output_type": "stream",
     "text": [
      "hi, python\n"
     ]
    }
   ],
   "source": [
    "print('hi', 'python', sep=', ')"
   ]
  },
  {
   "cell_type": "markdown",
   "id": "b26cd9ba",
   "metadata": {},
   "source": [
    "수치형과 연산자"
   ]
  },
  {
   "cell_type": "code",
   "execution_count": 28,
   "id": "77c14a0a",
   "metadata": {},
   "outputs": [
    {
     "data": {
      "text/plain": [
       "1"
      ]
     },
     "execution_count": 28,
     "metadata": {},
     "output_type": "execute_result"
    }
   ],
   "source": [
    "12 // 10 # 12를 10으로 나눈 몫"
   ]
  },
  {
   "cell_type": "code",
   "execution_count": 29,
   "id": "69dc765d",
   "metadata": {},
   "outputs": [
    {
     "data": {
      "text/plain": [
       "2"
      ]
     },
     "execution_count": 29,
     "metadata": {},
     "output_type": "execute_result"
    }
   ],
   "source": [
    "12 % 10 # 12를 10으로 나눈"
   ]
  },
  {
   "cell_type": "code",
   "execution_count": 30,
   "id": "5c5f981e",
   "metadata": {},
   "outputs": [
    {
     "data": {
      "text/plain": [
       "7"
      ]
     },
     "execution_count": 30,
     "metadata": {},
     "output_type": "execute_result"
    }
   ],
   "source": [
    "a = 4\n",
    "b = a\n",
    "b += 3 # b = b+3, +=, -=, *=, /= , ...\n",
    "b"
   ]
  },
  {
   "cell_type": "code",
   "execution_count": 31,
   "id": "5eb73605",
   "metadata": {},
   "outputs": [
    {
     "data": {
      "text/plain": [
       "2.0"
      ]
     },
     "execution_count": 31,
     "metadata": {},
     "output_type": "execute_result"
    }
   ],
   "source": [
    "# 4의 제곱근\n",
    "import math\n",
    "math.sqrt(4)"
   ]
  },
  {
   "cell_type": "code",
   "execution_count": 32,
   "id": "2b7fb118",
   "metadata": {},
   "outputs": [
    {
     "data": {
      "text/plain": [
       "2.0"
      ]
     },
     "execution_count": 32,
     "metadata": {},
     "output_type": "execute_result"
    }
   ],
   "source": [
    "from math import sqrt\n",
    "sqrt(4)"
   ]
  },
  {
   "cell_type": "code",
   "execution_count": 33,
   "id": "0d30be7d",
   "metadata": {},
   "outputs": [
    {
     "data": {
      "text/plain": [
       "False"
      ]
     },
     "execution_count": 33,
     "metadata": {},
     "output_type": "execute_result"
    }
   ],
   "source": [
    "True and False"
   ]
  },
  {
   "cell_type": "code",
   "execution_count": 34,
   "id": "e943bfe7",
   "metadata": {},
   "outputs": [
    {
     "data": {
      "text/plain": [
       "True"
      ]
     },
     "execution_count": 34,
     "metadata": {},
     "output_type": "execute_result"
    }
   ],
   "source": [
    "True or False"
   ]
  },
  {
   "cell_type": "code",
   "execution_count": 35,
   "id": "fc469646",
   "metadata": {},
   "outputs": [
    {
     "data": {
      "text/plain": [
       "False"
      ]
     },
     "execution_count": 35,
     "metadata": {},
     "output_type": "execute_result"
    }
   ],
   "source": [
    "False or False"
   ]
  },
  {
   "cell_type": "code",
   "execution_count": 36,
   "id": "27e01fc6",
   "metadata": {},
   "outputs": [
    {
     "data": {
      "text/plain": [
       "False"
      ]
     },
     "execution_count": 36,
     "metadata": {},
     "output_type": "execute_result"
    }
   ],
   "source": [
    "True & False"
   ]
  },
  {
   "cell_type": "code",
   "execution_count": 37,
   "id": "d82f5f01",
   "metadata": {},
   "outputs": [
    {
     "data": {
      "text/plain": [
       "True"
      ]
     },
     "execution_count": 37,
     "metadata": {},
     "output_type": "execute_result"
    }
   ],
   "source": [
    "True & True"
   ]
  },
  {
   "cell_type": "code",
   "execution_count": 38,
   "id": "2f1defbc",
   "metadata": {},
   "outputs": [
    {
     "data": {
      "text/plain": [
       "True"
      ]
     },
     "execution_count": 38,
     "metadata": {},
     "output_type": "execute_result"
    }
   ],
   "source": [
    "True ^ False"
   ]
  },
  {
   "cell_type": "code",
   "execution_count": 39,
   "id": "58120a08",
   "metadata": {},
   "outputs": [
    {
     "data": {
      "text/plain": [
       "True"
      ]
     },
     "execution_count": 39,
     "metadata": {},
     "output_type": "execute_result"
    }
   ],
   "source": [
    "False ^ True"
   ]
  },
  {
   "cell_type": "code",
   "execution_count": 40,
   "id": "266f4a83",
   "metadata": {},
   "outputs": [
    {
     "data": {
      "text/plain": [
       "False"
      ]
     },
     "execution_count": 40,
     "metadata": {},
     "output_type": "execute_result"
    }
   ],
   "source": [
    "True ^ True"
   ]
  },
  {
   "cell_type": "code",
   "execution_count": 41,
   "id": "0ec23c00",
   "metadata": {},
   "outputs": [
    {
     "data": {
      "text/plain": [
       "False"
      ]
     },
     "execution_count": 41,
     "metadata": {},
     "output_type": "execute_result"
    }
   ],
   "source": [
    "False ^ False"
   ]
  },
  {
   "cell_type": "code",
   "execution_count": 42,
   "id": "28ee3693",
   "metadata": {},
   "outputs": [
    {
     "name": "stdout",
     "output_type": "stream",
     "text": [
      "Help on built-in function print in module builtins:\n",
      "\n",
      "print(...)\n",
      "    print(value, ..., sep=' ', end='\\n', file=sys.stdout, flush=False)\n",
      "    \n",
      "    Prints the values to a stream, or to sys.stdout by default.\n",
      "    Optional keyword arguments:\n",
      "    file:  a file-like object (stream); defaults to the current sys.stdout.\n",
      "    sep:   string inserted between values, default a space.\n",
      "    end:   string appended after the last value, default a newline.\n",
      "    flush: whether to forcibly flush the stream.\n",
      "\n"
     ]
    }
   ],
   "source": [
    "help(print)"
   ]
  },
  {
   "cell_type": "markdown",
   "id": "3e0206d4",
   "metadata": {},
   "source": [
    "# print 함수를 활용하는 것과 객체정보 조회의 차이"
   ]
  },
  {
   "cell_type": "code",
   "execution_count": 44,
   "id": "720e9f5d",
   "metadata": {},
   "outputs": [
    {
     "data": {
      "text/plain": [
       "False"
      ]
     },
     "execution_count": 44,
     "metadata": {},
     "output_type": "execute_result"
    }
   ],
   "source": [
    "i = 2\n",
    "j = 2.0\n",
    "i is j"
   ]
  },
  {
   "cell_type": "code",
   "execution_count": 45,
   "id": "33c429bb",
   "metadata": {},
   "outputs": [],
   "source": [
    "bool.__repr__?"
   ]
  },
  {
   "cell_type": "code",
   "execution_count": 49,
   "id": "bb0e80f5",
   "metadata": {},
   "outputs": [
    {
     "name": "stdout",
     "output_type": "stream",
     "text": [
      "False\n",
      "0\n",
      "0.00\n"
     ]
    }
   ],
   "source": [
    "print(i is j)\n",
    "print(\"%d\" % (i is j))\n",
    "print(\"%.2f\" % (i is j))"
   ]
  },
  {
   "cell_type": "markdown",
   "id": "63634d7a",
   "metadata": {},
   "source": [
    "# 제어구문\n",
    "## 조건문\n",
    "```\n",
    "if 조건A:\n",
    "    코드블럭\n",
    "elif 조건B:\n",
    "    코드블럭\n",
    "else:\n",
    "    코드블럭\n",
    "```"
   ]
  },
  {
   "cell_type": "markdown",
   "id": "10035ef8",
   "metadata": {},
   "source": [
    "## 반복문\n",
    "### for 루프\n",
    "```\n",
    "for i in 반복가능객체:\n",
    "    코드블럭(i에 대하여)\n",
    "```"
   ]
  },
  {
   "cell_type": "code",
   "execution_count": 54,
   "id": "b69107b4",
   "metadata": {},
   "outputs": [
    {
     "name": "stdout",
     "output_type": "stream",
     "text": [
      "h/i/ /p/y/t/h/o/n/"
     ]
    }
   ],
   "source": [
    "for i in 'hi python':\n",
    "    print(i, end='/')"
   ]
  },
  {
   "cell_type": "code",
   "execution_count": 57,
   "id": "fd2a268f",
   "metadata": {},
   "outputs": [
    {
     "name": "stdout",
     "output_type": "stream",
     "text": [
      "0, 1, 2, 3, 4, 5, 6, 7, 8, 9, "
     ]
    }
   ],
   "source": [
    "for i in range(0, 10):\n",
    "     print(i, end=', ')"
   ]
  },
  {
   "cell_type": "code",
   "execution_count": 60,
   "id": "67a1c397",
   "metadata": {},
   "outputs": [
    {
     "name": "stdout",
     "output_type": "stream",
     "text": [
      "100, 200, 300, 400, 500, 600, 700, 800, 900, "
     ]
    }
   ],
   "source": [
    "for i in range(100, 901, 100):\n",
    "    print(i, end=', ')"
   ]
  },
  {
   "cell_type": "code",
   "execution_count": 61,
   "id": "2b76a935",
   "metadata": {},
   "outputs": [
    {
     "name": "stdout",
     "output_type": "stream",
     "text": [
      "100, 200, 300, "
     ]
    }
   ],
   "source": [
    "for i in [100, 200, 300]:\n",
    "    print(i, end=', ')"
   ]
  },
  {
   "cell_type": "markdown",
   "id": "5e65002a",
   "metadata": {},
   "source": [
    "### while 루프\n",
    "```\n",
    "while 조건식:\n",
    "    코드블럭\n",
    "    if 조건A:\n",
    "        continue # 이번만 아래코드를 스킵하고 다은차례 계속\n",
    "    if 조건B:\n",
    "        break # 즉시 탈출\n",
    "```"
   ]
  },
  {
   "cell_type": "markdown",
   "id": "ac9fc199",
   "metadata": {},
   "source": [
    "### 반복루프 응용 실습 (~3:10)\n",
    "- 1부터 10까지의 합을 구하여 total이라는 변수에 치환하는 구문을 작성하시오.\n",
    "- 실습 완료하신 분들은 코드를 메시지로 보내주세요."
   ]
  },
  {
   "cell_type": "code",
   "execution_count": 63,
   "id": "337fa418",
   "metadata": {},
   "outputs": [
    {
     "name": "stdout",
     "output_type": "stream",
     "text": [
      "55.0\n",
      "55.0\n"
     ]
    }
   ],
   "source": [
    "total1 = 0.0\n",
    "for i in range(1, 11):\n",
    "    total1 += i\n",
    "print(total1)\n",
    "# while 루프 이용\n",
    "total2 = 0.0\n",
    "i = 1\n",
    "while i < 11:\n",
    "    total2 += i\n",
    "    i += 1 ## 증감 연산\n",
    "print(total2)"
   ]
  },
  {
   "cell_type": "markdown",
   "id": "917dc5f1",
   "metadata": {},
   "source": [
    "## print 내장함수는 문자열로 형식을 지정해서 표준출력하는 함수"
   ]
  },
  {
   "cell_type": "code",
   "execution_count": 75,
   "id": "73a079f2",
   "metadata": {},
   "outputs": [
    {
     "name": "stdout",
     "output_type": "stream",
     "text": [
      "3.14 1.063382e+37\n",
      "3.14 1.063382e+37\n",
      "3.14 1.063382e+37\n"
     ]
    }
   ],
   "source": [
    "myPI = 3.141592; myInt = 2**(123)\n",
    "\n",
    "s1 = \"%.2f %10.7g\" % (myPI, myInt)\n",
    "print(s1)\n",
    "\n",
    "s2 = \"{0:.2f} {1:10.7g}\".format(myPI, myInt)\n",
    "print(s2)\n",
    "\n",
    "s3 = f\"{myPI:.2f} {myInt:10.7g}\"\n",
    "print(s3)"
   ]
  },
  {
   "cell_type": "markdown",
   "id": "2b5a2319",
   "metadata": {},
   "source": [
    "# 시퀀스: 순서가 있는 자료구호\n",
    "## 리스트: mutable (요소의 치환 가능)\n",
    "* 리스트에 요소를 추가 또는 삭제"
   ]
  },
  {
   "cell_type": "code",
   "execution_count": 76,
   "id": "b2fd4c8f",
   "metadata": {},
   "outputs": [],
   "source": [
    "l = [1, 2, 3]\n",
    "# append, extend, insert"
   ]
  },
  {
   "cell_type": "code",
   "execution_count": 77,
   "id": "b5258618",
   "metadata": {},
   "outputs": [
    {
     "data": {
      "text/plain": [
       "[1, 2, 3, 4]"
      ]
     },
     "execution_count": 77,
     "metadata": {},
     "output_type": "execute_result"
    }
   ],
   "source": [
    "l.append(4)\n",
    "l"
   ]
  },
  {
   "cell_type": "code",
   "execution_count": 78,
   "id": "0f8e6925",
   "metadata": {},
   "outputs": [
    {
     "data": {
      "text/plain": [
       "[1, 2, 3, 4, [4, 5]]"
      ]
     },
     "execution_count": 78,
     "metadata": {},
     "output_type": "execute_result"
    }
   ],
   "source": [
    "l.append([4, 5])\n",
    "l"
   ]
  },
  {
   "cell_type": "code",
   "execution_count": 79,
   "id": "230e74ac",
   "metadata": {},
   "outputs": [
    {
     "ename": "TypeError",
     "evalue": "'int' object is not iterable",
     "output_type": "error",
     "traceback": [
      "\u001b[1;31m---------------------------------------------------------------------------\u001b[0m",
      "\u001b[1;31mTypeError\u001b[0m                                 Traceback (most recent call last)",
      "Input \u001b[1;32mIn [79]\u001b[0m, in \u001b[0;36m<cell line: 1>\u001b[1;34m()\u001b[0m\n\u001b[1;32m----> 1\u001b[0m \u001b[43ml\u001b[49m\u001b[38;5;241;43m.\u001b[39;49m\u001b[43mextend\u001b[49m\u001b[43m(\u001b[49m\u001b[38;5;241;43m4\u001b[39;49m\u001b[43m)\u001b[49m\n\u001b[0;32m      2\u001b[0m l\n",
      "\u001b[1;31mTypeError\u001b[0m: 'int' object is not iterable"
     ]
    }
   ],
   "source": [
    "l.extend(4)\n",
    "l"
   ]
  },
  {
   "cell_type": "code",
   "execution_count": 80,
   "id": "61d5359b",
   "metadata": {},
   "outputs": [
    {
     "data": {
      "text/plain": [
       "[1, 2, 3, 4, [4, 5], 4, 5]"
      ]
     },
     "execution_count": 80,
     "metadata": {},
     "output_type": "execute_result"
    }
   ],
   "source": [
    "l.extend([4, 5])\n",
    "l"
   ]
  },
  {
   "cell_type": "code",
   "execution_count": 81,
   "id": "1d7bc5e7",
   "metadata": {},
   "outputs": [
    {
     "data": {
      "text/plain": [
       "[1, 2, 3, 4, [4, 5], 4, 4, 5]"
      ]
     },
     "execution_count": 81,
     "metadata": {},
     "output_type": "execute_result"
    }
   ],
   "source": [
    "l.insert(-1, 4)\n",
    "l"
   ]
  },
  {
   "cell_type": "code",
   "execution_count": 82,
   "id": "783b09b1",
   "metadata": {},
   "outputs": [
    {
     "data": {
      "text/plain": [
       "[4, 1, 2, 3, 4, [4, 5], 4, 4, 5]"
      ]
     },
     "execution_count": 82,
     "metadata": {},
     "output_type": "execute_result"
    }
   ],
   "source": [
    "l.insert(0, 4)\n",
    "l"
   ]
  },
  {
   "cell_type": "code",
   "execution_count": 83,
   "id": "6b82322a",
   "metadata": {},
   "outputs": [
    {
     "data": {
      "text/plain": [
       "[4, 1, 2, 3, 4, [4, 5], 4, 4, 5]"
      ]
     },
     "execution_count": 83,
     "metadata": {},
     "output_type": "execute_result"
    }
   ],
   "source": [
    "# 리스트에서 요소 삭제 메소드 remove, pop\n",
    "l"
   ]
  },
  {
   "cell_type": "code",
   "execution_count": 84,
   "id": "8fdbef12",
   "metadata": {},
   "outputs": [
    {
     "data": {
      "text/plain": [
       "[4, 1, 2, 3, 4, [4, 5], 4, 4]"
      ]
     },
     "execution_count": 84,
     "metadata": {},
     "output_type": "execute_result"
    }
   ],
   "source": [
    "l.pop()\n",
    "l"
   ]
  },
  {
   "cell_type": "code",
   "execution_count": 85,
   "id": "de2a0358",
   "metadata": {},
   "outputs": [
    {
     "data": {
      "text/plain": [
       "[1, 2, 3, 4, [4, 5], 4, 4]"
      ]
     },
     "execution_count": 85,
     "metadata": {},
     "output_type": "execute_result"
    }
   ],
   "source": [
    "l.pop(0)\n",
    "l"
   ]
  },
  {
   "cell_type": "code",
   "execution_count": 86,
   "id": "761cbb57",
   "metadata": {},
   "outputs": [
    {
     "data": {
      "text/plain": [
       "[1, 2, 3, [4, 5], 4, 4]"
      ]
     },
     "execution_count": 86,
     "metadata": {},
     "output_type": "execute_result"
    }
   ],
   "source": [
    "l.remove(4)\n",
    "l"
   ]
  },
  {
   "cell_type": "markdown",
   "id": "3b63a293",
   "metadata": {},
   "source": [
    "## 리스트 내포"
   ]
  },
  {
   "cell_type": "code",
   "execution_count": 88,
   "id": "917210cf",
   "metadata": {},
   "outputs": [
    {
     "name": "stdout",
     "output_type": "stream",
     "text": [
      "[1, 4, 9]\n"
     ]
    }
   ],
   "source": [
    "lst = [1, 2, 3]\n",
    "lst2 = []\n",
    "for x in lst:\n",
    "    lst2.append(x**2)\n",
    "print(lst2)"
   ]
  },
  {
   "cell_type": "code",
   "execution_count": 90,
   "id": "9965c7a0",
   "metadata": {},
   "outputs": [
    {
     "name": "stdout",
     "output_type": "stream",
     "text": [
      "[1, 4, 9]\n"
     ]
    }
   ],
   "source": [
    "lst = [1, 2, 3]\n",
    "lst2 = [x**2 for x in lst]\n",
    "print(lst2)"
   ]
  },
  {
   "cell_type": "markdown",
   "id": "9096df53",
   "metadata": {},
   "source": [
    "## 실습: 리스트와 반복문\n",
    "* 다음의 주어진 리스트 l1의 요소 중에서 l2의 요소와 값이 같은 경우 삭제하는 파이썬 코드블럭을 작성하시오.\n",
    "* 결과 (l1)\n",
    "```\n",
    "['c', 'd']\n",
    "```"
   ]
  },
  {
   "cell_type": "code",
   "execution_count": 91,
   "id": "bf015cd6",
   "metadata": {},
   "outputs": [],
   "source": [
    "l1 = ['a', 'b', 'c', 'd', 'a', 'b', 'a', 'b']\n",
    "l2 = ['b', 'a']"
   ]
  },
  {
   "cell_type": "code",
   "execution_count": 92,
   "id": "e5756445",
   "metadata": {},
   "outputs": [
    {
     "name": "stdout",
     "output_type": "stream",
     "text": [
      "['c', 'd']\n"
     ]
    }
   ],
   "source": [
    "l1 = [\"a\",\"b\",\"c\", \"d\",\"a\",\"b\",\"a\",\"b\"]\n",
    "l2 = [\"b\", \"a\"]\n",
    "i=0\n",
    "while i < len(l1):\n",
    "     \n",
    "    for k in l2:\n",
    "        if l1[i] == k:\n",
    "            del l1[i]\n",
    "            i -= 1\n",
    "    i+=1\n",
    "print(l1)   "
   ]
  },
  {
   "cell_type": "code",
   "execution_count": 94,
   "id": "a224f28f",
   "metadata": {},
   "outputs": [
    {
     "name": "stdout",
     "output_type": "stream",
     "text": [
      "['c', 'd']\n"
     ]
    }
   ],
   "source": [
    "l1 = ['a', 'b', 'c', 'd', 'a', 'b', 'a', 'b']\n",
    "l2 = ['b', 'a']\n",
    "# while True:\n",
    "for v in l2:\n",
    "    while v in l1:\n",
    "        try:\n",
    "            l1.remove(v)\n",
    "        except Exception as e:\n",
    "            print(e)\n",
    "print(l1)"
   ]
  },
  {
   "cell_type": "code",
   "execution_count": 96,
   "id": "30fa242e",
   "metadata": {},
   "outputs": [
    {
     "name": "stdout",
     "output_type": "stream",
     "text": [
      "['c', 'd']\n"
     ]
    }
   ],
   "source": [
    "l1 = ['a','b','c','d','a','b','a','b']\n",
    "l2 = ['b','a']\n",
    "a = []\n",
    "b =0\n",
    "for i in l1:\n",
    "    for j in l2:\n",
    "        if i == j:\n",
    "            a.append(b)\n",
    "            #l1.pop(b)\n",
    "    b=b+1\n",
    "a.reverse()\n",
    "for i in a:\n",
    "    l1.pop(i)\n",
    "print(l1)"
   ]
  },
  {
   "cell_type": "code",
   "execution_count": 101,
   "id": "d9319ddd",
   "metadata": {},
   "outputs": [
    {
     "name": "stdout",
     "output_type": "stream",
     "text": [
      "['c', 'd']\n"
     ]
    }
   ],
   "source": [
    "l1 = ['a', 'b', 'c', 'd', 'a', 'b', 'a', 'b']\n",
    "l2 = ['b', 'a']\n",
    "l1c = l1.copy()\n",
    "for i in l1c:\n",
    "    if i in l2:\n",
    "        l1.remove(i)\n",
    "\n",
    "print(l1)"
   ]
  },
  {
   "cell_type": "markdown",
   "id": "9ecf3d53",
   "metadata": {},
   "source": [
    "# 리스트와 딕셔너리 비교"
   ]
  },
  {
   "cell_type": "code",
   "execution_count": 105,
   "id": "a34bfefc",
   "metadata": {},
   "outputs": [
    {
     "name": "stdout",
     "output_type": "stream",
     "text": [
      "20\n",
      "200\n"
     ]
    }
   ],
   "source": [
    "l = [10, 20, 30]\n",
    "print(l[1])\n",
    "l[1] = 200\n",
    "print(l[1])"
   ]
  },
  {
   "cell_type": "code",
   "execution_count": 103,
   "id": "fb64ac5a",
   "metadata": {},
   "outputs": [
    {
     "data": {
      "text/plain": [
       "20"
      ]
     },
     "execution_count": 103,
     "metadata": {},
     "output_type": "execute_result"
    }
   ],
   "source": [
    "d = {0:10, 1:20, 2:30}\n",
    "d[1]"
   ]
  },
  {
   "cell_type": "code",
   "execution_count": 106,
   "id": "187d2e2f",
   "metadata": {},
   "outputs": [
    {
     "name": "stdout",
     "output_type": "stream",
     "text": [
      "20\n",
      "200\n"
     ]
    }
   ],
   "source": [
    "d = {'id':10, 'age':20, 'footsize':30}\n",
    "print(d['age'])\n",
    "d['age'] = 200\n",
    "print(d['age'])"
   ]
  },
  {
   "cell_type": "markdown",
   "id": "9389e1e3",
   "metadata": {},
   "source": [
    "## 사전을 활용한 알파벳 별 빈도 구하기"
   ]
  },
  {
   "cell_type": "code",
   "execution_count": 108,
   "id": "bd2d2aba",
   "metadata": {},
   "outputs": [
    {
     "data": {
      "text/plain": [
       "{'l': 1,\n",
       " 'i': 3,\n",
       " 'f': 1,\n",
       " 'e': 2,\n",
       " 's': 5,\n",
       " 'h': 2,\n",
       " 'o': 3,\n",
       " 'r': 1,\n",
       " 't': 2,\n",
       " 'p': 1,\n",
       " 'y': 2,\n",
       " 'n': 1,\n",
       " 'a': 1}"
      ]
     },
     "execution_count": 108,
     "metadata": {},
     "output_type": "execute_result"
    }
   ],
   "source": [
    "s = 'life is short, so python is easy.'\n",
    "punct = ',. '\n",
    "d = {}\n",
    "\n",
    "for c in s:\n",
    "    if c in punct:\n",
    "        continue\n",
    "    d[c] = d.get(c, 0) + 1\n",
    "d"
   ]
  },
  {
   "cell_type": "code",
   "execution_count": 111,
   "id": "728e6db2",
   "metadata": {},
   "outputs": [
    {
     "data": {
      "text/plain": [
       "{'life': 1,\n",
       " 'short': 1,\n",
       " 'python': 1,\n",
       " 'easy': 1,\n",
       " 'he': 1,\n",
       " 'very': 1,\n",
       " 'nice': 1,\n",
       " 'person': 1}"
      ]
     },
     "execution_count": 111,
     "metadata": {},
     "output_type": "execute_result"
    }
   ],
   "source": [
    "# word count (단어빈도 구하기)\n",
    "s = 'life is short, so python is easy. he is very nice person.'\n",
    "s = s.lower()\n",
    "s = s.replace(',', '')\n",
    "s = s.replace('.', '')\n",
    "punct = ['is', 'so']\n",
    "d = {}\n",
    "\n",
    "for c in s.split(' '):\n",
    "    if c in punct:\n",
    "        continue\n",
    "    d[c] = d.get(c, 0) + 1\n",
    "d"
   ]
  },
  {
   "cell_type": "code",
   "execution_count": null,
   "id": "f5fa0a76",
   "metadata": {},
   "outputs": [],
   "source": []
  },
  {
   "cell_type": "code",
   "execution_count": null,
   "id": "04742278",
   "metadata": {},
   "outputs": [],
   "source": []
  },
  {
   "cell_type": "code",
   "execution_count": null,
   "id": "aeb145af",
   "metadata": {},
   "outputs": [],
   "source": []
  }
 ],
 "metadata": {
  "kernelspec": {
   "display_name": "Python 3 (ipykernel)",
   "language": "python",
   "name": "python3"
  },
  "language_info": {
   "codemirror_mode": {
    "name": "ipython",
    "version": 3
   },
   "file_extension": ".py",
   "mimetype": "text/x-python",
   "name": "python",
   "nbconvert_exporter": "python",
   "pygments_lexer": "ipython3",
   "version": "3.8.13"
  }
 },
 "nbformat": 4,
 "nbformat_minor": 5
}
