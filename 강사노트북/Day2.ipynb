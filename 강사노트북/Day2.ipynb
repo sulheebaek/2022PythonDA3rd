{
 "cells": [
  {
   "cell_type": "markdown",
   "id": "e6fabfed",
   "metadata": {},
   "source": [
    "# Day2: \n",
    "- numpy, pandas, matplotlib\n",
    "- sklearn(머신러닝), kNN, (나이브베이즈), 실습과제"
   ]
  },
  {
   "cell_type": "markdown",
   "id": "3c7a9fdb",
   "metadata": {},
   "source": [
    "## Numpy"
   ]
  },
  {
   "cell_type": "code",
   "execution_count": 1,
   "id": "a1a42e6e",
   "metadata": {},
   "outputs": [
    {
     "name": "stdout",
     "output_type": "stream",
     "text": [
      "(3,)\n",
      "(2, 3)\n"
     ]
    }
   ],
   "source": [
    "# 객체 생성\n",
    "from numpy import array\n",
    "a1 = array([10, 20, 30])\n",
    "a2 = array([[10, 20, 30], [40, 50, 60]])\n",
    "\n",
    "# 정보조회 (모양)\n",
    "print(a1.shape)\n",
    "print(a2.shape)"
   ]
  },
  {
   "cell_type": "code",
   "execution_count": 3,
   "id": "62b2ccc8",
   "metadata": {},
   "outputs": [
    {
     "name": "stdout",
     "output_type": "stream",
     "text": [
      "[10 20 30]\n"
     ]
    },
    {
     "data": {
      "text/plain": [
       "20"
      ]
     },
     "execution_count": 3,
     "metadata": {},
     "output_type": "execute_result"
    }
   ],
   "source": [
    "# 색인 (정수색인, 슬라이싱, 불리언색인, 팬시색인)\n",
    "# 정수색인 (차원축소)\n",
    "print(a1) # array.__str__()\n",
    "a1[1]"
   ]
  },
  {
   "cell_type": "code",
   "execution_count": 4,
   "id": "3e738a42",
   "metadata": {},
   "outputs": [
    {
     "data": {
      "text/plain": [
       "array([10, 20, 30])"
      ]
     },
     "execution_count": 4,
     "metadata": {},
     "output_type": "execute_result"
    }
   ],
   "source": [
    "a1 # array.__repr__()"
   ]
  },
  {
   "cell_type": "code",
   "execution_count": 11,
   "id": "b6d059cf",
   "metadata": {},
   "outputs": [
    {
     "data": {
      "text/plain": [
       "20"
      ]
     },
     "execution_count": 11,
     "metadata": {},
     "output_type": "execute_result"
    }
   ],
   "source": [
    "a2[0,1]"
   ]
  },
  {
   "cell_type": "code",
   "execution_count": 12,
   "id": "3f2d07c8",
   "metadata": {},
   "outputs": [
    {
     "data": {
      "text/plain": [
       "array([20, 30])"
      ]
     },
     "execution_count": 12,
     "metadata": {},
     "output_type": "execute_result"
    }
   ],
   "source": [
    "# 슬라이싱\n",
    "a1[1:]"
   ]
  },
  {
   "cell_type": "code",
   "execution_count": 16,
   "id": "5fb8318d",
   "metadata": {},
   "outputs": [
    {
     "data": {
      "text/plain": [
       "array([[20, 30]])"
      ]
     },
     "execution_count": 16,
     "metadata": {},
     "output_type": "execute_result"
    }
   ],
   "source": [
    "a2[:1, 1:]"
   ]
  },
  {
   "cell_type": "code",
   "execution_count": 18,
   "id": "8296bd1d",
   "metadata": {},
   "outputs": [
    {
     "data": {
      "text/plain": [
       "array([ True,  True, False])"
      ]
     },
     "execution_count": 18,
     "metadata": {},
     "output_type": "execute_result"
    }
   ],
   "source": [
    "# 불리언 색인\n",
    "a1 < 30 # 조건연산을 하면 조건이 참인 요소에 대해서만 True가 됨, 불리언배열"
   ]
  },
  {
   "cell_type": "code",
   "execution_count": 19,
   "id": "e6233413",
   "metadata": {},
   "outputs": [
    {
     "data": {
      "text/plain": [
       "array([10, 20])"
      ]
     },
     "execution_count": 19,
     "metadata": {},
     "output_type": "execute_result"
    }
   ],
   "source": [
    "a1[array([ True,  True, False])]"
   ]
  },
  {
   "cell_type": "code",
   "execution_count": 20,
   "id": "db0bf356",
   "metadata": {},
   "outputs": [
    {
     "data": {
      "text/plain": [
       "array([10, 20])"
      ]
     },
     "execution_count": 20,
     "metadata": {},
     "output_type": "execute_result"
    }
   ],
   "source": [
    "a1[a1 < 30]"
   ]
  },
  {
   "cell_type": "code",
   "execution_count": 21,
   "id": "f4028a1f",
   "metadata": {},
   "outputs": [
    {
     "data": {
      "text/plain": [
       "array([10, 20, 30])"
      ]
     },
     "execution_count": 21,
     "metadata": {},
     "output_type": "execute_result"
    }
   ],
   "source": [
    "# 팬시색인 (정렬)\n",
    "a1"
   ]
  },
  {
   "cell_type": "code",
   "execution_count": 23,
   "id": "6e64b51e",
   "metadata": {},
   "outputs": [
    {
     "data": {
      "text/plain": [
       "array([30, 10])"
      ]
     },
     "execution_count": 23,
     "metadata": {},
     "output_type": "execute_result"
    }
   ],
   "source": [
    "a1[[2, 0]]"
   ]
  },
  {
   "cell_type": "code",
   "execution_count": 24,
   "id": "87b53854",
   "metadata": {},
   "outputs": [
    {
     "data": {
      "text/plain": [
       "array([50, 70, 90])"
      ]
     },
     "execution_count": 24,
     "metadata": {},
     "output_type": "execute_result"
    }
   ],
   "source": [
    "## 연산 (유니버셜 함수)\n",
    "# a2의 열별 합계\n",
    "a2.sum(0)"
   ]
  },
  {
   "cell_type": "code",
   "execution_count": 25,
   "id": "a5656368",
   "metadata": {},
   "outputs": [
    {
     "data": {
      "text/plain": [
       "array([ 60, 150])"
      ]
     },
     "execution_count": 25,
     "metadata": {},
     "output_type": "execute_result"
    }
   ],
   "source": [
    "# a2의 행별 합계\n",
    "a2.sum(1)"
   ]
  },
  {
   "cell_type": "code",
   "execution_count": 26,
   "id": "913fdd2c",
   "metadata": {},
   "outputs": [
    {
     "data": {
      "text/plain": [
       "array([[13, 23, 33],\n",
       "       [43, 53, 63]])"
      ]
     },
     "execution_count": 26,
     "metadata": {},
     "output_type": "execute_result"
    }
   ],
   "source": [
    "# 브로드캐스팅: 연산가능한 모양으로 맞추는 기능\n",
    "a2 + 3"
   ]
  },
  {
   "cell_type": "code",
   "execution_count": 28,
   "id": "28edcb5f",
   "metadata": {},
   "outputs": [
    {
     "data": {
      "text/plain": [
       "array([[20, 40, 60],\n",
       "       [50, 70, 90]])"
      ]
     },
     "execution_count": 28,
     "metadata": {},
     "output_type": "execute_result"
    }
   ],
   "source": [
    "a2 + a1 # BC 가능한 모양: BC 방향을 추정할 수 있는 경우 \n",
    "# (2차원 열의 개수가 1차원의 요소 개수와 동일)"
   ]
  },
  {
   "cell_type": "code",
   "execution_count": 29,
   "id": "28ae6f88",
   "metadata": {},
   "outputs": [
    {
     "ename": "ValueError",
     "evalue": "operands could not be broadcast together with shapes (2,3) (2,) ",
     "output_type": "error",
     "traceback": [
      "\u001b[1;31m---------------------------------------------------------------------------\u001b[0m",
      "\u001b[1;31mValueError\u001b[0m                                Traceback (most recent call last)",
      "Input \u001b[1;32mIn [29]\u001b[0m, in \u001b[0;36m<cell line: 1>\u001b[1;34m()\u001b[0m\n\u001b[1;32m----> 1\u001b[0m \u001b[43ma2\u001b[49m\u001b[43m \u001b[49m\u001b[38;5;241;43m+\u001b[39;49m\u001b[43m \u001b[49m\u001b[43marray\u001b[49m\u001b[43m(\u001b[49m\u001b[43m[\u001b[49m\u001b[38;5;241;43m3\u001b[39;49m\u001b[43m,\u001b[49m\u001b[43m \u001b[49m\u001b[38;5;241;43m3\u001b[39;49m\u001b[43m]\u001b[49m\u001b[43m)\u001b[49m\n",
      "\u001b[1;31mValueError\u001b[0m: operands could not be broadcast together with shapes (2,3) (2,) "
     ]
    }
   ],
   "source": [
    "a2 + array([3, 3]) # BC 방향을 추정할 수 있는 경우 "
   ]
  },
  {
   "cell_type": "code",
   "execution_count": 32,
   "id": "a47297fc",
   "metadata": {},
   "outputs": [
    {
     "name": "stdout",
     "output_type": "stream",
     "text": [
      "(2, 2, 3)\n"
     ]
    }
   ],
   "source": [
    "import numpy as np\n",
    "a3 = np.arange(12).reshape(2, 2, 3)\n",
    "print(a3.shape)"
   ]
  },
  {
   "cell_type": "code",
   "execution_count": 33,
   "id": "e3950d64",
   "metadata": {},
   "outputs": [
    {
     "data": {
      "text/plain": [
       "array([[[ 0,  1,  2],\n",
       "        [ 3,  4,  5]],\n",
       "\n",
       "       [[ 6,  7,  8],\n",
       "        [ 9, 10, 11]]])"
      ]
     },
     "execution_count": 33,
     "metadata": {},
     "output_type": "execute_result"
    }
   ],
   "source": [
    "a3"
   ]
  },
  {
   "cell_type": "code",
   "execution_count": 37,
   "id": "38a190c8",
   "metadata": {},
   "outputs": [
    {
     "data": {
      "text/plain": [
       "array([[[ 0,  2,  4],\n",
       "        [ 6,  8, 10]],\n",
       "\n",
       "       [[ 6,  8, 10],\n",
       "        [12, 14, 16]]])"
      ]
     },
     "execution_count": 37,
     "metadata": {},
     "output_type": "execute_result"
    }
   ],
   "source": [
    "a3 + np.arange(6).reshape(1, 2, 3)"
   ]
  },
  {
   "cell_type": "code",
   "execution_count": 40,
   "id": "c2349299",
   "metadata": {},
   "outputs": [
    {
     "ename": "ValueError",
     "evalue": "operands could not be broadcast together with shapes (2,2,3) (4,2,3) ",
     "output_type": "error",
     "traceback": [
      "\u001b[1;31m---------------------------------------------------------------------------\u001b[0m",
      "\u001b[1;31mValueError\u001b[0m                                Traceback (most recent call last)",
      "Input \u001b[1;32mIn [40]\u001b[0m, in \u001b[0;36m<cell line: 2>\u001b[1;34m()\u001b[0m\n\u001b[0;32m      1\u001b[0m \u001b[38;5;66;03m# (2, 2, 3) + (4, 2, 3)\u001b[39;00m\n\u001b[1;32m----> 2\u001b[0m \u001b[43ma3\u001b[49m\u001b[43m \u001b[49m\u001b[38;5;241;43m+\u001b[39;49m\u001b[43m \u001b[49m\u001b[43mnp\u001b[49m\u001b[38;5;241;43m.\u001b[39;49m\u001b[43marange\u001b[49m\u001b[43m(\u001b[49m\u001b[38;5;241;43m24\u001b[39;49m\u001b[43m)\u001b[49m\u001b[38;5;241;43m.\u001b[39;49m\u001b[43mreshape\u001b[49m\u001b[43m(\u001b[49m\u001b[38;5;241;43m4\u001b[39;49m\u001b[43m,\u001b[49m\u001b[43m \u001b[49m\u001b[38;5;241;43m2\u001b[39;49m\u001b[43m,\u001b[49m\u001b[43m \u001b[49m\u001b[38;5;241;43m3\u001b[39;49m\u001b[43m)\u001b[49m\n",
      "\u001b[1;31mValueError\u001b[0m: operands could not be broadcast together with shapes (2,2,3) (4,2,3) "
     ]
    }
   ],
   "source": [
    "# (2, 2, 3) + (4, 2, 3)\n",
    "a3 + np.arange(24).reshape(4, 2, 3)"
   ]
  },
  {
   "cell_type": "code",
   "execution_count": 41,
   "id": "84ad6a1e",
   "metadata": {},
   "outputs": [
    {
     "data": {
      "text/plain": [
       "array([1400, 3200])"
      ]
     },
     "execution_count": 41,
     "metadata": {},
     "output_type": "execute_result"
    }
   ],
   "source": [
    "# 브로드캐스팅은 행렬곱과 같은 다른 연산에서도 가능함\n",
    "np.dot(a2, a1)"
   ]
  },
  {
   "cell_type": "code",
   "execution_count": 42,
   "id": "5f639116",
   "metadata": {},
   "outputs": [
    {
     "ename": "ValueError",
     "evalue": "shapes (2,3) and (2,) not aligned: 3 (dim 1) != 2 (dim 0)",
     "output_type": "error",
     "traceback": [
      "\u001b[1;31m---------------------------------------------------------------------------\u001b[0m",
      "\u001b[1;31mValueError\u001b[0m                                Traceback (most recent call last)",
      "Input \u001b[1;32mIn [42]\u001b[0m, in \u001b[0;36m<cell line: 1>\u001b[1;34m()\u001b[0m\n\u001b[1;32m----> 1\u001b[0m \u001b[43mnp\u001b[49m\u001b[38;5;241;43m.\u001b[39;49m\u001b[43mdot\u001b[49m\u001b[43m(\u001b[49m\u001b[43ma2\u001b[49m\u001b[43m,\u001b[49m\u001b[43m \u001b[49m\u001b[43marray\u001b[49m\u001b[43m(\u001b[49m\u001b[43m[\u001b[49m\u001b[38;5;241;43m3\u001b[39;49m\u001b[43m,\u001b[49m\u001b[43m \u001b[49m\u001b[38;5;241;43m3\u001b[39;49m\u001b[43m]\u001b[49m\u001b[43m)\u001b[49m\u001b[43m)\u001b[49m\n",
      "File \u001b[1;32m<__array_function__ internals>:5\u001b[0m, in \u001b[0;36mdot\u001b[1;34m(*args, **kwargs)\u001b[0m\n",
      "\u001b[1;31mValueError\u001b[0m: shapes (2,3) and (2,) not aligned: 3 (dim 1) != 2 (dim 0)"
     ]
    }
   ],
   "source": [
    "np.dot(a2, array([3, 3]))"
   ]
  },
  {
   "cell_type": "markdown",
   "id": "701e37b1",
   "metadata": {},
   "source": [
    "## 넘파이 응용"
   ]
  },
  {
   "cell_type": "code",
   "execution_count": 48,
   "id": "ed53f359",
   "metadata": {},
   "outputs": [
    {
     "name": "stdout",
     "output_type": "stream",
     "text": [
      "C:\\Users\\shbaek\\Downloads\\2022PythonDA3rd-main\\2022PythonDA3rd-main\\park.jpg\n"
     ]
    },
    {
     "data": {
      "text/plain": [
       "(150, 120, 3)"
      ]
     },
     "execution_count": 48,
     "metadata": {},
     "output_type": "execute_result"
    }
   ],
   "source": [
    "import matplotlib.pyplot as plt\n",
    "import os\n",
    "\n",
    "imgpath = os.path.join('C:\\\\','Users', 'shbaek', 'Downloads', '2022PythonDA3rd-main', '2022PythonDA3rd-main','park.jpg')\n",
    "print(imgpath)\n",
    "img = plt.imread(imgpath).copy()\n",
    "img.shape"
   ]
  },
  {
   "cell_type": "code",
   "execution_count": 49,
   "id": "c4a4c664",
   "metadata": {},
   "outputs": [
    {
     "data": {
      "text/plain": [
       "(150, 120, 3)"
      ]
     },
     "execution_count": 49,
     "metadata": {},
     "output_type": "execute_result"
    }
   ],
   "source": [
    "# 휴식 ~ 10:30\n",
    "import matplotlib.pyplot as plt\n",
    "import os\n",
    "\n",
    "img = plt.imread('image.png').copy()\n",
    "img.shape"
   ]
  },
  {
   "cell_type": "code",
   "execution_count": 50,
   "id": "99f042c2",
   "metadata": {},
   "outputs": [
    {
     "data": {
      "text/plain": [
       "'C:\\\\Users\\\\shbaek\\\\workshop'"
      ]
     },
     "execution_count": 50,
     "metadata": {},
     "output_type": "execute_result"
    }
   ],
   "source": [
    "%pwd"
   ]
  },
  {
   "cell_type": "code",
   "execution_count": 52,
   "id": "ac6fe7f2",
   "metadata": {},
   "outputs": [
    {
     "data": {
      "text/plain": [
       "'C:/workshop\\\\image.png'"
      ]
     },
     "execution_count": 52,
     "metadata": {},
     "output_type": "execute_result"
    }
   ],
   "source": [
    "import shutil\n",
    "shutil.copy('image.png', 'C:/workshop')"
   ]
  },
  {
   "cell_type": "code",
   "execution_count": null,
   "id": "5297032c",
   "metadata": {},
   "outputs": [],
   "source": []
  }
 ],
 "metadata": {
  "kernelspec": {
   "display_name": "Python 3 (ipykernel)",
   "language": "python",
   "name": "python3"
  },
  "language_info": {
   "codemirror_mode": {
    "name": "ipython",
    "version": 3
   },
   "file_extension": ".py",
   "mimetype": "text/x-python",
   "name": "python",
   "nbconvert_exporter": "python",
   "pygments_lexer": "ipython3",
   "version": "3.8.13"
  }
 },
 "nbformat": 4,
 "nbformat_minor": 5
}
