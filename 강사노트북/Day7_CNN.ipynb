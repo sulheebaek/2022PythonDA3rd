{
 "cells": [
  {
   "cell_type": "markdown",
   "id": "2f657918",
   "metadata": {},
   "source": [
    "# Day7\n",
    "* 이미지 전처리\n",
    "* 전이학습\n",
    "* 이미지 데이터 증강"
   ]
  },
  {
   "cell_type": "markdown",
   "id": "9e11f268",
   "metadata": {},
   "source": [
    "## 이미지 전처리: 컴퓨터 비전 (opencv)\n",
    "* 반드시 해야하는 전처리 (신경망의 input_shape에 맞추는 작업)\n",
    "    - cv2.resize()\n",
    "    - 컬러공간변환: cv2.cvtColor()\n",
    "    \n",
    "* 선택적으로 할 수 있는 전처리\n",
    "    - 화질개선: 정규화, 히스토그램 평활화, 잡음제거(가우시안 필터)\n",
    "    - 객체강조: 마스킹(이진화), 모폴로지"
   ]
  },
  {
   "cell_type": "markdown",
   "id": "b9a63dc4",
   "metadata": {},
   "source": [
    "# opencv-python 설치\n",
    "* 아나콘다 프롬프트에서 \n",
    "    - 가상환경 활성화: conda activate mytf23\n",
    "    - opencv-python 설치: pip install opencv-python "
   ]
  },
  {
   "cell_type": "code",
   "execution_count": null,
   "id": "edea09ba",
   "metadata": {},
   "outputs": [],
   "source": [
    "!pip install opencv-python"
   ]
  },
  {
   "cell_type": "code",
   "execution_count": null,
   "id": "7a12b293",
   "metadata": {},
   "outputs": [],
   "source": [
    "import cv2\n",
    "cv2.__version__"
   ]
  },
  {
   "cell_type": "code",
   "execution_count": null,
   "id": "e68f5240",
   "metadata": {},
   "outputs": [],
   "source": [
    "import matplotlib.pyplot as plt\n",
    "def myimshow(array):\n",
    "    fig, ax = plt.subplots(1, 1)\n",
    "    ax.imshow(array[:,:,::-1])    \n",
    "    # plt.show()\n",
    "    return fig"
   ]
  },
  {
   "cell_type": "code",
   "execution_count": null,
   "id": "2b2347eb",
   "metadata": {},
   "outputs": [],
   "source": [
    "import cv2\n",
    "src = cv2.imread('datasets/park.jpg')\n",
    "print(type(src), src.shape)\n",
    "myimshow(src)\n",
    "plt.show()"
   ]
  },
  {
   "cell_type": "markdown",
   "id": "c99f080c",
   "metadata": {},
   "source": [
    "## 크기 조정 (resize)"
   ]
  },
  {
   "cell_type": "code",
   "execution_count": null,
   "id": "d150e545",
   "metadata": {},
   "outputs": [],
   "source": [
    "import cv2\n",
    "import matplotlib.pyplot as plt\n",
    "src = cv2.imread('datasets/park.jpg')\n",
    "dst = cv2.resize(src, dsize=(28, 28))\n",
    "fig1 = myimshow(src)\n",
    "fig2 = myimshow(dst)\n",
    "plt.show()"
   ]
  },
  {
   "cell_type": "code",
   "execution_count": null,
   "id": "da56d882",
   "metadata": {},
   "outputs": [],
   "source": [
    "%matplotlib inline"
   ]
  },
  {
   "cell_type": "code",
   "execution_count": null,
   "id": "ba1c0779",
   "metadata": {},
   "outputs": [],
   "source": [
    "gray = cv2.cvtColor(dst, cv2.COLOR_BGR2GRAY)\n",
    "plt.imshow(gray, cmap='gray')\n",
    "plt.show()"
   ]
  },
  {
   "cell_type": "code",
   "execution_count": null,
   "id": "d5ed0f80",
   "metadata": {},
   "outputs": [],
   "source": [
    "gray[5:10, 10:15]"
   ]
  },
  {
   "cell_type": "code",
   "execution_count": null,
   "id": "40309aeb",
   "metadata": {},
   "outputs": [],
   "source": [
    "plt.imshow(gray[0:10, 0:15], cmap='gray')"
   ]
  },
  {
   "cell_type": "code",
   "execution_count": null,
   "id": "24cce295",
   "metadata": {},
   "outputs": [],
   "source": [
    "linear = cv2.resize(gray[5:10, 10:15], dsize=(10, 10))\n",
    "linear"
   ]
  },
  {
   "cell_type": "code",
   "execution_count": null,
   "id": "54d55830",
   "metadata": {},
   "outputs": [],
   "source": [
    "cv2.resize?"
   ]
  },
  {
   "cell_type": "code",
   "execution_count": null,
   "id": "acfd20f7",
   "metadata": {},
   "outputs": [],
   "source": [
    "cv2.INTER*?"
   ]
  },
  {
   "cell_type": "code",
   "execution_count": null,
   "id": "45f4e482",
   "metadata": {},
   "outputs": [],
   "source": [
    "gray[5:10, 10:15]"
   ]
  },
  {
   "cell_type": "code",
   "execution_count": null,
   "id": "80e6a8a3",
   "metadata": {},
   "outputs": [],
   "source": [
    "nearest = cv2.resize(gray[5:10, 10:15], dsize=(10, 10), interpolation=cv2.INTER_NEAREST)\n",
    "nearest"
   ]
  },
  {
   "cell_type": "code",
   "execution_count": null,
   "id": "7d8d26ad",
   "metadata": {},
   "outputs": [],
   "source": [
    "cv2.resize?"
   ]
  },
  {
   "cell_type": "code",
   "execution_count": null,
   "id": "1ce139ff",
   "metadata": {
    "scrolled": true
   },
   "outputs": [],
   "source": [
    "# 비율 기준으로 리사이즈\n",
    "\n",
    "import cv2\n",
    "import matplotlib.pyplot as plt\n",
    "src = cv2.imread('datasets/park.jpg')\n",
    "dst = cv2.resize(src, dsize=(0, 0), fx=1.5, fy=1.2)\n",
    "fig1 = myimshow(src)\n",
    "fig2 = myimshow(dst)\n",
    "plt.show()"
   ]
  },
  {
   "cell_type": "markdown",
   "id": "ad2581ff",
   "metadata": {},
   "source": [
    "## 컬러공간 변환"
   ]
  },
  {
   "cell_type": "code",
   "execution_count": null,
   "id": "c070574e",
   "metadata": {},
   "outputs": [],
   "source": [
    "cv2.cvtColor?"
   ]
  },
  {
   "cell_type": "code",
   "execution_count": null,
   "id": "9898ffa2",
   "metadata": {},
   "outputs": [],
   "source": [
    "# 컬러변환 코드\n",
    "cv2.COLOR_*?"
   ]
  },
  {
   "cell_type": "code",
   "execution_count": null,
   "id": "5d00bfbc",
   "metadata": {},
   "outputs": [],
   "source": [
    "# BGR => GRAY 변환코드\n",
    "cv2.COLOR_BGR2GRAY"
   ]
  },
  {
   "cell_type": "code",
   "execution_count": null,
   "id": "badfbe0c",
   "metadata": {},
   "outputs": [],
   "source": [
    "# BGR => RGB 변환코드\n",
    "cv2.COLOR_BGR2RGB"
   ]
  },
  {
   "cell_type": "code",
   "execution_count": null,
   "id": "32b6235b",
   "metadata": {},
   "outputs": [],
   "source": [
    "cv2.COLOR_BGR*?"
   ]
  },
  {
   "cell_type": "code",
   "execution_count": null,
   "id": "20dc53db",
   "metadata": {},
   "outputs": [],
   "source": [
    "cv2.COLOR_BGR2*?"
   ]
  },
  {
   "cell_type": "code",
   "execution_count": null,
   "id": "c1e5645f",
   "metadata": {},
   "outputs": [],
   "source": [
    "rgba = cv2.cvtColor(src, cv2.COLOR_BGR2RGBA)\n",
    "print(rgba.shape)"
   ]
  },
  {
   "cell_type": "code",
   "execution_count": null,
   "id": "9887e146",
   "metadata": {},
   "outputs": [],
   "source": [
    "rgba[0:20, 0:20, 3] = 50\n",
    "plt.imshow(rgba)\n",
    "plt.show()"
   ]
  },
  {
   "cell_type": "markdown",
   "id": "b7a066be",
   "metadata": {},
   "source": [
    "## 정규화"
   ]
  },
  {
   "cell_type": "code",
   "execution_count": null,
   "id": "c628a1a6",
   "metadata": {},
   "outputs": [],
   "source": [
    "f = myimshow(src)"
   ]
  },
  {
   "cell_type": "code",
   "execution_count": null,
   "id": "7f4bcc2c",
   "metadata": {},
   "outputs": [],
   "source": [
    "cv2.normalize?"
   ]
  },
  {
   "cell_type": "code",
   "execution_count": null,
   "id": "4fa33a5f",
   "metadata": {},
   "outputs": [],
   "source": [
    "cv2.normalize?"
   ]
  },
  {
   "cell_type": "code",
   "execution_count": null,
   "id": "ff5b14a7",
   "metadata": {},
   "outputs": [],
   "source": [
    "cv2.CV*?"
   ]
  },
  {
   "cell_type": "code",
   "execution_count": null,
   "id": "de36b314",
   "metadata": {},
   "outputs": [],
   "source": [
    "cv2.CV_*?"
   ]
  },
  {
   "cell_type": "code",
   "execution_count": null,
   "id": "ddb8d1a6",
   "metadata": {},
   "outputs": [],
   "source": [
    "import cv2\n",
    "import matplotlib.pyplot as plt\n",
    "src = cv2.imread('datasets/park.jpg')\n",
    "gray = cv2.cvtColor(src, cv2.COLOR_BGR2GRAY)\n",
    "cloudy = cv2.normalize(gray, None, \n",
    "                       0.0, 1.0, cv2.NORM_MINMAX, cv2.CV_32F) # 정규화\n",
    "\n",
    "print(cv2.minMaxLoc(gray))\n",
    "print(cv2.minMaxLoc(cloudy))\n",
    "\n",
    "fig, ax = plt.subplots(1, 2)\n",
    "ax[0].imshow(gray, cmap='gray')\n",
    "ax[1].imshow(cloudy, cmap='gray')\n",
    "plt.show()"
   ]
  },
  {
   "cell_type": "code",
   "execution_count": null,
   "id": "47111d13",
   "metadata": {},
   "outputs": [],
   "source": [
    "cv2.CV*?"
   ]
  },
  {
   "cell_type": "code",
   "execution_count": null,
   "id": "167678ef",
   "metadata": {},
   "outputs": [],
   "source": [
    "import cv2\n",
    "import matplotlib.pyplot as plt\n",
    "src = cv2.imread('datasets/park.jpg')\n",
    "gray = cv2.cvtColor(src, cv2.COLOR_BGR2GRAY)\n",
    "cloudy = cv2.normalize(gray, None, \n",
    "                       100, 105, cv2.NORM_MINMAX, cv2.CV_8U) # 정규화\n",
    "\n",
    "print(cv2.minMaxLoc(gray))\n",
    "print(cv2.minMaxLoc(cloudy))\n",
    "\n",
    "fig, ax = plt.subplots(1, 2)\n",
    "ax[0].imshow(gray, cmap='gray')\n",
    "ax[1].imshow(cloudy, cmap='gray')\n",
    "plt.show()"
   ]
  },
  {
   "cell_type": "markdown",
   "id": "53b1f59c",
   "metadata": {},
   "source": [
    "## 히스토그램 평활화"
   ]
  },
  {
   "cell_type": "code",
   "execution_count": null,
   "id": "bd971a2e",
   "metadata": {},
   "outputs": [],
   "source": [
    "import cv2\n",
    "import matplotlib.pyplot as plt\n",
    "src = cv2.imread('datasets/park.jpg')\n",
    "gray = cv2.cvtColor(src, cv2.COLOR_BGR2GRAY)\n",
    "dst = cv2.equalizeHist(gray) # 히스토그램 평활화\n",
    "\n",
    "print(cv2.minMaxLoc(gray))\n",
    "print(cv2.minMaxLoc(dst))\n",
    "\n",
    "fig, ax = plt.subplots(1, 2)\n",
    "ax[0].imshow(gray, cmap='gray')\n",
    "ax[1].imshow(dst, cmap='gray')\n",
    "plt.show()"
   ]
  },
  {
   "cell_type": "markdown",
   "id": "14e3c4ae",
   "metadata": {},
   "source": [
    "## 잡음제거(가우시안 필터)"
   ]
  },
  {
   "cell_type": "code",
   "execution_count": null,
   "id": "532339d2",
   "metadata": {},
   "outputs": [],
   "source": [
    "cv2.GaussianBlur?"
   ]
  },
  {
   "cell_type": "code",
   "execution_count": null,
   "id": "df9cc952",
   "metadata": {},
   "outputs": [],
   "source": [
    "import cv2\n",
    "import matplotlib.pyplot as plt\n",
    "src = cv2.imread('datasets/park.jpg')\n",
    "gray = cv2.cvtColor(src, cv2.COLOR_BGR2GRAY)\n",
    "dst1 = cv2.GaussianBlur(gray, (3,3), 1.0) # 가우시안 필터링\n",
    "dst2 = cv2.GaussianBlur(gray, (0,0), 1.0) # 가우시안 필터링\n",
    "dst3 = cv2.GaussianBlur(gray, (0,0), 10.0) # 가우시안 필터링\n",
    "\n",
    "fig, ax = plt.subplots(1, 4)\n",
    "ax[0].imshow(gray, cmap='gray')\n",
    "ax[1].imshow(dst1, cmap='gray')\n",
    "ax[2].imshow(dst2, cmap='gray')\n",
    "ax[3].imshow(dst3, cmap='gray')\n",
    "plt.show()"
   ]
  },
  {
   "cell_type": "markdown",
   "id": "3b24c472",
   "metadata": {},
   "source": [
    "## 이진화"
   ]
  },
  {
   "cell_type": "code",
   "execution_count": null,
   "id": "2132fe48",
   "metadata": {},
   "outputs": [],
   "source": [
    "cv2.threshold?"
   ]
  },
  {
   "cell_type": "code",
   "execution_count": null,
   "id": "a04c8027",
   "metadata": {
    "scrolled": true
   },
   "outputs": [],
   "source": [
    "import cv2\n",
    "import matplotlib.pyplot as plt\n",
    "src = cv2.imread('datasets/park.jpg')\n",
    "gray = cv2.cvtColor(src, cv2.COLOR_BGR2GRAY)\n",
    "#ret, bImage = cv2.threshold(gray, 100, 255, cv2.THRESH_BINARY) #  이진화\n",
    "ret, bImage = cv2.threshold(gray, 100, 255, \n",
    "                            cv2.THRESH_BINARY | cv2.THRESH_OTSU) # 오츠알고리즘\n",
    "print('ret:',ret)\n",
    "\n",
    "fig, ax = plt.subplots(1,2)\n",
    "ax[0].imshow(gray, cmap='gray')\n",
    "ax[1].imshow(bImage, cmap='gray')\n",
    "plt.show()"
   ]
  },
  {
   "cell_type": "markdown",
   "id": "68ffb880",
   "metadata": {},
   "source": [
    "\n",
    "## 마스킹"
   ]
  },
  {
   "cell_type": "code",
   "execution_count": null,
   "id": "b428ad30",
   "metadata": {},
   "outputs": [],
   "source": [
    "cv2.inRange?"
   ]
  },
  {
   "cell_type": "code",
   "execution_count": null,
   "id": "fcb829bf",
   "metadata": {},
   "outputs": [],
   "source": [
    "import cv2\n",
    "import matplotlib.pyplot as plt\n",
    "src = cv2.imread('datasets/graphleaf.JPG')\n",
    "hsv = cv2.cvtColor(src, cv2.COLOR_BGR2HSV)\n",
    "bImage = cv2.inRange(hsv, (120, 0, 0), (180, 255, 255)) \n",
    "# 컬러피커로 정확한 lower boundary와 upper boundary를 먼저 찾아서 적용\n",
    "print('ret:',ret)\n",
    "\n",
    "fig, ax = plt.subplots(1,2)\n",
    "ax[0].imshow(gray, cmap='gray')\n",
    "ax[1].imshow(bImage, cmap='gray')\n",
    "plt.show()"
   ]
  },
  {
   "cell_type": "code",
   "execution_count": null,
   "id": "8e07ac33",
   "metadata": {},
   "outputs": [],
   "source": [
    "cv2.THRESH_BINARY_INV"
   ]
  },
  {
   "cell_type": "code",
   "execution_count": null,
   "id": "e76598f0",
   "metadata": {},
   "outputs": [],
   "source": [
    "cv2.THRESH_OTSU"
   ]
  },
  {
   "cell_type": "code",
   "execution_count": null,
   "id": "565c3f0e",
   "metadata": {},
   "outputs": [],
   "source": [
    "cv2.IMREAD*?"
   ]
  },
  {
   "cell_type": "code",
   "execution_count": null,
   "id": "b240fe17",
   "metadata": {},
   "outputs": [],
   "source": [
    "import cv2\n",
    "import matplotlib.pyplot as plt\n",
    "src = cv2.imread('datasets/graphleaf.JPG')\n",
    "gray = cv2.cvtColor(src, cv2.COLOR_BGR2GRAY)\n",
    "#ret, bImage = cv2.threshold(gray, 100, 255, cv2.THRESH_BINARY) #  이진화\n",
    "ret, bImage = cv2.threshold(gray, 100, 255, \n",
    "                            cv2.THRESH_BINARY_INV | cv2.THRESH_OTSU) # 오츠알고리즘\n",
    "print('ret:',ret)\n",
    "\n",
    "fig, ax = plt.subplots(1,2)\n",
    "ax[0].imshow(gray, cmap='gray')\n",
    "ax[1].imshow(bImage, cmap='gray')\n",
    "plt.show()"
   ]
  },
  {
   "cell_type": "code",
   "execution_count": null,
   "id": "0e1181c2",
   "metadata": {},
   "outputs": [],
   "source": [
    "# 마스킹\n",
    "dst = cv2.bitwise_and(src, src, mask=bImage)\n",
    "plt.imshow(dst)\n",
    "plt.show()"
   ]
  },
  {
   "cell_type": "markdown",
   "id": "88c7a8ff",
   "metadata": {},
   "source": [
    "## 모폴로지 (이진영상의 모양정리)"
   ]
  },
  {
   "cell_type": "code",
   "execution_count": null,
   "id": "af286757",
   "metadata": {},
   "outputs": [],
   "source": [
    "cv2.*RECT*?"
   ]
  },
  {
   "cell_type": "code",
   "execution_count": null,
   "id": "db849b31",
   "metadata": {},
   "outputs": [],
   "source": [
    "cv2.morphologyEx?"
   ]
  },
  {
   "cell_type": "code",
   "execution_count": null,
   "id": "0b7db801",
   "metadata": {},
   "outputs": [],
   "source": [
    "cv2.MORPH_*?"
   ]
  },
  {
   "cell_type": "code",
   "execution_count": null,
   "id": "ff949460",
   "metadata": {},
   "outputs": [],
   "source": [
    "import cv2\n",
    "\n",
    "kernel = cv2.getStructuringElement(cv2.MORPH_RECT, (3,3))\n",
    "dst1 = cv2.erode(bImage, kernel) # 침식\n",
    "dst2 = cv2.dilate(bImage, kernel) # 팽창\n",
    "dst3 = cv2.morphologyEx(bImage, cv2.MORPH_OPEN, kernel) # 열기\n",
    "dst4 = cv2.morphologyEx(bImage, cv2.MORPH_CLOSE, kernel) # 닫기\n",
    "\n",
    "fig, ax = plt.subplots(1, 5, figsize=(20, 4))\n",
    "ax[0].imshow(bImage, cmap='gray')\n",
    "ax[1].imshow(dst1, cmap='gray')\n",
    "ax[2].imshow(dst2, cmap='gray')\n",
    "ax[3].imshow(dst3, cmap='gray')\n",
    "ax[4].imshow(dst4, cmap='gray')\n",
    "plt.show()"
   ]
  },
  {
   "cell_type": "code",
   "execution_count": null,
   "id": "13915432",
   "metadata": {},
   "outputs": [],
   "source": [
    "# 마스킹\n",
    "dst = cv2.bitwise_and(src, src, mask=dst2)\n",
    "plt.imshow(dst)\n",
    "plt.show()"
   ]
  },
  {
   "cell_type": "code",
   "execution_count": null,
   "id": "d184df25",
   "metadata": {},
   "outputs": [],
   "source": [
    "fig = myimshow(dst) # 마스크이미지를 RGB 채널 순서 맞춰 보여주기"
   ]
  },
  {
   "cell_type": "markdown",
   "id": "e73a6f17",
   "metadata": {},
   "source": [
    "# 전이학습"
   ]
  },
  {
   "cell_type": "markdown",
   "id": "8aeaebd0",
   "metadata": {},
   "source": [
    "전이학습(transfer learning): \n",
    "- 방대한 자료를 사용하여 미리 학습한 가중치를 가져와 내 프로젝트에 사용하는 방법\n",
    "- 해당 영역(도메인)에서 정해진 작업을 잘 하는 검증된 신경망 아키텍처를 활용하는 방법\n"
   ]
  },
  {
   "cell_type": "code",
   "execution_count": null,
   "id": "31c21a46",
   "metadata": {},
   "outputs": [],
   "source": [
    "preprocess_input?"
   ]
  },
  {
   "cell_type": "code",
   "execution_count": null,
   "id": "79d4a018",
   "metadata": {},
   "outputs": [],
   "source": [
    "from tensorflow.keras.applications.resnet50 import ResNet50\n",
    "from tensorflow.keras.preprocessing import image\n",
    "from tensorflow.keras.applications.resnet50 import preprocess_input, decode_predictions\n",
    "import numpy as np"
   ]
  },
  {
   "cell_type": "code",
   "execution_count": null,
   "id": "5281cb92",
   "metadata": {},
   "outputs": [],
   "source": [
    "ResNet50?"
   ]
  },
  {
   "cell_type": "code",
   "execution_count": null,
   "id": "53e38fb0",
   "metadata": {},
   "outputs": [],
   "source": [
    "model = ResNet50(weights='imagenet')\n",
    "model.summary()"
   ]
  },
  {
   "cell_type": "code",
   "execution_count": null,
   "id": "fb596436",
   "metadata": {},
   "outputs": [],
   "source": [
    "img_path = 'elephant.jpg'\n",
    "img = image.load_img(img_path, target_size=(224, 224)) # 이미지 읽어들이며 리사이즈\n",
    "print(type(img))\n",
    "\n",
    "x = image.img_to_array(img) # PIL Image객체를 np array로 변환\n",
    "print(type(x), x.shape)\n",
    "x = np.expand_dims(x, axis=0) # 3차원 배열을 4차원 배열로 차원 증가\n",
    "x = preprocess_input(x) # 컬러채널이 제일 마지막 채널이 되도록 해줌\n",
    "\n",
    "preds = model.predict(x)\n",
    "# decode the results into a list of tuples (class, description, probability)\n",
    "# (one such list for each sample in the batch)\n",
    "\n",
    "# print('preds: ', preds)\n",
    "print('Predicted:', decode_predictions(preds, top=10)[0])\n",
    "# Predicted: [(u'n02504013', u'Indian_elephant', 0.82658225), (u'n01871265', u'tusker', 0.1122"
   ]
  },
  {
   "cell_type": "code",
   "execution_count": null,
   "id": "638ffe92",
   "metadata": {},
   "outputs": [],
   "source": [
    "np.where(preds>0.01)"
   ]
  },
  {
   "cell_type": "code",
   "execution_count": null,
   "id": "1b2b7218",
   "metadata": {},
   "outputs": [],
   "source": []
  },
  {
   "cell_type": "markdown",
   "id": "58d65926",
   "metadata": {},
   "source": [
    "# 우리의 작업에 맞추는 방법"
   ]
  },
  {
   "cell_type": "code",
   "execution_count": null,
   "id": "a8bb102c",
   "metadata": {},
   "outputs": [],
   "source": [
    "ResNet50?"
   ]
  },
  {
   "cell_type": "code",
   "execution_count": null,
   "id": "dfd0ffdc",
   "metadata": {},
   "outputs": [],
   "source": [
    "Dense?"
   ]
  },
  {
   "cell_type": "code",
   "execution_count": null,
   "id": "719da42e",
   "metadata": {},
   "outputs": [],
   "source": [
    "from tensorflow.keras.layers import Dense, Dropout\n",
    "from tensorflow.keras.models import Sequential"
   ]
  },
  {
   "cell_type": "code",
   "execution_count": null,
   "id": "2615bcf8",
   "metadata": {},
   "outputs": [],
   "source": [
    "Dropout?"
   ]
  },
  {
   "cell_type": "code",
   "execution_count": null,
   "id": "501d36ad",
   "metadata": {},
   "outputs": [],
   "source": [
    "model = Sequential()\n",
    "resnet = ResNet50(include_top=False, weights='imagenet', input_shape=(100, 100, 3))\n",
    "model.add(resnet)\n",
    "model.add(Dense(4, activation=\"softmax\"))\n",
    "model.summary()"
   ]
  },
  {
   "cell_type": "code",
   "execution_count": null,
   "id": "3f79b7ab",
   "metadata": {},
   "outputs": [],
   "source": [
    "from tensorflow import keras\n",
    "keras.__version__"
   ]
  },
  {
   "cell_type": "code",
   "execution_count": null,
   "id": "d132f72c",
   "metadata": {},
   "outputs": [],
   "source": [
    "from tensorflow.keras import utils\n",
    "utils.to_categorical"
   ]
  },
  {
   "cell_type": "code",
   "execution_count": null,
   "id": "dda2b2e5",
   "metadata": {},
   "outputs": [],
   "source": [
    "from tensorflow.keras.preprocessing import image\n",
    "image.load_img?"
   ]
  },
  {
   "cell_type": "code",
   "execution_count": null,
   "id": "c2443c7d",
   "metadata": {},
   "outputs": [],
   "source": [
    "to_categorical?"
   ]
  },
  {
   "cell_type": "code",
   "execution_count": 6,
   "id": "79c46b4c",
   "metadata": {},
   "outputs": [],
   "source": [
    "# %load CNNBaseline.py\n",
    "from tensorflow.keras.datasets import mnist\n",
    "from tensorflow.keras.utils import to_categorical\n",
    "from tensorflow.keras.models import Sequential\n",
    "from tensorflow.keras.layers import Dense, Dropout, Flatten, Conv2D, MaxPooling2D\n",
    "from tensorflow.keras.preprocessing import image\n",
    "import matplotlib.pyplot as plt\n",
    "import numpy\n",
    "import os\n",
    "import tensorflow as tf\n",
    "\n",
    "# seed 설정\n",
    "seed = 0\n",
    "numpy.random.seed(seed)\n",
    "tf.random.set_seed(seed)\n",
    "\n",
    "# 데이터 불러오기\n",
    "# (X_train, y_train), (X_test, y_test) = mnist.load_data()\n",
    "# X_train = X_train.reshape(X_train.shape[0], 28, 28, 1).astype('float32')/255\n",
    "# X_test = X_test.reshape(X_test.shape[0], 28, 28, 1).astype('float32')/255\n",
    "# y_train = np_utils.to_categorical(y_train)\n",
    "# y_test = np_utils.to_categorical(y_test)\n",
    "\n",
    "# 데이터 준비\n",
    "import os\n",
    "import numpy as np\n",
    "\n",
    "train_dir = 'Grape/train'\n",
    "test_dir = 'Grape/test'\n",
    "WIDTH, HEIGHT, CHANNELS = 256, 256, 3\n",
    "\n",
    "# 이미지 전처리 함수 정의\n",
    "def imagePrep(dir_, HEIGHT, WIDTH):\n",
    "    dirs = os.listdir(dir_)\n",
    "    \n",
    "    X_train = []\n",
    "    y_train = []\n",
    "    \n",
    "    for i, d in enumerate(dirs):\n",
    "        for fname in os.listdir(os.path.join(dir_, d)):\n",
    "            fpath = os.path.join(dir_, d, fname)\n",
    "            img = image.load_img(fpath, target_size=(HEIGHT, WIDTH)) # 이미지 읽어들이며 리사이즈\n",
    "            img_ = image.img_to_array(img) # PIL Image객체를 np array로 변환\n",
    "            X_train.append(img_/255.0)\n",
    "            y_train.append(i)\n",
    "    X_train = np.array(X_train)\n",
    "    y_train = np.array(y_train)\n",
    "    y_train = to_categorical(y_train)\n",
    "    return X_train, y_train"
   ]
  },
  {
   "cell_type": "code",
   "execution_count": 7,
   "id": "894bfb03",
   "metadata": {},
   "outputs": [
    {
     "name": "stdout",
     "output_type": "stream",
     "text": [
      "(167, 256, 256, 3) (167, 4)\n",
      "(32, 256, 256, 3) (32, 4)\n"
     ]
    }
   ],
   "source": [
    "X_train, y_train = imagePrep(train_dir, HEIGHT, WIDTH)\n",
    "X_test, y_test = imagePrep(test_dir, HEIGHT, WIDTH)\n",
    "print(X_train.shape, y_train.shape)\n",
    "print(X_test.shape, y_test.shape)"
   ]
  },
  {
   "cell_type": "code",
   "execution_count": 8,
   "id": "5c75def2",
   "metadata": {},
   "outputs": [
    {
     "data": {
      "text/plain": [
       "array([1., 0., 0., 0.], dtype=float32)"
      ]
     },
     "execution_count": 8,
     "metadata": {},
     "output_type": "execute_result"
    }
   ],
   "source": [
    "y_train[0]"
   ]
  },
  {
   "cell_type": "code",
   "execution_count": 9,
   "id": "aa734d9a",
   "metadata": {},
   "outputs": [
    {
     "name": "stdout",
     "output_type": "stream",
     "text": [
      "Model: \"vgg16\"\n",
      "_________________________________________________________________\n",
      "Layer (type)                 Output Shape              Param #   \n",
      "=================================================================\n",
      "input_2 (InputLayer)         [(None, 256, 256, 3)]     0         \n",
      "_________________________________________________________________\n",
      "block1_conv1 (Conv2D)        (None, 256, 256, 64)      1792      \n",
      "_________________________________________________________________\n",
      "block1_conv2 (Conv2D)        (None, 256, 256, 64)      36928     \n",
      "_________________________________________________________________\n",
      "block1_pool (MaxPooling2D)   (None, 128, 128, 64)      0         \n",
      "_________________________________________________________________\n",
      "block2_conv1 (Conv2D)        (None, 128, 128, 128)     73856     \n",
      "_________________________________________________________________\n",
      "block2_conv2 (Conv2D)        (None, 128, 128, 128)     147584    \n",
      "_________________________________________________________________\n",
      "block2_pool (MaxPooling2D)   (None, 64, 64, 128)       0         \n",
      "_________________________________________________________________\n",
      "block3_conv1 (Conv2D)        (None, 64, 64, 256)       295168    \n",
      "_________________________________________________________________\n",
      "block3_conv2 (Conv2D)        (None, 64, 64, 256)       590080    \n",
      "_________________________________________________________________\n",
      "block3_conv3 (Conv2D)        (None, 64, 64, 256)       590080    \n",
      "_________________________________________________________________\n",
      "block3_pool (MaxPooling2D)   (None, 32, 32, 256)       0         \n",
      "_________________________________________________________________\n",
      "block4_conv1 (Conv2D)        (None, 32, 32, 512)       1180160   \n",
      "_________________________________________________________________\n",
      "block4_conv2 (Conv2D)        (None, 32, 32, 512)       2359808   \n",
      "_________________________________________________________________\n",
      "block4_conv3 (Conv2D)        (None, 32, 32, 512)       2359808   \n",
      "_________________________________________________________________\n",
      "block4_pool (MaxPooling2D)   (None, 16, 16, 512)       0         \n",
      "_________________________________________________________________\n",
      "block5_conv1 (Conv2D)        (None, 16, 16, 512)       2359808   \n",
      "_________________________________________________________________\n",
      "block5_conv2 (Conv2D)        (None, 16, 16, 512)       2359808   \n",
      "_________________________________________________________________\n",
      "block5_conv3 (Conv2D)        (None, 16, 16, 512)       2359808   \n",
      "_________________________________________________________________\n",
      "block5_pool (MaxPooling2D)   (None, 8, 8, 512)         0         \n",
      "=================================================================\n",
      "Total params: 14,714,688\n",
      "Trainable params: 0\n",
      "Non-trainable params: 14,714,688\n",
      "_________________________________________________________________\n",
      "Model: \"sequential_1\"\n",
      "_________________________________________________________________\n",
      "Layer (type)                 Output Shape              Param #   \n",
      "=================================================================\n",
      "vgg16 (Functional)           (None, 8, 8, 512)         14714688  \n",
      "_________________________________________________________________\n",
      "flatten_1 (Flatten)          (None, 32768)             0         \n",
      "_________________________________________________________________\n",
      "dense_2 (Dense)              (None, 64)                2097216   \n",
      "_________________________________________________________________\n",
      "dense_3 (Dense)              (None, 4)                 260       \n",
      "=================================================================\n",
      "Total params: 16,812,164\n",
      "Trainable params: 2,097,476\n",
      "Non-trainable params: 14,714,688\n",
      "_________________________________________________________________\n"
     ]
    }
   ],
   "source": [
    "# # CNN을 위한 설정\n",
    "# model = Sequential()\n",
    "# model.add(Conv2D(32, kernel_size=(3,3), input_shape=(28, 28, 1), activation='relu'))\n",
    "# model.add(MaxPooling2D(pool_size=2))\n",
    "# model.add(Dropout(0.25))\n",
    "# model.add(Flatten())\n",
    "# model.add(Dense(128, activation='relu'))\n",
    "# model.add(Dropout(0.5))\n",
    "# model.add(Dense(10, activation='softmax'))\n",
    "\n",
    "# model.summary()\n",
    "\n",
    "# model.compile(loss='categorical_crossentropy',\n",
    "#              optimizer='adam', \n",
    "#              metrics=['accuracy'])\n",
    "\n",
    "# VGG16을 이용한 전이학습 모델 준비\n",
    "from tensorflow.keras.models import Sequential\n",
    "from tensorflow.keras.layers import Flatten, Dense\n",
    "from tensorflow.keras.optimizers import Adam\n",
    "from tensorflow.keras.applications.vgg16 import VGG16\n",
    "from tensorflow.keras.preprocessing import image\n",
    "from tensorflow.keras.applications.vgg16 import preprocess_input\n",
    "import numpy as np\n",
    "\n",
    "transfer_model = VGG16(weights='imagenet', include_top=False, input_shape=(HEIGHT, WIDTH, CHANNELS))\n",
    "transfer_model.trainable = False\n",
    "transfer_model.summary()\n",
    "\n",
    "finetune_model = Sequential()\n",
    "finetune_model.add(transfer_model)\n",
    "finetune_model.add(Flatten())\n",
    "finetune_model.add(Dense(64, activation='relu'))\n",
    "finetune_model.add(Dense(4, activation='softmax'))\n",
    "finetune_model.summary()\n",
    "\n",
    "finetune_model.compile(loss='categorical_crossentropy', \n",
    "                      optimizer=Adam(learning_rate=0.0002), \n",
    "                      metrics='accuracy')"
   ]
  },
  {
   "cell_type": "code",
   "execution_count": 10,
   "id": "d49ea28e",
   "metadata": {},
   "outputs": [
    {
     "name": "stdout",
     "output_type": "stream",
     "text": [
      "\n",
      "Epoch 00001: val_loss improved from inf to 0.37665, saving model to ./finetune_model\\01-0.3767.hdf5\n",
      "\n",
      "Epoch 00002: val_loss improved from 0.37665 to 0.27126, saving model to ./finetune_model\\02-0.2713.hdf5\n",
      "\n",
      "Epoch 00003: val_loss improved from 0.27126 to 0.21788, saving model to ./finetune_model\\03-0.2179.hdf5\n",
      "1/1 [==============================] - 0s 21ms/step - loss: 0.2179 - accuracy: 0.9688\n",
      "\n",
      " Test Accurary: 0.9688\n"
     ]
    },
    {
     "data": {
      "image/png": "[encoded data removed]",
      "text/plain": [
       "<Figure size 432x288 with 1 Axes>"
      ]
     },
     "metadata": {
      "needs_background": "light"
     },
     "output_type": "display_data"
    }
   ],
   "source": [
    "# 모델 최적화 설정\n",
    "MODEL_DIR = './finetune_model/'\n",
    "if not os.path.exists(MODEL_DIR):\n",
    "    os.mkdir(MODEL_DIR)\n",
    "    \n",
    "modelpath=\"./finetune_model/{epoch:02d}-{val_loss:.4f}.hdf5\"\n",
    "checkpointer = tf.keras.callbacks.ModelCheckpoint(filepath=modelpath, monitor='val_loss', verbose=1, save_best_only=True)\n",
    "early_stopping_callback = tf.keras.callbacks.EarlyStopping(monitor='val_loss', patience=10)\n",
    "\n",
    "# 모델의 실행\n",
    "history = finetune_model.fit(X_train, y_train, \n",
    "                    validation_data=(X_test, y_test), \n",
    "                    epochs=3, batch_size=5, verbose=0, \n",
    "                    callbacks=[early_stopping_callback, checkpointer])\n",
    "\n",
    "# 테스트 정확도 출력\n",
    "print('\\n Test Accurary: %.4f' % (finetune_model.evaluate(X_test, y_test)[1]))\n",
    "\n",
    "# 테스트셋의 오차\n",
    "y_vloss = history.history['val_loss']\n",
    "\n",
    "# 학습셋의 오차\n",
    "y_loss = history.history['loss']\n",
    "\n",
    "# 시각화\n",
    "x_len = numpy.arange(len(y_loss))\n",
    "plt.plot(x_len, y_vloss, marker='.', c='red', label='Testset_loss')\n",
    "plt.plot(x_len, y_loss, marker='.', c='blue', label='Trainset_loss')\n",
    "\n",
    "plt.legend(loc='upper right')\n",
    "plt.grid()\n",
    "plt.xlabel('epoch')\n",
    "plt.ylabel('loss')\n",
    "plt.show()"
   ]
  },
  {
   "cell_type": "markdown",
   "id": "ad1f9e22",
   "metadata": {},
   "source": [
    "## 제너레이터"
   ]
  },
  {
   "cell_type": "code",
   "execution_count": null,
   "id": "6913b914",
   "metadata": {},
   "outputs": [],
   "source": [
    "def myRange(stopindex=5):\n",
    "    for i in range(stopindex):\n",
    "        yield i"
   ]
  },
  {
   "cell_type": "code",
   "execution_count": null,
   "id": "69edbdae",
   "metadata": {},
   "outputs": [],
   "source": [
    "mr = myRange(8)"
   ]
  },
  {
   "cell_type": "code",
   "execution_count": null,
   "id": "7ce5aefd",
   "metadata": {},
   "outputs": [],
   "source": [
    "next(mr)"
   ]
  },
  {
   "cell_type": "code",
   "execution_count": null,
   "id": "389cee93",
   "metadata": {},
   "outputs": [],
   "source": [
    "from sklearn.datasets import load_iris\n",
    "iris = load_iris()\n",
    "X = iris.data\n",
    "y = iris.target"
   ]
  },
  {
   "cell_type": "code",
   "execution_count": null,
   "id": "ce028bff",
   "metadata": {},
   "outputs": [],
   "source": [
    "# numpy.random.shuffle([10, 20, 30, 40, 50])\n",
    "\n",
    "# numpy.random.permutation(5) : [0, 1, 2, 3, 4] => 섞어줌\n",
    "\n",
    "def myGenerator(X, y, batch_size=30):\n",
    "    m = X.shape[0]\n",
    "    shuffle_index = np.random.permutation(m)\n",
    "    chunk_size = m // batch_size\n",
    "    for i in range(chunk_size):\n",
    "        indices = shuffle_index[i*batch_size:(i+1)*batch_size]\n",
    "        yield X[indices], y[indices]"
   ]
  },
  {
   "cell_type": "code",
   "execution_count": null,
   "id": "5b6cd700",
   "metadata": {},
   "outputs": [],
   "source": [
    "mg = myGenerator(X, y, batch_size=30)"
   ]
  },
  {
   "cell_type": "code",
   "execution_count": null,
   "id": "56c78d53",
   "metadata": {},
   "outputs": [],
   "source": [
    "next(mg)"
   ]
  },
  {
   "cell_type": "code",
   "execution_count": null,
   "id": "cfa9bc76",
   "metadata": {},
   "outputs": [],
   "source": [
    "for batch_x, batch_y in myGenerator(X, y, batch_size=35):\n",
    "    print(batch_x.shape, batch_y.shape)"
   ]
  },
  {
   "cell_type": "markdown",
   "id": "765970c0",
   "metadata": {},
   "source": [
    "## keras의 이미지데이터 제너레이터를 활용한 신경망 학습\n",
    "* 데이터의 양도 증강하고, 다양성도 인공적으로 증강하는 효과"
   ]
  },
  {
   "cell_type": "code",
   "execution_count": null,
   "id": "94dd877c",
   "metadata": {},
   "outputs": [],
   "source": [
    "ImageDataGenerator?"
   ]
  },
  {
   "cell_type": "code",
   "execution_count": 11,
   "id": "8b9c326e",
   "metadata": {},
   "outputs": [
    {
     "name": "stdout",
     "output_type": "stream",
     "text": [
      "Found 167 images belonging to 4 classes.\n",
      "Found 32 images belonging to 4 classes.\n"
     ]
    }
   ],
   "source": [
    "from tensorflow.keras.preprocessing.image import ImageDataGenerator\n",
    "\n",
    "train_datagen = ImageDataGenerator(rescale=1./255, \n",
    "                                  horizontal_flip=True,\n",
    "                                  width_shift_range=0.1,\n",
    "                                  height_shift_range=0.1,\n",
    "                                  fill_mode='nearest')\n",
    "train_generator = train_datagen.flow_from_directory('./Grape/train',\n",
    "                                                   target_size=(256, 256),\n",
    "                                                   batch_size=5, \n",
    "                                                   class_mode='categorical')\n",
    "test_datagen = ImageDataGenerator(rescale=1./255)\n",
    "\n",
    "test_generator = test_datagen.flow_from_directory('./Grape/test',\n",
    "                                                 target_size=(256, 256),\n",
    "                                                 batch_size=5,\n",
    "                                                 class_mode='categorical')"
   ]
  },
  {
   "cell_type": "code",
   "execution_count": 12,
   "id": "c6ce83e4",
   "metadata": {},
   "outputs": [],
   "source": [
    "X_, y_ = next(train_generator)"
   ]
  },
  {
   "cell_type": "code",
   "execution_count": 13,
   "id": "b48fb422",
   "metadata": {},
   "outputs": [
    {
     "data": {
      "text/plain": [
       "(5, 256, 256, 3)"
      ]
     },
     "execution_count": 13,
     "metadata": {},
     "output_type": "execute_result"
    }
   ],
   "source": [
    "X_.shape"
   ]
  },
  {
   "cell_type": "code",
   "execution_count": 14,
   "id": "aeca3cd5",
   "metadata": {},
   "outputs": [
    {
     "data": {
      "text/plain": [
       "(5, 4)"
      ]
     },
     "execution_count": 14,
     "metadata": {},
     "output_type": "execute_result"
    }
   ],
   "source": [
    "y_.shape"
   ]
  },
  {
   "cell_type": "code",
   "execution_count": 15,
   "id": "353a8a30",
   "metadata": {},
   "outputs": [
    {
     "data": {
      "text/plain": [
       "array([0., 0., 0., 1.], dtype=float32)"
      ]
     },
     "execution_count": 15,
     "metadata": {},
     "output_type": "execute_result"
    }
   ],
   "source": [
    "y_[0]"
   ]
  },
  {
   "cell_type": "code",
   "execution_count": 16,
   "id": "5433d3e6",
   "metadata": {},
   "outputs": [
    {
     "name": "stdout",
     "output_type": "stream",
     "text": [
      "Epoch 1/3\n",
      "20/20 [==============================] - 92s 5s/step - loss: 2.2742 - accuracy: 0.4330 - val_loss: 0.9864 - val_accuracy: 0.6000\n",
      "Epoch 2/3\n",
      "20/20 [==============================] - 99s 5s/step - loss: 0.5107 - accuracy: 0.8144 - val_loss: 0.3490 - val_accuracy: 0.9333\n",
      "Epoch 3/3\n",
      "20/20 [==============================] - 83s 4s/step - loss: 0.3258 - accuracy: 0.8900 - val_loss: 0.2972 - val_accuracy: 0.9667\n"
     ]
    }
   ],
   "source": [
    "history = finetune_model.fit(train_generator, steps_per_epoch=20, epochs=3, \n",
    "                            validation_data=test_generator, validation_steps=6)"
   ]
  },
  {
   "cell_type": "code",
   "execution_count": 17,
   "id": "6aeafed7",
   "metadata": {},
   "outputs": [
    {
     "data": {
      "text/plain": [
       "(32, 256, 256, 3)"
      ]
     },
     "execution_count": 17,
     "metadata": {},
     "output_type": "execute_result"
    }
   ],
   "source": [
    "X_test.shape"
   ]
  },
  {
   "cell_type": "code",
   "execution_count": 36,
   "id": "7ffa6234",
   "metadata": {},
   "outputs": [
    {
     "name": "stdout",
     "output_type": "stream",
     "text": [
      "[[0.8779403  0.08409747 0.00161997 0.03634216]]\n"
     ]
    },
    {
     "data": {
      "text/plain": [
       "'Grape___Black_rot'"
      ]
     },
     "execution_count": 36,
     "metadata": {},
     "output_type": "execute_result"
    }
   ],
   "source": [
    "import os\n",
    "import numpy as np\n",
    "def decode(y_pred):\n",
    "    y_pred_index = np.argsort(y_pred)[0][::-1]\n",
    "    label_list = os.listdir('Grape/train')\n",
    "    decoded_result = np.array(label_list)[y_pred_index][0]\n",
    "    return decoded_result\n",
    "\n",
    "i = 5\n",
    "y_pred = finetune_model.predict(X_test[i:i+1])\n",
    "print(y_pred)\n",
    "decode(y_pred)"
   ]
  },
  {
   "cell_type": "code",
   "execution_count": 37,
   "id": "db93b6ef",
   "metadata": {},
   "outputs": [
    {
     "data": {
      "text/plain": [
       "<matplotlib.image.AxesImage at 0x2251028a1f0>"
      ]
     },
     "execution_count": 37,
     "metadata": {},
     "output_type": "execute_result"
    },
    {
     "data": {
      "image/png": "[encoded data removed]",
      "text/plain": [
       "<Figure size 432x288 with 1 Axes>"
      ]
     },
     "metadata": {
      "needs_background": "light"
     },
     "output_type": "display_data"
    }
   ],
   "source": [
    "plt.imshow(X_test[i])"
   ]
  },
  {
   "cell_type": "code",
   "execution_count": null,
   "id": "09b08631",
   "metadata": {},
   "outputs": [],
   "source": []
  },
  {
   "cell_type": "code",
   "execution_count": null,
   "id": "1f6410d9",
   "metadata": {},
   "outputs": [],
   "source": []
  },
  {
   "cell_type": "code",
   "execution_count": null,
   "id": "bd9ff6af",
   "metadata": {},
   "outputs": [],
   "source": []
  }
 ],
 "metadata": {
  "kernelspec": {
   "display_name": "Python 3 (ipykernel)",
   "language": "python",
   "name": "python3"
  },
  "language_info": {
   "codemirror_mode": {
    "name": "ipython",
    "version": 3
   },
   "file_extension": ".py",
   "mimetype": "text/x-python",
   "name": "python",
   "nbconvert_exporter": "python",
   "pygments_lexer": "ipython3",
   "version": "3.8.13"
  }
 },
 "nbformat": 4,
 "nbformat_minor": 5
}
