{
 "cells": [
  {
   "cell_type": "markdown",
   "id": "74379823",
   "metadata": {},
   "source": [
    "* 넘파이 다운그레이드 후 텐서플로우와 케라스 설치\n",
    "아래 명령어는 아나콘다 프롬프트에서 실행할 것\n",
    "    - conda activate lgchem\n",
    "    - conda install -c conda-forge numpy=1.18.5\n",
    "    - pip install --user tensorflow==2.3\n",
    "    - pip install --user keras==2.4"
   ]
  },
  {
   "cell_type": "code",
   "execution_count": 1,
   "id": "6f52bc02",
   "metadata": {},
   "outputs": [
    {
     "data": {
      "text/plain": [
       "'1.18.5'"
      ]
     },
     "execution_count": 1,
     "metadata": {},
     "output_type": "execute_result"
    }
   ],
   "source": [
    "import numpy\n",
    "numpy.__version__"
   ]
  },
  {
   "cell_type": "code",
   "execution_count": 2,
   "id": "8792721a",
   "metadata": {},
   "outputs": [
    {
     "data": {
      "text/plain": [
       "'2.3.0'"
      ]
     },
     "execution_count": 2,
     "metadata": {},
     "output_type": "execute_result"
    }
   ],
   "source": [
    "import tensorflow as tf\n",
    "tf.__version__"
   ]
  },
  {
   "cell_type": "code",
   "execution_count": 3,
   "id": "ab6e3f43",
   "metadata": {},
   "outputs": [
    {
     "data": {
      "text/plain": [
       "'2.4.0'"
      ]
     },
     "execution_count": 3,
     "metadata": {},
     "output_type": "execute_result"
    }
   ],
   "source": [
    "import tensorflow.keras as keras\n",
    "keras.__version__"
   ]
  },
  {
   "cell_type": "code",
   "execution_count": 4,
   "id": "0daa2f01",
   "metadata": {},
   "outputs": [
    {
     "data": {
      "text/plain": [
       "'C:\\\\Users\\\\shbaek\\\\workshop'"
      ]
     },
     "execution_count": 4,
     "metadata": {},
     "output_type": "execute_result"
    }
   ],
   "source": [
    "%pwd"
   ]
  },
  {
   "cell_type": "code",
   "execution_count": 4,
   "id": "bd1dd7cf",
   "metadata": {},
   "outputs": [
    {
     "name": "stdout",
     "output_type": "stream",
     "text": [
      "WARNING:tensorflow:From C:\\Users\\shbaek\\AppData\\Roaming\\Python\\Python38\\site-packages\\tensorflow\\python\\compat\\v2_compat.py:96: disable_resource_variables (from tensorflow.python.ops.variable_scope) is deprecated and will be removed in a future version.\n",
      "Instructions for updating:\n",
      "non-resource variables are not supported in the long term\n"
     ]
    }
   ],
   "source": [
    "# tf2를 설치 후에 tf1 문법으로 활용\n",
    "import tensorflow.compat.v1 as tf\n",
    "tf.disable_v2_behavior()"
   ]
  },
  {
   "cell_type": "markdown",
   "id": "9877477b",
   "metadata": {},
   "source": [
    "* 세션: 코드가 어떻게 실행될지 알려주는 소프트웨어 시스템의 환경.\n",
    "* 텐서플로에서 세션은 CPU나 GPU와 같은 하드웨어 장비가 어떻게 상호작용하는지 설정.\n",
    "* 사용자는 하드웨어에 상관없이 머신러닝 알고리즘을 디자인할 수 있음."
   ]
  },
  {
   "cell_type": "code",
   "execution_count": 8,
   "id": "9c082987",
   "metadata": {},
   "outputs": [
    {
     "name": "stdout",
     "output_type": "stream",
     "text": [
      "[[[-1. -2.]]] <class 'numpy.ndarray'>\n"
     ]
    }
   ],
   "source": [
    "# 세션의 사용\n",
    "\n",
    "# tf2를 설치 후에 tf1 문법으로 활용\n",
    "import tensorflow.compat.v1 as tf\n",
    "tf.disable_v2_behavior()\n",
    "\n",
    "x = tf.constant([[[1., 2.]]])\n",
    "neg_Matrix = tf.negative(x)\n",
    "\n",
    "with tf.Session() as sess:\n",
    "    result = sess.run(neg_Matrix)\n",
    "    \n",
    "print(result, type(result))"
   ]
  },
  {
   "cell_type": "code",
   "execution_count": 6,
   "id": "e1e7c3e7",
   "metadata": {},
   "outputs": [
    {
     "data": {
      "text/plain": [
       "tensorflow.python.framework.ops.Tensor"
      ]
     },
     "execution_count": 6,
     "metadata": {},
     "output_type": "execute_result"
    }
   ],
   "source": [
    "type(x)"
   ]
  },
  {
   "cell_type": "code",
   "execution_count": 6,
   "id": "f148911e",
   "metadata": {},
   "outputs": [
    {
     "data": {
      "text/plain": [
       "tensorflow.python.framework.ops.Tensor"
      ]
     },
     "execution_count": 6,
     "metadata": {},
     "output_type": "execute_result"
    }
   ],
   "source": [
    "type(neg_Matrix)"
   ]
  },
  {
   "cell_type": "code",
   "execution_count": 7,
   "id": "4b12e6db",
   "metadata": {},
   "outputs": [
    {
     "data": {
      "text/plain": [
       "<tf.Tensor 'Neg:0' shape=(1, 1, 2) dtype=float32>"
      ]
     },
     "execution_count": 7,
     "metadata": {},
     "output_type": "execute_result"
    }
   ],
   "source": [
    "neg_Matrix"
   ]
  },
  {
   "cell_type": "markdown",
   "id": "41d4df93",
   "metadata": {},
   "source": [
    "세션에서 활용할 수 있는 데이터의 종류\n",
    "* 플레이스홀더(placeholder): 아직 값이 할당되지 않았으나 실행 시에 세션에 의해 초기화되는 값을 의미함. 일반적으로 모델의 입력과 출력에 해당됨.\n",
    "* 변수: 머신러닝 모델의 파라미터처럼 변할 수 있는 값을 의미. 반드시 변수는 사용 전에 세션에 의해 초기화해야 함.\n",
    "* 상수: 상수 파라미터나 설정값처럼 변하지 않는 값."
   ]
  },
  {
   "cell_type": "code",
   "execution_count": 9,
   "id": "82aca103",
   "metadata": {},
   "outputs": [],
   "source": [
    "## 점심 ~ 1:30"
   ]
  },
  {
   "cell_type": "markdown",
   "id": "248a32df",
   "metadata": {},
   "source": [
    "텐서 연산자\n",
    "* tf.add() : a + b\n",
    "* tf.multiply() : a * b\n",
    "* tf.subtract() : a - b\n",
    "* tf.divide() : a / b\n",
    "* tf.pow() : a ** b\n",
    "* tf.mod() : a % b\n",
    "* tf.logical_and() : a & b (dtype 은 tf.bool 이어야 함)\n",
    "* tf.greater() : a > b\n",
    "* tf.greater_equal() : a >= b\n",
    "* tf.less_equal() : a <= b\n",
    "* tf.less() : a < b\n",
    "* tf.negative() : -a\n",
    "* tf.logical_not() : ~a (dtype 은 tf.bool 이어야 함)\n",
    "* tf.abs() : abs(a)\n",
    "* tf.logical_or() : a | b (dtype 은 tf.bool 이어야 함)"
   ]
  },
  {
   "cell_type": "code",
   "execution_count": 10,
   "id": "671af481",
   "metadata": {},
   "outputs": [
    {
     "name": "stdout",
     "output_type": "stream",
     "text": [
      "outs = 5\n"
     ]
    }
   ],
   "source": [
    "# tf2를 설치 후에 tf1 문법으로 활용\n",
    "import tensorflow.compat.v1 as tf\n",
    "tf.disable_v2_behavior()\n",
    "\n",
    "a = tf.constant(5)\n",
    "b = tf.constant(2)\n",
    "c = tf.constant(3)\n",
    "d = tf.multiply(a, b)\n",
    "e = tf.add(c, b)\n",
    "f = tf.subtract(d, e)\n",
    "\n",
    "sess = tf.Session()\n",
    "outs = sess.run(f)\n",
    "sess.close()\n",
    "\n",
    "print(\"outs = {}\".format(outs))"
   ]
  },
  {
   "cell_type": "code",
   "execution_count": 11,
   "id": "2efd0705",
   "metadata": {},
   "outputs": [
    {
     "name": "stdout",
     "output_type": "stream",
     "text": [
      "outs = 10\n"
     ]
    }
   ],
   "source": [
    "# tf2를 설치 후에 tf1 문법으로 활용\n",
    "import tensorflow.compat.v1 as tf\n",
    "tf.disable_v2_behavior()\n",
    "\n",
    "a = tf.constant(5)\n",
    "b = tf.constant(2)\n",
    "c = tf.constant(3)\n",
    "d = tf.multiply(a, b)\n",
    "e = tf.add(c, b)\n",
    "f = tf.subtract(d, e)\n",
    "\n",
    "sess = tf.Session()\n",
    "outs = sess.run(d)\n",
    "sess.close()\n",
    "\n",
    "print(\"outs = {}\".format(outs))"
   ]
  },
  {
   "cell_type": "code",
   "execution_count": 12,
   "id": "033bd266",
   "metadata": {},
   "outputs": [
    {
     "data": {
      "text/plain": [
       "<tf.Tensor 'Const_5:0' shape=() dtype=int32>"
      ]
     },
     "execution_count": 12,
     "metadata": {},
     "output_type": "execute_result"
    }
   ],
   "source": [
    "a"
   ]
  },
  {
   "cell_type": "markdown",
   "id": "314c3c65",
   "metadata": {},
   "source": [
    "# 텐서플로 1을 이용하여 합성곱 연산 실습"
   ]
  },
  {
   "cell_type": "code",
   "execution_count": 14,
   "id": "6d10c627",
   "metadata": {},
   "outputs": [
    {
     "name": "stdout",
     "output_type": "stream",
     "text": [
      "Collecting matplotlib\n",
      "  Using cached matplotlib-3.5.2-cp38-cp38-win_amd64.whl (7.2 MB)\n",
      "Collecting fonttools>=4.22.0\n",
      "  Using cached fonttools-4.34.4-py3-none-any.whl (944 kB)\n",
      "Requirement already satisfied: numpy>=1.17 in c:\\users\\shbaek\\appdata\\roaming\\python\\python38\\site-packages (from matplotlib) (1.18.5)\n",
      "Collecting pillow>=6.2.0\n",
      "  Using cached Pillow-9.2.0-cp38-cp38-win_amd64.whl (3.3 MB)\n",
      "Collecting kiwisolver>=1.0.1\n",
      "  Using cached kiwisolver-1.4.4-cp38-cp38-win_amd64.whl (55 kB)\n",
      "Collecting cycler>=0.10\n",
      "  Using cached cycler-0.11.0-py3-none-any.whl (6.4 kB)\n",
      "Requirement already satisfied: packaging>=20.0 in c:\\users\\shbaek\\anaconda3\\envs\\mytf23\\lib\\site-packages (from matplotlib) (21.3)\n",
      "Requirement already satisfied: python-dateutil>=2.7 in c:\\users\\shbaek\\anaconda3\\envs\\mytf23\\lib\\site-packages (from matplotlib) (2.8.2)\n",
      "Requirement already satisfied: pyparsing>=2.2.1 in c:\\users\\shbaek\\anaconda3\\envs\\mytf23\\lib\\site-packages (from matplotlib) (3.0.4)\n",
      "Requirement already satisfied: six>=1.5 in c:\\users\\shbaek\\appdata\\roaming\\python\\python38\\site-packages (from python-dateutil>=2.7->matplotlib) (1.16.0)\n",
      "Installing collected packages: pillow, kiwisolver, fonttools, cycler, matplotlib\n",
      "Successfully installed cycler-0.11.0 fonttools-4.34.4 kiwisolver-1.4.4 matplotlib-3.5.2 pillow-9.2.0\n"
     ]
    }
   ],
   "source": [
    "!pip install matplotlib"
   ]
  },
  {
   "cell_type": "code",
   "execution_count": 15,
   "id": "92aeb50e",
   "metadata": {},
   "outputs": [
    {
     "name": "stdout",
     "output_type": "stream",
     "text": [
      "(1, 3, 3, 1)\n"
     ]
    },
    {
     "data": {
      "text/plain": [
       "<matplotlib.image.AxesImage at 0x286cacef160>"
      ]
     },
     "execution_count": 15,
     "metadata": {},
     "output_type": "execute_result"
    },
    {
     "data": {
      "image/png": "[encoded data removed]",
      "text/plain": [
       "<Figure size 432x288 with 1 Axes>"
      ]
     },
     "metadata": {
      "needs_background": "light"
     },
     "output_type": "display_data"
    }
   ],
   "source": [
    "# tf2를 설치 후에 tf1 문법으로 활용\n",
    "import tensorflow.compat.v1 as tf\n",
    "tf.disable_v2_behavior()\n",
    "import numpy as np\n",
    "import matplotlib.pyplot as plt\n",
    "\n",
    "sess = tf.InteractiveSession()\n",
    "\n",
    "# image 데이터 준비\n",
    "image = np.array([[[[1], [2], [3]],\n",
    "                   [[4], [5], [6]],\n",
    "                   [[7], [8], [9]]]], dtype=np.float32)\n",
    "print(image.shape)\n",
    "plt.imshow(image.reshape(3, 3), cmap='gray')"
   ]
  },
  {
   "cell_type": "markdown",
   "id": "089c565f",
   "metadata": {},
   "source": [
    "* Image: 1, 3, 3, 1 image, Filter: 2, 2, 1, 1, Stride: 1x1, Padding: VALID"
   ]
  },
  {
   "cell_type": "code",
   "execution_count": 17,
   "id": "2dc921a4",
   "metadata": {},
   "outputs": [
    {
     "name": "stdout",
     "output_type": "stream",
     "text": [
      "image.shape  (1, 3, 3, 1)\n",
      "weight.shape  (2, 2, 1, 1)\n",
      "conv2d_img.shape  (1, 2, 2, 1)\n",
      "[[12. 16.]\n",
      " [24. 28.]]\n"
     ]
    },
    {
     "data": {
      "image/png": "[encoded data removed]",
      "text/plain": [
       "<Figure size 432x288 with 1 Axes>"
      ]
     },
     "metadata": {
      "needs_background": "light"
     },
     "output_type": "display_data"
    }
   ],
   "source": [
    "print(\"image.shape \", image.shape)\n",
    "weight = tf.constant([[[[1.]], [[1.]]],\n",
    "                     [[[1.]], [[1.]]]])\n",
    "print('weight.shape ', weight.shape)\n",
    "\n",
    "conv2d = tf.nn.conv2d(image, weight, strides=[1, 1, 1, 1], padding='VALID')\n",
    "conv2d_img = conv2d.eval()\n",
    "print('conv2d_img.shape ', conv2d_img.shape)\n",
    "\n",
    "conv2d_img = np.swapaxes(conv2d_img, 0, 3)\n",
    "\n",
    "for i, one_img in enumerate(conv2d_img):\n",
    "    print(one_img.reshape(2, 2))\n",
    "    plt.subplot(1, 2, i+1), plt.imshow(one_img.reshape(2,2), cmap='gray')\n",
    "plt.show()"
   ]
  },
  {
   "cell_type": "markdown",
   "id": "a2af96d6",
   "metadata": {},
   "source": [
    "* Image: 1, 3, 3, 1 image, Filter: 2, 2, 1, 1, Stride: 1x1, Padding: SAME"
   ]
  },
  {
   "cell_type": "code",
   "execution_count": 18,
   "id": "f2bf9e91",
   "metadata": {
    "scrolled": true
   },
   "outputs": [
    {
     "name": "stdout",
     "output_type": "stream",
     "text": [
      "image.shape  (1, 3, 3, 1)\n",
      "weight.shape  (2, 2, 1, 1)\n",
      "conv2d_img.shape  (1, 3, 3, 1)\n",
      "[[12. 16.  9.]\n",
      " [24. 28. 15.]\n",
      " [15. 17.  9.]]\n"
     ]
    },
    {
     "data": {
      "image/png": "[encoded data removed]",
      "text/plain": [
       "<Figure size 432x288 with 1 Axes>"
      ]
     },
     "metadata": {
      "needs_background": "light"
     },
     "output_type": "display_data"
    }
   ],
   "source": [
    "print(\"image.shape \", image.shape)\n",
    "weight = tf.constant([[[[1.]], [[1.]]],\n",
    "                     [[[1.]], [[1.]]]])\n",
    "print('weight.shape ', weight.shape)\n",
    "\n",
    "conv2d = tf.nn.conv2d(image, weight, strides=[1, 1, 1, 1], padding='SAME')\n",
    "conv2d_img = conv2d.eval()\n",
    "print('conv2d_img.shape ', conv2d_img.shape)\n",
    "\n",
    "conv2d_img = np.swapaxes(conv2d_img, 0, 3)\n",
    "\n",
    "for i, one_img in enumerate(conv2d_img):\n",
    "    print(one_img.reshape(3, 3))\n",
    "    plt.subplot(1, 2, i+1), plt.imshow(one_img.reshape(3, 3), cmap='gray')\n",
    "plt.show()"
   ]
  },
  {
   "cell_type": "code",
   "execution_count": 19,
   "id": "0b33bd84",
   "metadata": {},
   "outputs": [
    {
     "data": {
      "text/plain": [
       "array([[[[12.],\n",
       "         [16.],\n",
       "         [ 9.]],\n",
       "\n",
       "        [[24.],\n",
       "         [28.],\n",
       "         [15.]],\n",
       "\n",
       "        [[15.],\n",
       "         [17.],\n",
       "         [ 9.]]]], dtype=float32)"
      ]
     },
     "execution_count": 19,
     "metadata": {},
     "output_type": "execute_result"
    }
   ],
   "source": [
    "conv2d_img "
   ]
  },
  {
   "cell_type": "code",
   "execution_count": 25,
   "id": "332a1195",
   "metadata": {},
   "outputs": [
    {
     "name": "stdout",
     "output_type": "stream",
     "text": [
      "(1, 3, 3, 1)\n",
      "[[[[28.]\n",
      "   [28.]\n",
      "   [15.]]\n",
      "\n",
      "  [[28.]\n",
      "   [28.]\n",
      "   [15.]]\n",
      "\n",
      "  [[17.]\n",
      "   [17.]\n",
      "   [ 9.]]]]\n"
     ]
    }
   ],
   "source": [
    "# tf2를 설치 후에 tf1 문법으로 활용\n",
    "import tensorflow.compat.v1 as tf\n",
    "tf.disable_v2_behavior()\n",
    "\n",
    "pool = tf.nn.max_pool(conv2d_img, ksize=[1, 2, 2, 1], strides=[1, 1, 1, 1], padding='SAME')\n",
    "print(pool.shape)\n",
    "print(pool.eval())\n",
    "sess.close()"
   ]
  },
  {
   "cell_type": "markdown",
   "id": "9ff3978c",
   "metadata": {},
   "source": [
    "# 케라스를 이용한 합성곱 신경망의 구현\n",
    "## 케라스 mnist 필기체인식"
   ]
  },
  {
   "cell_type": "code",
   "execution_count": 21,
   "id": "5c8238f6",
   "metadata": {},
   "outputs": [],
   "source": [
    "# %load CNNBaseline.py\n",
    "from tensorflow.keras.datasets import mnist\n",
    "from tensorflow.keras.utils import to_categorical\n",
    "from tensorflow.keras.models import Sequential\n",
    "from tensorflow.keras.layers import Dense, Dropout, Flatten, Conv2D, MaxPooling2D\n",
    "\n",
    "import matplotlib.pyplot as plt\n",
    "import numpy\n",
    "import os\n",
    "import tensorflow as tf # tf2\n",
    "\n",
    "# seed 설정\n",
    "seed = 0\n",
    "numpy.random.seed(seed)\n",
    "tf.random.set_seed(seed)\n",
    "\n",
    "# 데이터 불러오기\n",
    "(X_train, y_train), (X_test, y_test) = mnist.load_data()"
   ]
  },
  {
   "cell_type": "code",
   "execution_count": 26,
   "id": "a1e8b4ef",
   "metadata": {},
   "outputs": [
    {
     "name": "stdout",
     "output_type": "stream",
     "text": [
      "<class 'numpy.ndarray'> (60000, 28, 28) <class 'numpy.ndarray'> (60000,)\n",
      "<class 'numpy.ndarray'> (10000, 28, 28) <class 'numpy.ndarray'> (10000,)\n"
     ]
    }
   ],
   "source": [
    "print(type(X_train), X_train.shape, type(y_train), y_train.shape)\n",
    "print(type(X_test), X_test.shape, type(y_test), y_test.shape)"
   ]
  },
  {
   "cell_type": "code",
   "execution_count": 27,
   "id": "65ec69ab",
   "metadata": {},
   "outputs": [
    {
     "data": {
      "image/png": "[encoded data removed]",
      "text/plain": [
       "<Figure size 1440x288 with 10 Axes>"
      ]
     },
     "metadata": {
      "needs_background": "light"
     },
     "output_type": "display_data"
    }
   ],
   "source": [
    "fig, ax = plt.subplots(1, 10, figsize=(20, 4))\n",
    "for i, img in enumerate(X_train[:10]):\n",
    "    ax[i].imshow(img, cmap='gray')\n",
    "    ax[i].set_title(str(y_train[i]))\n",
    "plt.show()"
   ]
  },
  {
   "cell_type": "code",
   "execution_count": 28,
   "id": "93f851d0",
   "metadata": {
    "scrolled": true
   },
   "outputs": [
    {
     "name": "stdout",
     "output_type": "stream",
     "text": [
      "0 255 uint8\n"
     ]
    }
   ],
   "source": [
    "print(X_train[0].min(), X_train[0].max(), X_train.dtype)"
   ]
  },
  {
   "cell_type": "code",
   "execution_count": 29,
   "id": "743806b9",
   "metadata": {},
   "outputs": [
    {
     "data": {
      "text/plain": [
       "5"
      ]
     },
     "execution_count": 29,
     "metadata": {},
     "output_type": "execute_result"
    }
   ],
   "source": [
    "y_train[0]"
   ]
  },
  {
   "cell_type": "code",
   "execution_count": 30,
   "id": "add7dacf",
   "metadata": {},
   "outputs": [
    {
     "data": {
      "text/plain": [
       "array([[0., 1., 0., 0., 0., 0.],\n",
       "       [0., 0., 0., 1., 0., 0.],\n",
       "       [0., 0., 0., 0., 0., 1.]], dtype=float32)"
      ]
     },
     "execution_count": 30,
     "metadata": {},
     "output_type": "execute_result"
    }
   ],
   "source": [
    "to_categorical([1, 3, 5])"
   ]
  },
  {
   "cell_type": "code",
   "execution_count": 31,
   "id": "db9e0424",
   "metadata": {},
   "outputs": [],
   "source": [
    "X_train = X_train.reshape(X_train.shape[0], 28, 28, 1).astype('float32')/255\n",
    "X_test = X_test.reshape(X_test.shape[0], 28, 28, 1).astype('float32')/255\n",
    "y_train = to_categorical(y_train)\n",
    "y_test = to_categorical(y_test)"
   ]
  },
  {
   "cell_type": "code",
   "execution_count": 32,
   "id": "bfbcbda7",
   "metadata": {},
   "outputs": [
    {
     "data": {
      "text/plain": [
       "array([0., 0., 0., 0., 0., 1., 0., 0., 0., 0.], dtype=float32)"
      ]
     },
     "execution_count": 32,
     "metadata": {},
     "output_type": "execute_result"
    }
   ],
   "source": [
    "y_train[0]"
   ]
  },
  {
   "cell_type": "code",
   "execution_count": 33,
   "id": "fa1fa268",
   "metadata": {},
   "outputs": [
    {
     "name": "stdout",
     "output_type": "stream",
     "text": [
      "0.0 1.0 float32 (60000, 28, 28, 1)\n"
     ]
    }
   ],
   "source": [
    "print(X_train[0].min(), X_train[0].max(), X_train.dtype, X_train.shape)"
   ]
  },
  {
   "cell_type": "code",
   "execution_count": 34,
   "id": "1be62288",
   "metadata": {},
   "outputs": [
    {
     "data": {
      "text/plain": [
       "array([0., 0., 0., 0., 0., 0., 0., 1., 0., 0.], dtype=float32)"
      ]
     },
     "execution_count": 34,
     "metadata": {},
     "output_type": "execute_result"
    }
   ],
   "source": [
    "y_test[0]"
   ]
  },
  {
   "cell_type": "code",
   "execution_count": 35,
   "id": "64c16d57",
   "metadata": {},
   "outputs": [
    {
     "data": {
      "text/plain": [
       "(10000, 10)"
      ]
     },
     "execution_count": 35,
     "metadata": {},
     "output_type": "execute_result"
    }
   ],
   "source": [
    "y_test.shape"
   ]
  },
  {
   "cell_type": "code",
   "execution_count": 36,
   "id": "0634a09f",
   "metadata": {},
   "outputs": [
    {
     "name": "stdout",
     "output_type": "stream",
     "text": [
      "0.0 1.0 float32 (10000, 28, 28, 1)\n"
     ]
    }
   ],
   "source": [
    "print(X_test[0].min(), X_test[0].max(), X_test.dtype, X_test.shape)"
   ]
  },
  {
   "cell_type": "code",
   "execution_count": 40,
   "id": "8e39b027",
   "metadata": {},
   "outputs": [],
   "source": [
    "Conv2D?"
   ]
  },
  {
   "cell_type": "code",
   "execution_count": 44,
   "id": "403e5c6b",
   "metadata": {},
   "outputs": [],
   "source": [
    "MaxPooling2D?"
   ]
  },
  {
   "cell_type": "code",
   "execution_count": 37,
   "id": "fa4021b2",
   "metadata": {},
   "outputs": [
    {
     "name": "stdout",
     "output_type": "stream",
     "text": [
      "Model: \"sequential\"\n",
      "_________________________________________________________________\n",
      "Layer (type)                 Output Shape              Param #   \n",
      "=================================================================\n",
      "conv2d (Conv2D)              (None, 26, 26, 32)        320       \n",
      "_________________________________________________________________\n",
      "max_pooling2d (MaxPooling2D) (None, 13, 13, 32)        0         \n",
      "_________________________________________________________________\n",
      "dropout (Dropout)            (None, 13, 13, 32)        0         \n",
      "_________________________________________________________________\n",
      "flatten (Flatten)            (None, 5408)              0         \n",
      "_________________________________________________________________\n",
      "dense (Dense)                (None, 128)               692352    \n",
      "_________________________________________________________________\n",
      "dropout_1 (Dropout)          (None, 128)               0         \n",
      "_________________________________________________________________\n",
      "dense_1 (Dense)              (None, 10)                1290      \n",
      "=================================================================\n",
      "Total params: 693,962\n",
      "Trainable params: 693,962\n",
      "Non-trainable params: 0\n",
      "_________________________________________________________________\n"
     ]
    }
   ],
   "source": [
    "# CNN을 위한 설정, 신경망 아키텍쳐 준비\n",
    "model = Sequential()\n",
    "model.add(Conv2D(32, kernel_size=(3,3), input_shape=(28, 28, 1), activation='relu'))\n",
    "model.add(MaxPooling2D(pool_size=2))\n",
    "model.add(Dropout(0.25))\n",
    "model.add(Flatten())\n",
    "model.add(Dense(128, activation='relu'))\n",
    "model.add(Dropout(0.5))\n",
    "model.add(Dense(10, activation='softmax'))\n",
    "\n",
    "model.summary()\n",
    "\n",
    "model.compile(loss='categorical_crossentropy',\n",
    "             optimizer='adam', \n",
    "             metrics=['accuracy'])"
   ]
  },
  {
   "cell_type": "code",
   "execution_count": null,
   "id": "173682b1",
   "metadata": {},
   "outputs": [],
   "source": [
    "# 아래 셀 실행 시켜두고 휴식: ~ 2:40"
   ]
  },
  {
   "cell_type": "code",
   "execution_count": 39,
   "id": "2bdac9d5",
   "metadata": {
    "scrolled": true
   },
   "outputs": [
    {
     "name": "stdout",
     "output_type": "stream",
     "text": [
      "before training:  2022-07-19 14:46:30.081729\n",
      "\n",
      "Epoch 00001: val_loss improved from inf to 0.05876, saving model to ./model\\01-0.0588.hdf5\n",
      "\n",
      "Epoch 00002: val_loss improved from 0.05876 to 0.05524, saving model to ./model\\02-0.0552.hdf5\n",
      "\n",
      "Epoch 00003: val_loss improved from 0.05524 to 0.05283, saving model to ./model\\03-0.0528.hdf5\n",
      "\n",
      "Epoch 00004: val_loss did not improve from 0.05283\n",
      "\n",
      "Epoch 00005: val_loss improved from 0.05283 to 0.05074, saving model to ./model\\05-0.0507.hdf5\n",
      "\n",
      "Epoch 00006: val_loss improved from 0.05074 to 0.04731, saving model to ./model\\06-0.0473.hdf5\n",
      "\n",
      "Epoch 00007: val_loss improved from 0.04731 to 0.04576, saving model to ./model\\07-0.0458.hdf5\n",
      "\n",
      "Epoch 00008: val_loss improved from 0.04576 to 0.04400, saving model to ./model\\08-0.0440.hdf5\n",
      "\n",
      "Epoch 00009: val_loss improved from 0.04400 to 0.04307, saving model to ./model\\09-0.0431.hdf5\n",
      "\n",
      "Epoch 00010: val_loss improved from 0.04307 to 0.04175, saving model to ./model\\10-0.0418.hdf5\n",
      "\n",
      "Epoch 00011: val_loss improved from 0.04175 to 0.04170, saving model to ./model\\11-0.0417.hdf5\n",
      "\n",
      "Epoch 00012: val_loss improved from 0.04170 to 0.04163, saving model to ./model\\12-0.0416.hdf5\n",
      "\n",
      "Epoch 00013: val_loss improved from 0.04163 to 0.04150, saving model to ./model\\13-0.0415.hdf5\n",
      "\n",
      "Epoch 00014: val_loss improved from 0.04150 to 0.03987, saving model to ./model\\14-0.0399.hdf5\n",
      "\n",
      "Epoch 00015: val_loss improved from 0.03987 to 0.03839, saving model to ./model\\15-0.0384.hdf5\n",
      "\n",
      "Epoch 00016: val_loss did not improve from 0.03839\n",
      "\n",
      "Epoch 00017: val_loss improved from 0.03839 to 0.03832, saving model to ./model\\17-0.0383.hdf5\n",
      "\n",
      "Epoch 00018: val_loss improved from 0.03832 to 0.03761, saving model to ./model\\18-0.0376.hdf5\n",
      "\n",
      "Epoch 00019: val_loss did not improve from 0.03761\n",
      "\n",
      "Epoch 00020: val_loss did not improve from 0.03761\n",
      "\n",
      "Epoch 00021: val_loss improved from 0.03761 to 0.03463, saving model to ./model\\21-0.0346.hdf5\n",
      "\n",
      "Epoch 00022: val_loss did not improve from 0.03463\n",
      "\n",
      "Epoch 00023: val_loss did not improve from 0.03463\n",
      "\n",
      "Epoch 00024: val_loss improved from 0.03463 to 0.03430, saving model to ./model\\24-0.0343.hdf5\n",
      "\n",
      "Epoch 00025: val_loss did not improve from 0.03430\n",
      "\n",
      "Epoch 00026: val_loss did not improve from 0.03430\n",
      "\n",
      "Epoch 00027: val_loss did not improve from 0.03430\n",
      "\n",
      "Epoch 00028: val_loss did not improve from 0.03430\n",
      "\n",
      "Epoch 00029: val_loss improved from 0.03430 to 0.03417, saving model to ./model\\29-0.0342.hdf5\n",
      "\n",
      "Epoch 00030: val_loss improved from 0.03417 to 0.03368, saving model to ./model\\30-0.0337.hdf5\n",
      "after training:  2022-07-19 14:57:39.586118\n",
      "\n",
      " Test Accurary: 0.9886\n"
     ]
    },
    {
     "data": {
      "image/png": "[encoded data removed]",
      "text/plain": [
       "<Figure size 432x288 with 1 Axes>"
      ]
     },
     "metadata": {
      "needs_background": "light"
     },
     "output_type": "display_data"
    }
   ],
   "source": [
    "# 모델 최적화 설정\n",
    "MODEL_DIR = './model/'\n",
    "if not os.path.exists(MODEL_DIR):\n",
    "    os.mkdir(MODEL_DIR)\n",
    "    \n",
    "modelpath=\"./model/{epoch:02d}-{val_loss:.4f}.hdf5\"\n",
    "checkpointer = tf.keras.callbacks.ModelCheckpoint(filepath=modelpath, \n",
    "                                                  monitor='val_loss', \n",
    "                                                  verbose=1, save_best_only=True)\n",
    "early_stopping_callback = tf.keras.callbacks.EarlyStopping(monitor='val_loss', patience=10)\n",
    "\n",
    "from datetime import datetime\n",
    "print('before training: ', datetime.now())\n",
    "# 모델의 실행\n",
    "history = model.fit(X_train, y_train, \n",
    "                    validation_data=(X_test, y_test), \n",
    "                    epochs=30, batch_size=2000, verbose=0, \n",
    "                    callbacks=[early_stopping_callback, checkpointer])\n",
    "print('after training: ', datetime.now())\n",
    "\n",
    "# 테스트 정확도 출력\n",
    "print('\\n Test Accurary: %.4f' % (model.evaluate(X_test, y_test)[1]))\n",
    "\n",
    "# 테스트셋의 오차\n",
    "y_vloss = history.history['val_loss']\n",
    "\n",
    "# 학습셋의 오차\n",
    "y_loss = history.history['loss']\n",
    "\n",
    "# 시각화\n",
    "x_len = numpy.arange(len(y_loss))\n",
    "plt.plot(x_len, y_vloss, marker='.', c='red', label='Testset_loss')\n",
    "plt.plot(x_len, y_loss, marker='.', c='blue', label='Trainset_loss')\n",
    "\n",
    "plt.legend(loc='upper right')\n",
    "plt.grid()\n",
    "plt.xlabel('epoch')\n",
    "plt.ylabel('loss')\n",
    "plt.show()"
   ]
  },
  {
   "cell_type": "code",
   "execution_count": 50,
   "id": "c8096b76",
   "metadata": {},
   "outputs": [
    {
     "data": {
      "text/plain": [
       "array([[4.0340615e-09, 3.5436674e-08, 6.8020348e-08, 5.8679524e-07,\n",
       "        7.3767886e-10, 5.1802274e-11, 6.3322340e-14, 9.9999905e-01,\n",
       "        9.5566399e-10, 1.9947042e-07]], dtype=float32)"
      ]
     },
     "execution_count": 50,
     "metadata": {},
     "output_type": "execute_result"
    }
   ],
   "source": [
    "model.predict(X_test[0:1])"
   ]
  },
  {
   "cell_type": "code",
   "execution_count": 41,
   "id": "17b1d392",
   "metadata": {},
   "outputs": [
    {
     "data": {
      "text/plain": [
       "'seven'"
      ]
     },
     "execution_count": 41,
     "metadata": {},
     "output_type": "execute_result"
    }
   ],
   "source": [
    "predicted_index = np.argmax(model.predict(X_test[0:1]))\n",
    "target_names = np.array(['zero', 'one', 'two', 'three', 'four', 'five', 'six', 'seven', 'eight', 'nine'])\n",
    "target_names[predicted_index]"
   ]
  },
  {
   "cell_type": "code",
   "execution_count": 42,
   "id": "3c712eab",
   "metadata": {},
   "outputs": [
    {
     "data": {
      "image/png": "[encoded data removed]",
      "text/plain": [
       "<Figure size 432x288 with 1 Axes>"
      ]
     },
     "metadata": {
      "needs_background": "light"
     },
     "output_type": "display_data"
    }
   ],
   "source": [
    "plt.imshow(X_test[0], cmap='gray')\n",
    "plt.title(str(y_test[0]))\n",
    "plt.show()"
   ]
  },
  {
   "cell_type": "markdown",
   "id": "aba2a612",
   "metadata": {},
   "source": [
    "# mnist 패션 데이터에 CNNBaseline.py 코드 적용해보기"
   ]
  },
  {
   "cell_type": "code",
   "execution_count": 57,
   "id": "a98992d7",
   "metadata": {},
   "outputs": [],
   "source": [
    "from tensorflow.keras.datasets import fashion_mnist\n",
    "(X_train, y_train), (X_test, y_test) = fashion_mnist.load_data()"
   ]
  },
  {
   "cell_type": "code",
   "execution_count": 59,
   "id": "061273e0",
   "metadata": {},
   "outputs": [
    {
     "name": "stdout",
     "output_type": "stream",
     "text": [
      "(60000, 28, 28) (60000,)\n",
      "(10000, 28, 28) (10000,)\n"
     ]
    }
   ],
   "source": [
    "print(X_train.shape, y_train.shape)\n",
    "print(X_test.shape, y_test.shape)"
   ]
  },
  {
   "cell_type": "markdown",
   "id": "89c7e68b",
   "metadata": {},
   "source": [
    "# 콘크리트 강도 예측에 적용"
   ]
  },
  {
   "cell_type": "code",
   "execution_count": 44,
   "id": "8486a1bc",
   "metadata": {},
   "outputs": [
    {
     "name": "stdout",
     "output_type": "stream",
     "text": [
      "Collecting pandas\n",
      "  Using cached pandas-1.4.3-cp38-cp38-win_amd64.whl (10.6 MB)\n",
      "Requirement already satisfied: python-dateutil>=2.8.1 in c:\\users\\shbaek\\anaconda3\\envs\\mytf23\\lib\\site-packages (from pandas) (2.8.2)\n",
      "Collecting pytz>=2020.1\n",
      "  Using cached pytz-2022.1-py2.py3-none-any.whl (503 kB)\n",
      "Requirement already satisfied: numpy>=1.18.5 in c:\\users\\shbaek\\appdata\\roaming\\python\\python38\\site-packages (from pandas) (1.18.5)\n",
      "Requirement already satisfied: six>=1.5 in c:\\users\\shbaek\\appdata\\roaming\\python\\python38\\site-packages (from python-dateutil>=2.8.1->pandas) (1.16.0)\n",
      "Installing collected packages: pytz, pandas\n",
      "Successfully installed pandas-1.4.3 pytz-2022.1\n"
     ]
    }
   ],
   "source": [
    "!pip install pandas"
   ]
  },
  {
   "cell_type": "code",
   "execution_count": 47,
   "id": "db31843c",
   "metadata": {},
   "outputs": [
    {
     "name": "stdout",
     "output_type": "stream",
     "text": [
      "Collecting xlrd\n",
      "  Using cached xlrd-2.0.1-py2.py3-none-any.whl (96 kB)\n",
      "Installing collected packages: xlrd\n",
      "Successfully installed xlrd-2.0.1\n"
     ]
    }
   ],
   "source": [
    "!pip install xlrd"
   ]
  },
  {
   "cell_type": "code",
   "execution_count": 61,
   "id": "9e719330",
   "metadata": {},
   "outputs": [
    {
     "name": "stdout",
     "output_type": "stream",
     "text": [
      "Collecting scikit-learn\n",
      "  Using cached scikit_learn-1.1.1-cp38-cp38-win_amd64.whl (7.3 MB)\n",
      "Requirement already satisfied: numpy>=1.17.3 in c:\\users\\shbaek\\appdata\\roaming\\python\\python38\\site-packages (from scikit-learn) (1.18.5)\n",
      "Requirement already satisfied: scipy>=1.3.2 in c:\\users\\shbaek\\appdata\\roaming\\python\\python38\\site-packages (from scikit-learn) (1.4.1)\n",
      "Collecting joblib>=1.0.0\n",
      "  Using cached joblib-1.1.0-py2.py3-none-any.whl (306 kB)\n",
      "Collecting threadpoolctl>=2.0.0\n",
      "  Using cached threadpoolctl-3.1.0-py3-none-any.whl (14 kB)\n",
      "Installing collected packages: threadpoolctl, joblib, scikit-learn\n",
      "Successfully installed joblib-1.1.0 scikit-learn-1.1.1 threadpoolctl-3.1.0\n"
     ]
    }
   ],
   "source": [
    "!pip install scikit-learn"
   ]
  },
  {
   "cell_type": "code",
   "execution_count": 62,
   "id": "035f8969",
   "metadata": {},
   "outputs": [
    {
     "data": {
      "text/plain": [
       "['cement',\n",
       " 'blast',\n",
       " 'fly',\n",
       " 'water',\n",
       " 'superplasticizer',\n",
       " 'coarse',\n",
       " 'fine',\n",
       " 'age',\n",
       " 'concrete']"
      ]
     },
     "execution_count": 62,
     "metadata": {},
     "output_type": "execute_result"
    }
   ],
   "source": [
    "list(concrete.columns)"
   ]
  },
  {
   "cell_type": "code",
   "execution_count": 66,
   "id": "aad59ff1",
   "metadata": {},
   "outputs": [
    {
     "name": "stdout",
     "output_type": "stream",
     "text": [
      "Index(['cement', 'blast', 'fly', 'water', 'superplasticizer', 'coarse', 'fine',\n",
      "       'age', 'concrete'],\n",
      "      dtype='object')\n",
      "(1030, 8) (1030,)\n",
      "(824, 8) (824,) (206, 8) (206,)\n"
     ]
    }
   ],
   "source": [
    "# 데이터 준비\n",
    "\n",
    "import pandas as pd\n",
    "concrete = pd.read_excel('datasets/Concrete_Data.xls')\n",
    "concrete.columns = map(lambda x: x.split(' ')[0].lower(), list(concrete.columns))\n",
    "print(concrete.columns)\n",
    "X = concrete.loc[:, :'age']\n",
    "y = concrete['concrete']\n",
    "print(X.shape, y.shape)\n",
    "\n",
    "from sklearn.model_selection import train_test_split\n",
    "X_train, X_test, y_train, y_test = train_test_split(X, y, test_size=0.2, random_state=42)\n",
    "print(X_train.shape, y_train.shape, X_test.shape, y_test.shape)"
   ]
  },
  {
   "cell_type": "code",
   "execution_count": null,
   "id": "1e7e2e43",
   "metadata": {},
   "outputs": [],
   "source": [
    "# !pip install --upgrade numpy==1.18.5"
   ]
  },
  {
   "cell_type": "code",
   "execution_count": 122,
   "id": "44f859fd",
   "metadata": {},
   "outputs": [
    {
     "name": "stdout",
     "output_type": "stream",
     "text": [
      "Model: \"sequential_8\"\n",
      "_________________________________________________________________\n",
      "Layer (type)                 Output Shape              Param #   \n",
      "=================================================================\n",
      "dense_22 (Dense)             (None, 64)                576       \n",
      "_________________________________________________________________\n",
      "dense_23 (Dense)             (None, 32)                2080      \n",
      "_________________________________________________________________\n",
      "dense_24 (Dense)             (None, 1)                 33        \n",
      "=================================================================\n",
      "Total params: 2,689\n",
      "Trainable params: 2,689\n",
      "Non-trainable params: 0\n",
      "_________________________________________________________________\n"
     ]
    }
   ],
   "source": [
    "# 신경망 아키텍쳐(연산그래프) 디자인\n",
    "from tensorflow.keras.layers import BatchNormalization\n",
    "\n",
    "#Building  first layer Layers \n",
    "model=Sequential()\n",
    "\n",
    "model.add(Dense(64,input_dim=8,activation = 'relu')) # 입력 데이터셋\n",
    "\n",
    "# Bulding Second and third layer\n",
    "model.add(Dense(32,activation='relu'))\n",
    "# model.add(BatchNormalization()) # 특성 스케일링과 밀접한 관계 있어보임\n",
    "\n",
    "# Output Layer\n",
    "model.add(Dense(1,activation='linear')) # 타겟 레이블\n",
    "\n",
    "model.summary()\n",
    "\n",
    "\n",
    "model.compile(loss='mean_squared_error',\n",
    "             optimizer='adam', \n",
    "             metrics=['mean_squared_error'])"
   ]
  },
  {
   "cell_type": "code",
   "execution_count": 123,
   "id": "e971302e",
   "metadata": {},
   "outputs": [
    {
     "name": "stdout",
     "output_type": "stream",
     "text": [
      "before training:  2022-07-19 16:38:45.087904\n",
      "\n",
      "Epoch 00001: val_loss improved from inf to 1277.70365, saving model to ./concrete_\\01-1277.7036.hdf5\n",
      "\n",
      "Epoch 00002: val_loss did not improve from 1277.70365\n",
      "\n",
      "Epoch 00003: val_loss improved from 1277.70365 to 1250.65173, saving model to ./concrete_\\03-1250.6517.hdf5\n",
      "\n",
      "Epoch 00004: val_loss improved from 1250.65173 to 921.31124, saving model to ./concrete_\\04-921.3112.hdf5\n",
      "\n",
      "Epoch 00005: val_loss improved from 921.31124 to 363.05125, saving model to ./concrete_\\05-363.0512.hdf5\n",
      "\n",
      "Epoch 00006: val_loss improved from 363.05125 to 297.74938, saving model to ./concrete_\\06-297.7494.hdf5\n",
      "\n",
      "Epoch 00007: val_loss improved from 297.74938 to 294.76877, saving model to ./concrete_\\07-294.7688.hdf5\n",
      "\n",
      "Epoch 00008: val_loss improved from 294.76877 to 196.40128, saving model to ./concrete_\\08-196.4013.hdf5\n",
      "\n",
      "Epoch 00009: val_loss improved from 196.40128 to 166.16114, saving model to ./concrete_\\09-166.1611.hdf5\n",
      "\n",
      "Epoch 00010: val_loss improved from 166.16114 to 146.48004, saving model to ./concrete_\\10-146.4800.hdf5\n",
      "\n",
      "Epoch 00011: val_loss improved from 146.48004 to 129.97064, saving model to ./concrete_\\11-129.9706.hdf5\n",
      "\n",
      "Epoch 00012: val_loss improved from 129.97064 to 121.75128, saving model to ./concrete_\\12-121.7513.hdf5\n",
      "\n",
      "Epoch 00013: val_loss improved from 121.75128 to 110.55565, saving model to ./concrete_\\13-110.5556.hdf5\n",
      "\n",
      "Epoch 00014: val_loss improved from 110.55565 to 103.99064, saving model to ./concrete_\\14-103.9906.hdf5\n",
      "\n",
      "Epoch 00015: val_loss improved from 103.99064 to 99.59791, saving model to ./concrete_\\15-99.5979.hdf5\n",
      "\n",
      "Epoch 00016: val_loss improved from 99.59791 to 94.53666, saving model to ./concrete_\\16-94.5367.hdf5\n",
      "\n",
      "Epoch 00017: val_loss improved from 94.53666 to 91.64291, saving model to ./concrete_\\17-91.6429.hdf5\n",
      "\n",
      "Epoch 00018: val_loss improved from 91.64291 to 88.57775, saving model to ./concrete_\\18-88.5777.hdf5\n",
      "\n",
      "Epoch 00019: val_loss improved from 88.57775 to 86.61842, saving model to ./concrete_\\19-86.6184.hdf5\n",
      "\n",
      "Epoch 00020: val_loss improved from 86.61842 to 86.01251, saving model to ./concrete_\\20-86.0125.hdf5\n",
      "\n",
      "Epoch 00021: val_loss improved from 86.01251 to 84.39231, saving model to ./concrete_\\21-84.3923.hdf5\n",
      "\n",
      "Epoch 00022: val_loss improved from 84.39231 to 84.37916, saving model to ./concrete_\\22-84.3792.hdf5\n",
      "\n",
      "Epoch 00023: val_loss improved from 84.37916 to 82.89860, saving model to ./concrete_\\23-82.8986.hdf5\n",
      "\n",
      "Epoch 00024: val_loss improved from 82.89860 to 82.46102, saving model to ./concrete_\\24-82.4610.hdf5\n",
      "\n",
      "Epoch 00025: val_loss improved from 82.46102 to 81.07728, saving model to ./concrete_\\25-81.0773.hdf5\n",
      "\n",
      "Epoch 00026: val_loss did not improve from 81.07728\n",
      "\n",
      "Epoch 00027: val_loss improved from 81.07728 to 80.94040, saving model to ./concrete_\\27-80.9404.hdf5\n",
      "\n",
      "Epoch 00028: val_loss did not improve from 80.94040\n",
      "\n",
      "Epoch 00029: val_loss improved from 80.94040 to 80.22076, saving model to ./concrete_\\29-80.2208.hdf5\n",
      "\n",
      "Epoch 00030: val_loss improved from 80.22076 to 80.07765, saving model to ./concrete_\\30-80.0777.hdf5\n",
      "\n",
      "Epoch 00031: val_loss did not improve from 80.07765\n",
      "\n",
      "Epoch 00032: val_loss improved from 80.07765 to 79.78763, saving model to ./concrete_\\32-79.7876.hdf5\n",
      "\n",
      "Epoch 00033: val_loss did not improve from 79.78763\n",
      "\n",
      "Epoch 00034: val_loss did not improve from 79.78763\n",
      "\n",
      "Epoch 00035: val_loss improved from 79.78763 to 79.02521, saving model to ./concrete_\\35-79.0252.hdf5\n",
      "\n",
      "Epoch 00036: val_loss did not improve from 79.02521\n",
      "\n",
      "Epoch 00037: val_loss improved from 79.02521 to 78.31793, saving model to ./concrete_\\37-78.3179.hdf5\n",
      "\n",
      "Epoch 00038: val_loss did not improve from 78.31793\n",
      "\n",
      "Epoch 00039: val_loss improved from 78.31793 to 77.14325, saving model to ./concrete_\\39-77.1433.hdf5\n",
      "\n",
      "Epoch 00040: val_loss improved from 77.14325 to 76.03231, saving model to ./concrete_\\40-76.0323.hdf5\n",
      "\n",
      "Epoch 00041: val_loss did not improve from 76.03231\n",
      "\n",
      "Epoch 00042: val_loss improved from 76.03231 to 75.64865, saving model to ./concrete_\\42-75.6486.hdf5\n",
      "\n",
      "Epoch 00043: val_loss did not improve from 75.64865\n",
      "\n",
      "Epoch 00044: val_loss improved from 75.64865 to 73.89376, saving model to ./concrete_\\44-73.8938.hdf5\n",
      "\n",
      "Epoch 00045: val_loss improved from 73.89376 to 73.39886, saving model to ./concrete_\\45-73.3989.hdf5\n",
      "\n",
      "Epoch 00046: val_loss did not improve from 73.39886\n",
      "\n",
      "Epoch 00047: val_loss did not improve from 73.39886\n",
      "\n",
      "Epoch 00048: val_loss improved from 73.39886 to 72.78417, saving model to ./concrete_\\48-72.7842.hdf5\n",
      "\n",
      "Epoch 00049: val_loss improved from 72.78417 to 72.35036, saving model to ./concrete_\\49-72.3504.hdf5\n",
      "\n",
      "Epoch 00050: val_loss did not improve from 72.35036\n",
      "\n",
      "Epoch 00051: val_loss improved from 72.35036 to 72.21444, saving model to ./concrete_\\51-72.2144.hdf5\n",
      "\n",
      "Epoch 00052: val_loss improved from 72.21444 to 70.88420, saving model to ./concrete_\\52-70.8842.hdf5\n",
      "\n",
      "Epoch 00053: val_loss improved from 70.88420 to 70.69090, saving model to ./concrete_\\53-70.6909.hdf5\n",
      "\n",
      "Epoch 00054: val_loss did not improve from 70.69090\n",
      "\n",
      "Epoch 00055: val_loss improved from 70.69090 to 68.61857, saving model to ./concrete_\\55-68.6186.hdf5\n",
      "\n",
      "Epoch 00056: val_loss did not improve from 68.61857\n",
      "\n",
      "Epoch 00057: val_loss improved from 68.61857 to 67.64067, saving model to ./concrete_\\57-67.6407.hdf5\n",
      "\n",
      "Epoch 00058: val_loss did not improve from 67.64067\n",
      "\n",
      "Epoch 00059: val_loss did not improve from 67.64067\n",
      "\n",
      "Epoch 00060: val_loss did not improve from 67.64067\n",
      "\n",
      "Epoch 00061: val_loss did not improve from 67.64067\n",
      "\n",
      "Epoch 00062: val_loss improved from 67.64067 to 67.31628, saving model to ./concrete_\\62-67.3163.hdf5\n",
      "\n",
      "Epoch 00063: val_loss did not improve from 67.31628\n",
      "\n",
      "Epoch 00064: val_loss improved from 67.31628 to 65.70862, saving model to ./concrete_\\64-65.7086.hdf5\n",
      "\n",
      "Epoch 00065: val_loss improved from 65.70862 to 65.31522, saving model to ./concrete_\\65-65.3152.hdf5\n",
      "\n",
      "Epoch 00066: val_loss improved from 65.31522 to 64.22486, saving model to ./concrete_\\66-64.2249.hdf5\n",
      "\n",
      "Epoch 00067: val_loss did not improve from 64.22486\n",
      "\n",
      "Epoch 00068: val_loss did not improve from 64.22486\n",
      "\n",
      "Epoch 00069: val_loss improved from 64.22486 to 63.36212, saving model to ./concrete_\\69-63.3621.hdf5\n",
      "\n",
      "Epoch 00070: val_loss did not improve from 63.36212\n",
      "\n",
      "Epoch 00071: val_loss did not improve from 63.36212\n",
      "\n",
      "Epoch 00072: val_loss did not improve from 63.36212\n",
      "\n",
      "Epoch 00073: val_loss did not improve from 63.36212\n",
      "\n",
      "Epoch 00074: val_loss did not improve from 63.36212\n",
      "\n",
      "Epoch 00075: val_loss improved from 63.36212 to 62.49686, saving model to ./concrete_\\75-62.4969.hdf5\n",
      "\n",
      "Epoch 00076: val_loss did not improve from 62.49686\n",
      "\n",
      "Epoch 00077: val_loss improved from 62.49686 to 60.75905, saving model to ./concrete_\\77-60.7590.hdf5\n",
      "\n",
      "Epoch 00078: val_loss did not improve from 60.75905\n",
      "\n",
      "Epoch 00079: val_loss improved from 60.75905 to 60.19566, saving model to ./concrete_\\79-60.1957.hdf5\n",
      "\n",
      "Epoch 00080: val_loss did not improve from 60.19566\n",
      "\n",
      "Epoch 00081: val_loss did not improve from 60.19566\n",
      "\n",
      "Epoch 00082: val_loss did not improve from 60.19566\n",
      "\n",
      "Epoch 00083: val_loss did not improve from 60.19566\n",
      "\n",
      "Epoch 00084: val_loss improved from 60.19566 to 58.74237, saving model to ./concrete_\\84-58.7424.hdf5\n",
      "\n",
      "Epoch 00085: val_loss did not improve from 58.74237\n",
      "\n",
      "Epoch 00086: val_loss did not improve from 58.74237\n",
      "\n",
      "Epoch 00087: val_loss improved from 58.74237 to 58.71892, saving model to ./concrete_\\87-58.7189.hdf5\n",
      "\n",
      "Epoch 00088: val_loss did not improve from 58.71892\n",
      "\n",
      "Epoch 00089: val_loss did not improve from 58.71892\n",
      "\n",
      "Epoch 00090: val_loss did not improve from 58.71892\n",
      "\n",
      "Epoch 00091: val_loss did not improve from 58.71892\n",
      "\n",
      "Epoch 00092: val_loss improved from 58.71892 to 57.71728, saving model to ./concrete_\\92-57.7173.hdf5\n",
      "\n",
      "Epoch 00093: val_loss did not improve from 57.71728\n",
      "\n",
      "Epoch 00094: val_loss did not improve from 57.71728\n",
      "\n",
      "Epoch 00095: val_loss did not improve from 57.71728\n",
      "\n",
      "Epoch 00096: val_loss improved from 57.71728 to 57.22356, saving model to ./concrete_\\96-57.2236.hdf5\n",
      "\n",
      "Epoch 00097: val_loss improved from 57.22356 to 57.12632, saving model to ./concrete_\\97-57.1263.hdf5\n",
      "\n",
      "Epoch 00098: val_loss improved from 57.12632 to 56.77534, saving model to ./concrete_\\98-56.7753.hdf5\n",
      "\n",
      "Epoch 00099: val_loss improved from 56.77534 to 56.03875, saving model to ./concrete_\\99-56.0387.hdf5\n",
      "\n",
      "Epoch 00100: val_loss did not improve from 56.03875\n",
      "\n",
      "Epoch 00101: val_loss did not improve from 56.03875\n",
      "\n",
      "Epoch 00102: val_loss improved from 56.03875 to 55.16903, saving model to ./concrete_\\102-55.1690.hdf5\n",
      "\n",
      "Epoch 00103: val_loss did not improve from 55.16903\n",
      "\n",
      "Epoch 00104: val_loss did not improve from 55.16903\n",
      "\n",
      "Epoch 00105: val_loss did not improve from 55.16903\n",
      "\n",
      "Epoch 00106: val_loss did not improve from 55.16903\n",
      "\n",
      "Epoch 00107: val_loss did not improve from 55.16903\n",
      "\n",
      "Epoch 00108: val_loss did not improve from 55.16903\n",
      "\n",
      "Epoch 00109: val_loss did not improve from 55.16903\n",
      "\n",
      "Epoch 00110: val_loss improved from 55.16903 to 54.65695, saving model to ./concrete_\\110-54.6569.hdf5\n",
      "\n",
      "Epoch 00111: val_loss did not improve from 54.65695\n",
      "\n",
      "Epoch 00112: val_loss did not improve from 54.65695\n",
      "\n",
      "Epoch 00113: val_loss did not improve from 54.65695\n"
     ]
    },
    {
     "name": "stdout",
     "output_type": "stream",
     "text": [
      "\n",
      "Epoch 00114: val_loss did not improve from 54.65695\n",
      "\n",
      "Epoch 00115: val_loss did not improve from 54.65695\n",
      "\n",
      "Epoch 00116: val_loss did not improve from 54.65695\n",
      "\n",
      "Epoch 00117: val_loss did not improve from 54.65695\n",
      "\n",
      "Epoch 00118: val_loss improved from 54.65695 to 53.79920, saving model to ./concrete_\\118-53.7992.hdf5\n",
      "\n",
      "Epoch 00119: val_loss improved from 53.79920 to 53.72252, saving model to ./concrete_\\119-53.7225.hdf5\n",
      "\n",
      "Epoch 00120: val_loss did not improve from 53.72252\n",
      "\n",
      "Epoch 00121: val_loss did not improve from 53.72252\n",
      "\n",
      "Epoch 00122: val_loss did not improve from 53.72252\n",
      "\n",
      "Epoch 00123: val_loss improved from 53.72252 to 53.64645, saving model to ./concrete_\\123-53.6465.hdf5\n",
      "\n",
      "Epoch 00124: val_loss did not improve from 53.64645\n",
      "\n",
      "Epoch 00125: val_loss did not improve from 53.64645\n",
      "\n",
      "Epoch 00126: val_loss did not improve from 53.64645\n",
      "\n",
      "Epoch 00127: val_loss improved from 53.64645 to 52.31335, saving model to ./concrete_\\127-52.3133.hdf5\n",
      "\n",
      "Epoch 00128: val_loss did not improve from 52.31335\n",
      "\n",
      "Epoch 00129: val_loss did not improve from 52.31335\n",
      "\n",
      "Epoch 00130: val_loss did not improve from 52.31335\n",
      "\n",
      "Epoch 00131: val_loss did not improve from 52.31335\n",
      "\n",
      "Epoch 00132: val_loss did not improve from 52.31335\n",
      "\n",
      "Epoch 00133: val_loss did not improve from 52.31335\n",
      "\n",
      "Epoch 00134: val_loss did not improve from 52.31335\n",
      "\n",
      "Epoch 00135: val_loss did not improve from 52.31335\n",
      "\n",
      "Epoch 00136: val_loss did not improve from 52.31335\n",
      "\n",
      "Epoch 00137: val_loss did not improve from 52.31335\n",
      "after training:  2022-07-19 16:38:47.727916\n",
      "\n",
      " Test MSE: 101.7983\n"
     ]
    },
    {
     "data": {
      "image/png": "[encoded data removed]",
      "text/plain": [
       "<Figure size 432x288 with 1 Axes>"
      ]
     },
     "metadata": {
      "needs_background": "light"
     },
     "output_type": "display_data"
    }
   ],
   "source": [
    "# 모델 학습 및 평가\n",
    "MODEL_DIR = './concrete_model/'\n",
    "if not os.path.exists(MODEL_DIR):\n",
    "    os.mkdir(MODEL_DIR)\n",
    "    \n",
    "modelpath=\"./concrete_/{epoch:02d}-{val_loss:.4f}.hdf5\"\n",
    "checkpointer = tf.keras.callbacks.ModelCheckpoint(filepath=modelpath, \n",
    "                                                  monitor='val_loss', \n",
    "                                                  verbose=1, save_best_only=True)\n",
    "early_stopping_callback = tf.keras.callbacks.EarlyStopping(monitor='val_loss', patience=10)\n",
    "\n",
    "from datetime import datetime\n",
    "print('before training: ', datetime.now())\n",
    "# 모델의 실행\n",
    "# history = model.fit(X_train, y_train, \n",
    "#                     validation_data=(X_test, y_test), \n",
    "#                     epochs=10000, batch_size=2000, verbose=0, \n",
    "#                     callbacks=[early_stopping_callback, checkpointer])\n",
    "history = model.fit(X, y, validation_split=0.1,\n",
    "                    epochs=320, batch_size=100, verbose=0, \n",
    "                    callbacks=[early_stopping_callback, checkpointer])\n",
    "print('after training: ', datetime.now())\n",
    "\n",
    "# 테스트 정확도 출력\n",
    "print('\\n Test MSE: %.4f' % (model.evaluate(X_test, y_test)[1]))\n",
    "\n",
    "# 테스트셋의 오차\n",
    "y_vloss = history.history['val_loss']\n",
    "\n",
    "# 학습셋의 오차\n",
    "y_loss = history.history['loss']\n",
    "\n",
    "# 시각화\n",
    "x_len = numpy.arange(len(y_loss))\n",
    "plt.plot(x_len, y_vloss, marker='.', c='red', label='Testset_loss')\n",
    "plt.plot(x_len, y_loss, marker='.', c='blue', label='Trainset_loss')\n",
    "\n",
    "plt.legend(loc='upper right')\n",
    "plt.grid()\n",
    "plt.xlabel('epoch')\n",
    "plt.ylabel('loss')\n",
    "plt.show()"
   ]
  },
  {
   "cell_type": "code",
   "execution_count": 124,
   "id": "766938f9",
   "metadata": {},
   "outputs": [
    {
     "data": {
      "text/plain": [
       "array([[28.765951]], dtype=float32)"
      ]
     },
     "execution_count": 124,
     "metadata": {},
     "output_type": "execute_result"
    }
   ],
   "source": [
    "model.predict(X_train[0:1])"
   ]
  },
  {
   "cell_type": "code",
   "execution_count": 125,
   "id": "f5a12583",
   "metadata": {},
   "outputs": [
    {
     "data": {
      "text/plain": [
       "79.98611076"
      ]
     },
     "execution_count": 125,
     "metadata": {},
     "output_type": "execute_result"
    }
   ],
   "source": [
    "y_train[0]"
   ]
  },
  {
   "cell_type": "code",
   "execution_count": 126,
   "id": "d667faa5",
   "metadata": {},
   "outputs": [
    {
     "name": "stdout",
     "output_type": "stream",
     "text": [
      "0.6049446680723141\n"
     ]
    }
   ],
   "source": [
    "# Predicting and Finding R Squared Score\n",
    "y_predict = model.predict(X_test)\n",
    "\n",
    "from sklearn.metrics import r2_score\n",
    "print(r2_score(y_test,y_predict))"
   ]
  }
 ],
 "metadata": {
  "kernelspec": {
   "display_name": "Python 3 (ipykernel)",
   "language": "python",
   "name": "python3"
  },
  "language_info": {
   "codemirror_mode": {
    "name": "ipython",
    "version": 3
   },
   "file_extension": ".py",
   "mimetype": "text/x-python",
   "name": "python",
   "nbconvert_exporter": "python",
   "pygments_lexer": "ipython3",
   "version": "3.8.13"
  }
 },
 "nbformat": 4,
 "nbformat_minor": 5
}
