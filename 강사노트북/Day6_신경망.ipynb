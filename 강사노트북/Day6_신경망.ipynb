{
 "cells": [
  {
   "cell_type": "markdown",
   "id": "74379823",
   "metadata": {},
   "source": [
    "* 넘파이 다운그레이드 후 텐서플로우와 케라스 설치\n",
    "아래 명령어는 아나콘다 프롬프트에서 실행할 것\n",
    "    - conda activate lgchem\n",
    "    - conda install -c conda-forge numpy=1.19\n",
    "    - pip install --user tensorflow==2.3\n",
    "    - pip install --user keras==2.3"
   ]
  },
  {
   "cell_type": "code",
   "execution_count": 1,
   "id": "6f52bc02",
   "metadata": {},
   "outputs": [
    {
     "data": {
      "text/plain": [
       "'1.18.5'"
      ]
     },
     "execution_count": 1,
     "metadata": {},
     "output_type": "execute_result"
    }
   ],
   "source": [
    "import numpy\n",
    "numpy.__version__"
   ]
  },
  {
   "cell_type": "code",
   "execution_count": 2,
   "id": "8792721a",
   "metadata": {},
   "outputs": [
    {
     "data": {
      "text/plain": [
       "'2.3.0'"
      ]
     },
     "execution_count": 2,
     "metadata": {},
     "output_type": "execute_result"
    }
   ],
   "source": [
    "import tensorflow as tf\n",
    "tf.__version__"
   ]
  },
  {
   "cell_type": "code",
   "execution_count": 3,
   "id": "ab6e3f43",
   "metadata": {},
   "outputs": [
    {
     "data": {
      "text/plain": [
       "'2.4.0'"
      ]
     },
     "execution_count": 3,
     "metadata": {},
     "output_type": "execute_result"
    }
   ],
   "source": [
    "import tensorflow.keras as keras\n",
    "keras.__version__"
   ]
  },
  {
   "cell_type": "code",
   "execution_count": 4,
   "id": "0daa2f01",
   "metadata": {},
   "outputs": [
    {
     "data": {
      "text/plain": [
       "'C:\\\\Users\\\\shbaek\\\\workshop'"
      ]
     },
     "execution_count": 4,
     "metadata": {},
     "output_type": "execute_result"
    }
   ],
   "source": [
    "%pwd"
   ]
  },
  {
   "cell_type": "code",
   "execution_count": 3,
   "id": "bd1dd7cf",
   "metadata": {},
   "outputs": [
    {
     "name": "stdout",
     "output_type": "stream",
     "text": [
      "WARNING:tensorflow:From C:\\Users\\shbaek\\AppData\\Roaming\\Python\\Python38\\site-packages\\tensorflow\\python\\compat\\v2_compat.py:96: disable_resource_variables (from tensorflow.python.ops.variable_scope) is deprecated and will be removed in a future version.\n",
      "Instructions for updating:\n",
      "non-resource variables are not supported in the long term\n"
     ]
    }
   ],
   "source": [
    "# tf2를 설치 후에 tf1 문법으로 활용\n",
    "import tensorflow.compat.v1 as tf\n",
    "tf.disable_v2_behavior()"
   ]
  },
  {
   "cell_type": "markdown",
   "id": "9877477b",
   "metadata": {},
   "source": [
    "* 세션: 코드가 어떻게 실행될지 알려주는 소프트웨어 시스템의 환경.\n",
    "* 텐서플로에서 세션은 CPU나 GPU와 같은 하드웨어 장비가 어떻게 상호작용하는지 설정.\n",
    "* 사용자는 하드웨어에 상관없이 머신러닝 알고리즘을 디자인할 수 있음."
   ]
  },
  {
   "cell_type": "code",
   "execution_count": 4,
   "id": "9c082987",
   "metadata": {},
   "outputs": [
    {
     "name": "stdout",
     "output_type": "stream",
     "text": [
      "[[[-1. -2.]]]\n"
     ]
    }
   ],
   "source": [
    "# 세션의 사용\n",
    "\n",
    "# tf2를 설치 후에 tf1 문법으로 활용\n",
    "import tensorflow.compat.v1 as tf\n",
    "tf.disable_v2_behavior()\n",
    "\n",
    "x = tf.constant([[[1., 2.]]])\n",
    "neg_Matrix = tf.negative(x)\n",
    "\n",
    "with tf.Session() as sess:\n",
    "    result = sess.run(neg_Matrix)\n",
    "    \n",
    "print(result)"
   ]
  },
  {
   "cell_type": "code",
   "execution_count": 5,
   "id": "e1e7c3e7",
   "metadata": {},
   "outputs": [
    {
     "data": {
      "text/plain": [
       "tensorflow.python.framework.ops.Tensor"
      ]
     },
     "execution_count": 5,
     "metadata": {},
     "output_type": "execute_result"
    }
   ],
   "source": [
    "type(x)"
   ]
  },
  {
   "cell_type": "code",
   "execution_count": 6,
   "id": "f148911e",
   "metadata": {},
   "outputs": [
    {
     "data": {
      "text/plain": [
       "tensorflow.python.framework.ops.Tensor"
      ]
     },
     "execution_count": 6,
     "metadata": {},
     "output_type": "execute_result"
    }
   ],
   "source": [
    "type(neg_Matrix)"
   ]
  },
  {
   "cell_type": "code",
   "execution_count": 7,
   "id": "4b12e6db",
   "metadata": {},
   "outputs": [
    {
     "data": {
      "text/plain": [
       "<tf.Tensor 'Neg:0' shape=(1, 1, 2) dtype=float32>"
      ]
     },
     "execution_count": 7,
     "metadata": {},
     "output_type": "execute_result"
    }
   ],
   "source": [
    "neg_Matrix"
   ]
  },
  {
   "cell_type": "markdown",
   "id": "41d4df93",
   "metadata": {},
   "source": [
    "세션에서 활용할 수 있는 데이터의 종류\n",
    "* 플레이스홀더(placeholder): 아직 값이 할당되지 않았으나 실행 시에 세션에 의해 초기화되는 값을 의미함. 일반적으로 모델의 입력과 출력에 해당됨.\n",
    "* 변수: 머신러닝 모델의 파라미터처럼 변할 수 있는 값을 의미. 반드시 변수는 사용 전에 세션에 의해 초기화해야 함.\n",
    "* 상수: 상수 파라미터나 설정값처럼 변하지 않는 값."
   ]
  },
  {
   "attachments": {},
   "cell_type": "markdown",
   "id": "248a32df",
   "metadata": {},
   "source": [
    "텐서 연산자\n",
    "* tf.add() : a + b\n",
    "* tf.multiply() : a * b\n",
    "* tf.subtract() : a - b\n",
    "* tf.divide() : a / b\n",
    "* tf.pow() : a ** b\n",
    "* tf.mod() : a % b\n",
    "* tf.logical_and() : a & b (dtype 은 tf.bool 이어야 함)\n",
    "* tf.greater() : a > b\n",
    "* tf.greater_equal() : a >= b\n",
    "* tf.less_equal() : a <= b\n",
    "* tf.less() : a < b\n",
    "* tf.negative() : -a\n",
    "* tf.logical_not() : ~a (dtype 은 tf.bool 이어야 함)\n",
    "* tf.abs() : abs(a)\n",
    "* tf.logical_or() : a | b (dtype 은 tf.bool 이어야 함)"
   ]
  },
  {
   "cell_type": "code",
   "execution_count": 8,
   "id": "671af481",
   "metadata": {},
   "outputs": [
    {
     "name": "stdout",
     "output_type": "stream",
     "text": [
      "outs = 5\n"
     ]
    }
   ],
   "source": [
    "# tf2를 설치 후에 tf1 문법으로 활용\n",
    "import tensorflow.compat.v1 as tf\n",
    "tf.disable_v2_behavior()\n",
    "\n",
    "a = tf.constant(5)\n",
    "b = tf.constant(2)\n",
    "c = tf.constant(3)\n",
    "d = tf.multiply(a, b)\n",
    "e = tf.add(c, b)\n",
    "f = tf.subtract(d, e)\n",
    "\n",
    "sess = tf.Session()\n",
    "outs = sess.run(f)\n",
    "sess.close()\n",
    "\n",
    "print(\"outs = {}\".format(outs))"
   ]
  },
  {
   "cell_type": "markdown",
   "id": "314c3c65",
   "metadata": {},
   "source": [
    "# 텐서플로 1을 이용하여 합성곱 연산 실습"
   ]
  },
  {
   "cell_type": "code",
   "execution_count": 11,
   "id": "92aeb50e",
   "metadata": {},
   "outputs": [
    {
     "name": "stdout",
     "output_type": "stream",
     "text": [
      "(1, 3, 3, 1)\n"
     ]
    },
    {
     "data": {
      "text/plain": [
       "<matplotlib.image.AxesImage at 0x1ef668525e0>"
      ]
     },
     "execution_count": 11,
     "metadata": {},
     "output_type": "execute_result"
    },
    {
     "data": {
      "image/png": "[encoded data removed]",
      "text/plain": [
       "<Figure size 432x288 with 1 Axes>"
      ]
     },
     "metadata": {
      "needs_background": "light"
     },
     "output_type": "display_data"
    }
   ],
   "source": [
    "# tf2를 설치 후에 tf1 문법으로 활용\n",
    "import tensorflow.compat.v1 as tf\n",
    "tf.disable_v2_behavior()\n",
    "import numpy as np\n",
    "import matplotlib.pyplot as plt\n",
    "\n",
    "sess = tf.InteractiveSession()\n",
    "\n",
    "# image 데이터 준비\n",
    "image = np.array([[[[1], [2], [3]],\n",
    "                   [[4], [5], [6]],\n",
    "                   [[7], [8], [9]]]], dtype=np.float32)\n",
    "print(image.shape)\n",
    "plt.imshow(image.reshape(3, 3), cmap='gray')"
   ]
  },
  {
   "cell_type": "markdown",
   "id": "089c565f",
   "metadata": {},
   "source": [
    "* Image: 1, 3, 3, 1 image, Filter: 2, 2, 1, 1, Stride: 1x1, Padding: VALID"
   ]
  },
  {
   "cell_type": "code",
   "execution_count": 13,
   "id": "2dc921a4",
   "metadata": {},
   "outputs": [
    {
     "name": "stdout",
     "output_type": "stream",
     "text": [
      "image.shape  (1, 3, 3, 1)\n",
      "weight.shape  (2, 2, 1, 1)\n",
      "conv2d_img.shape  (1, 2, 2, 1)\n",
      "[[12. 16.]\n",
      " [24. 28.]]\n"
     ]
    },
    {
     "data": {
      "image/png": "[encoded data removed]",
      "text/plain": [
       "<Figure size 432x288 with 1 Axes>"
      ]
     },
     "metadata": {
      "needs_background": "light"
     },
     "output_type": "display_data"
    }
   ],
   "source": [
    "print(\"image.shape \", image.shape)\n",
    "weight = tf.constant([[[[1.]], [[1.]]],\n",
    "                     [[[1.]], [[1.]]]])\n",
    "print('weight.shape ', weight.shape)\n",
    "\n",
    "conv2d = tf.nn.conv2d(image, weight, strides=[1, 1, 1, 1], padding='VALID')\n",
    "conv2d_img = conv2d.eval()\n",
    "print('conv2d_img.shape ', conv2d_img.shape)\n",
    "\n",
    "conv2d_img = np.swapaxes(conv2d_img, 0, 3)\n",
    "\n",
    "for i, one_img in enumerate(conv2d_img):\n",
    "    print(one_img.reshape(2, 2))\n",
    "    plt.subplot(1, 2, i+1), plt.imshow(one_img.reshape(2,2), cmap='gray')\n",
    "plt.show()"
   ]
  },
  {
   "cell_type": "markdown",
   "id": "a2af96d6",
   "metadata": {},
   "source": [
    "* Image: 1, 3, 3, 1 image, Filter: 2, 2, 1, 1, Stride: 1x1, Padding: SAME"
   ]
  },
  {
   "cell_type": "code",
   "execution_count": 14,
   "id": "f2bf9e91",
   "metadata": {
    "scrolled": true
   },
   "outputs": [
    {
     "name": "stdout",
     "output_type": "stream",
     "text": [
      "image.shape  (1, 3, 3, 1)\n",
      "weight.shape  (2, 2, 1, 1)\n",
      "conv2d_img.shape  (1, 3, 3, 1)\n",
      "[[12. 16.  9.]\n",
      " [24. 28. 15.]\n",
      " [15. 17.  9.]]\n"
     ]
    },
    {
     "data": {
      "image/png": "[encoded data removed]",
      "text/plain": [
       "<Figure size 432x288 with 1 Axes>"
      ]
     },
     "metadata": {
      "needs_background": "light"
     },
     "output_type": "display_data"
    }
   ],
   "source": [
    "print(\"image.shape \", image.shape)\n",
    "weight = tf.constant([[[[1.]], [[1.]]],\n",
    "                     [[[1.]], [[1.]]]])\n",
    "print('weight.shape ', weight.shape)\n",
    "\n",
    "conv2d = tf.nn.conv2d(image, weight, strides=[1, 1, 1, 1], padding='SAME')\n",
    "conv2d_img = conv2d.eval()\n",
    "print('conv2d_img.shape ', conv2d_img.shape)\n",
    "\n",
    "conv2d_img = np.swapaxes(conv2d_img, 0, 3)\n",
    "\n",
    "for i, one_img in enumerate(conv2d_img):\n",
    "    print(one_img.reshape(3, 3))\n",
    "    plt.subplot(1, 2, i+1), plt.imshow(one_img.reshape(3, 3), cmap='gray')\n",
    "plt.show()"
   ]
  },
  {
   "cell_type": "code",
   "execution_count": 24,
   "id": "0b33bd84",
   "metadata": {},
   "outputs": [
    {
     "data": {
      "text/plain": [
       "array([[[[12.],\n",
       "         [16.],\n",
       "         [ 9.]],\n",
       "\n",
       "        [[24.],\n",
       "         [28.],\n",
       "         [15.]],\n",
       "\n",
       "        [[15.],\n",
       "         [17.],\n",
       "         [ 9.]]]], dtype=float32)"
      ]
     },
     "execution_count": 24,
     "metadata": {},
     "output_type": "execute_result"
    }
   ],
   "source": [
    "conv2d_img "
   ]
  },
  {
   "cell_type": "code",
   "execution_count": 25,
   "id": "332a1195",
   "metadata": {},
   "outputs": [
    {
     "name": "stdout",
     "output_type": "stream",
     "text": [
      "(1, 3, 3, 1)\n",
      "[[[[28.]\n",
      "   [28.]\n",
      "   [15.]]\n",
      "\n",
      "  [[28.]\n",
      "   [28.]\n",
      "   [15.]]\n",
      "\n",
      "  [[17.]\n",
      "   [17.]\n",
      "   [ 9.]]]]\n"
     ]
    }
   ],
   "source": [
    "# tf2를 설치 후에 tf1 문법으로 활용\n",
    "import tensorflow.compat.v1 as tf\n",
    "tf.disable_v2_behavior()\n",
    "\n",
    "pool = tf.nn.max_pool(conv2d_img, ksize=[1, 2, 2, 1], strides=[1, 1, 1, 1], padding='SAME')\n",
    "print(pool.shape)\n",
    "print(pool.eval())\n",
    "sess.close()"
   ]
  },
  {
   "cell_type": "markdown",
   "id": "9ff3978c",
   "metadata": {},
   "source": [
    "# 케라스를 이용한 합성곱 신경망의 구현\n",
    "## 케라스 mnist 필기체인식"
   ]
  },
  {
   "cell_type": "code",
   "execution_count": 26,
   "id": "5c8238f6",
   "metadata": {},
   "outputs": [],
   "source": [
    "# %load CNNBaseline.py\n",
    "from tensorflow.keras.datasets import mnist\n",
    "from tensorflow.keras.utils import to_categorical\n",
    "from tensorflow.keras.models import Sequential\n",
    "from tensorflow.keras.layers import Dense, Dropout, Flatten, Conv2D, MaxPooling2D\n",
    "\n",
    "import matplotlib.pyplot as plt\n",
    "import numpy\n",
    "import os\n",
    "import tensorflow as tf # tf2\n",
    "\n",
    "# seed 설정\n",
    "seed = 0\n",
    "numpy.random.seed(seed)\n",
    "tf.random.set_seed(seed)\n",
    "\n",
    "# 데이터 불러오기\n",
    "(X_train, y_train), (X_test, y_test) = mnist.load_data()"
   ]
  },
  {
   "cell_type": "code",
   "execution_count": 28,
   "id": "a1e8b4ef",
   "metadata": {},
   "outputs": [
    {
     "name": "stdout",
     "output_type": "stream",
     "text": [
      "<class 'numpy.ndarray'> (60000, 28, 28) <class 'numpy.ndarray'> (60000,)\n",
      "<class 'numpy.ndarray'> (10000, 28, 28) <class 'numpy.ndarray'> (10000,)\n"
     ]
    }
   ],
   "source": [
    "print(type(X_train), X_train.shape, type(y_train), y_train.shape)\n",
    "print(type(X_test), X_test.shape, type(y_test), y_test.shape)"
   ]
  },
  {
   "cell_type": "code",
   "execution_count": 30,
   "id": "65ec69ab",
   "metadata": {},
   "outputs": [
    {
     "data": {
      "image/png": "[encoded data removed]",
      "text/plain": [
       "<Figure size 1440x288 with 10 Axes>"
      ]
     },
     "metadata": {
      "needs_background": "light"
     },
     "output_type": "display_data"
    }
   ],
   "source": [
    "fig, ax = plt.subplots(1, 10, figsize=(20, 4))\n",
    "for i, img in enumerate(X_train[:10]):\n",
    "    ax[i].imshow(img, cmap='gray')\n",
    "    ax[i].set_title(str(y_train[i]))\n",
    "plt.show()"
   ]
  },
  {
   "cell_type": "code",
   "execution_count": 33,
   "id": "93f851d0",
   "metadata": {},
   "outputs": [
    {
     "name": "stdout",
     "output_type": "stream",
     "text": [
      "0 255 uint8\n"
     ]
    }
   ],
   "source": [
    "print(X_train[0].min(), X_train[0].max(), X_train.dtype)"
   ]
  },
  {
   "cell_type": "code",
   "execution_count": 34,
   "id": "743806b9",
   "metadata": {},
   "outputs": [
    {
     "data": {
      "text/plain": [
       "5"
      ]
     },
     "execution_count": 34,
     "metadata": {},
     "output_type": "execute_result"
    }
   ],
   "source": [
    "y_train[0]"
   ]
  },
  {
   "cell_type": "code",
   "execution_count": 42,
   "id": "add7dacf",
   "metadata": {},
   "outputs": [
    {
     "data": {
      "text/plain": [
       "array([[0., 1., 0., 0., 0., 0.],\n",
       "       [0., 0., 0., 1., 0., 0.],\n",
       "       [0., 0., 0., 0., 0., 1.]], dtype=float32)"
      ]
     },
     "execution_count": 42,
     "metadata": {},
     "output_type": "execute_result"
    }
   ],
   "source": [
    "to_categorical([1, 3, 5])"
   ]
  },
  {
   "cell_type": "code",
   "execution_count": 35,
   "id": "db9e0424",
   "metadata": {},
   "outputs": [],
   "source": [
    "X_train = X_train.reshape(X_train.shape[0], 28, 28, 1).astype('float32')/255\n",
    "X_test = X_test.reshape(X_test.shape[0], 28, 28, 1).astype('float32')/255\n",
    "y_train = to_categorical(y_train)\n",
    "y_test = to_categorical(y_test)"
   ]
  },
  {
   "cell_type": "code",
   "execution_count": 36,
   "id": "bfbcbda7",
   "metadata": {},
   "outputs": [
    {
     "data": {
      "text/plain": [
       "array([0., 0., 0., 0., 0., 1., 0., 0., 0., 0.], dtype=float32)"
      ]
     },
     "execution_count": 36,
     "metadata": {},
     "output_type": "execute_result"
    }
   ],
   "source": [
    "y_train[0]"
   ]
  },
  {
   "cell_type": "code",
   "execution_count": 38,
   "id": "fa1fa268",
   "metadata": {},
   "outputs": [
    {
     "name": "stdout",
     "output_type": "stream",
     "text": [
      "0.0 1.0 float32 (60000, 28, 28, 1)\n"
     ]
    }
   ],
   "source": [
    "print(X_train[0].min(), X_train[0].max(), X_train.dtype, X_train.shape)"
   ]
  },
  {
   "cell_type": "code",
   "execution_count": 39,
   "id": "1be62288",
   "metadata": {},
   "outputs": [
    {
     "data": {
      "text/plain": [
       "array([0., 0., 0., 0., 0., 0., 0., 1., 0., 0.], dtype=float32)"
      ]
     },
     "execution_count": 39,
     "metadata": {},
     "output_type": "execute_result"
    }
   ],
   "source": [
    "y_test[0]"
   ]
  },
  {
   "cell_type": "code",
   "execution_count": 40,
   "id": "64c16d57",
   "metadata": {},
   "outputs": [
    {
     "data": {
      "text/plain": [
       "(10000, 10)"
      ]
     },
     "execution_count": 40,
     "metadata": {},
     "output_type": "execute_result"
    }
   ],
   "source": [
    "y_test.shape"
   ]
  },
  {
   "cell_type": "code",
   "execution_count": 41,
   "id": "0634a09f",
   "metadata": {},
   "outputs": [
    {
     "name": "stdout",
     "output_type": "stream",
     "text": [
      "0.0 1.0 float32 (10000, 28, 28, 1)\n"
     ]
    }
   ],
   "source": [
    "print(X_test[0].min(), X_test[0].max(), X_test.dtype, X_test.shape)"
   ]
  },
  {
   "cell_type": "code",
   "execution_count": 43,
   "id": "8e39b027",
   "metadata": {},
   "outputs": [],
   "source": [
    "Conv2D?"
   ]
  },
  {
   "cell_type": "code",
   "execution_count": 44,
   "id": "403e5c6b",
   "metadata": {},
   "outputs": [],
   "source": [
    "MaxPooling2D?"
   ]
  },
  {
   "cell_type": "code",
   "execution_count": 45,
   "id": "fa4021b2",
   "metadata": {},
   "outputs": [
    {
     "name": "stdout",
     "output_type": "stream",
     "text": [
      "Model: \"sequential_1\"\n",
      "_________________________________________________________________\n",
      "Layer (type)                 Output Shape              Param #   \n",
      "=================================================================\n",
      "conv2d_1 (Conv2D)            (None, 26, 26, 32)        320       \n",
      "_________________________________________________________________\n",
      "max_pooling2d_1 (MaxPooling2 (None, 13, 13, 32)        0         \n",
      "_________________________________________________________________\n",
      "dropout_2 (Dropout)          (None, 13, 13, 32)        0         \n",
      "_________________________________________________________________\n",
      "flatten_1 (Flatten)          (None, 5408)              0         \n",
      "_________________________________________________________________\n",
      "dense_2 (Dense)              (None, 128)               692352    \n",
      "_________________________________________________________________\n",
      "dropout_3 (Dropout)          (None, 128)               0         \n",
      "_________________________________________________________________\n",
      "dense_3 (Dense)              (None, 10)                1290      \n",
      "=================================================================\n",
      "Total params: 693,962\n",
      "Trainable params: 693,962\n",
      "Non-trainable params: 0\n",
      "_________________________________________________________________\n"
     ]
    }
   ],
   "source": [
    "# CNN을 위한 설정, 신경망 아키텍쳐 준비\n",
    "model = Sequential()\n",
    "model.add(Conv2D(32, kernel_size=(3,3), input_shape=(28, 28, 1), activation='relu'))\n",
    "model.add(MaxPooling2D(pool_size=2))\n",
    "model.add(Dropout(0.25))\n",
    "model.add(Flatten())\n",
    "model.add(Dense(128, activation='relu'))\n",
    "model.add(Dropout(0.5))\n",
    "model.add(Dense(10, activation='softmax'))\n",
    "\n",
    "model.summary()\n",
    "\n",
    "model.compile(loss='categorical_crossentropy',\n",
    "             optimizer='adam', \n",
    "             metrics=['accuracy'])"
   ]
  },
  {
   "cell_type": "code",
   "execution_count": 46,
   "id": "2bdac9d5",
   "metadata": {
    "scrolled": true
   },
   "outputs": [
    {
     "name": "stdout",
     "output_type": "stream",
     "text": [
      "\n",
      "Epoch 00001: val_loss improved from inf to 0.10917, saving model to ./model\\01-0.1092.hdf5\n",
      "\n",
      "Epoch 00002: val_loss improved from 0.10917 to 0.06962, saving model to ./model\\02-0.0696.hdf5\n",
      "\n",
      "Epoch 00003: val_loss improved from 0.06962 to 0.05572, saving model to ./model\\03-0.0557.hdf5\n",
      "\n",
      "Epoch 00004: val_loss improved from 0.05572 to 0.04869, saving model to ./model\\04-0.0487.hdf5\n",
      "\n",
      "Epoch 00005: val_loss improved from 0.04869 to 0.04464, saving model to ./model\\05-0.0446.hdf5\n",
      "\n",
      "Epoch 00006: val_loss did not improve from 0.04464\n",
      "\n",
      "Epoch 00007: val_loss improved from 0.04464 to 0.04129, saving model to ./model\\07-0.0413.hdf5\n",
      "\n",
      "Epoch 00008: val_loss improved from 0.04129 to 0.03775, saving model to ./model\\08-0.0378.hdf5\n",
      "\n",
      "Epoch 00009: val_loss improved from 0.03775 to 0.03715, saving model to ./model\\09-0.0372.hdf5\n",
      "\n",
      "Epoch 00010: val_loss did not improve from 0.03715\n",
      "\n",
      " Test Accurary: 0.9875\n"
     ]
    },
    {
     "data": {
      "image/png": "[encoded data removed]",
      "text/plain": [
       "<Figure size 432x288 with 1 Axes>"
      ]
     },
     "metadata": {
      "needs_background": "light"
     },
     "output_type": "display_data"
    }
   ],
   "source": [
    "# 모델 최적화 설정\n",
    "MODEL_DIR = './model/'\n",
    "if not os.path.exists(MODEL_DIR):\n",
    "    os.mkdir(MODEL_DIR)\n",
    "    \n",
    "modelpath=\"./model/{epoch:02d}-{val_loss:.4f}.hdf5\"\n",
    "checkpointer = tf.keras.callbacks.ModelCheckpoint(filepath=modelpath, \n",
    "                                                  monitor='val_loss', \n",
    "                                                  verbose=1, save_best_only=True)\n",
    "early_stopping_callback = tf.keras.callbacks.EarlyStopping(monitor='val_loss', patience=10)\n",
    "\n",
    "# 모델의 실행\n",
    "history = model.fit(X_train, y_train, \n",
    "                    validation_data=(X_test, y_test), \n",
    "                    epochs=10, batch_size=200, verbose=0, \n",
    "                    callbacks=[early_stopping_callback, checkpointer])\n",
    "\n",
    "# 테스트 정확도 출력\n",
    "print('\\n Test Accurary: %.4f' % (model.evaluate(X_test, y_test)[1]))\n",
    "\n",
    "# 테스트셋의 오차\n",
    "y_vloss = history.history['val_loss']\n",
    "\n",
    "# 학습셋의 오차\n",
    "y_loss = history.history['loss']\n",
    "\n",
    "# 시각화\n",
    "x_len = numpy.arange(len(y_loss))\n",
    "plt.plot(x_len, y_vloss, marker='.', c='red', label='Testset_loss')\n",
    "plt.plot(x_len, y_loss, marker='.', c='blue', label='Trainset_loss')\n",
    "\n",
    "plt.legend(loc='upper right')\n",
    "plt.grid()\n",
    "plt.xlabel('epoch')\n",
    "plt.ylabel('loss')\n",
    "plt.show()"
   ]
  },
  {
   "cell_type": "code",
   "execution_count": 50,
   "id": "c8096b76",
   "metadata": {},
   "outputs": [
    {
     "data": {
      "text/plain": [
       "array([[4.0340615e-09, 3.5436674e-08, 6.8020348e-08, 5.8679524e-07,\n",
       "        7.3767886e-10, 5.1802274e-11, 6.3322340e-14, 9.9999905e-01,\n",
       "        9.5566399e-10, 1.9947042e-07]], dtype=float32)"
      ]
     },
     "execution_count": 50,
     "metadata": {},
     "output_type": "execute_result"
    }
   ],
   "source": [
    "model.predict(X_test[0:1])"
   ]
  },
  {
   "cell_type": "code",
   "execution_count": 56,
   "id": "17b1d392",
   "metadata": {},
   "outputs": [
    {
     "data": {
      "text/plain": [
       "'seven'"
      ]
     },
     "execution_count": 56,
     "metadata": {},
     "output_type": "execute_result"
    }
   ],
   "source": [
    "predicted_index = np.argmax(model.predict(X_test[0:1]))\n",
    "target_names = np.array(['zero', 'one', 'two', 'three', 'four', 'five', 'six', 'seven', 'eight', 'nine'])\n",
    "target_names[predicted_index]"
   ]
  },
  {
   "cell_type": "code",
   "execution_count": 52,
   "id": "3c712eab",
   "metadata": {},
   "outputs": [
    {
     "data": {
      "image/png": "[encoded data removed]",
      "text/plain": [
       "<Figure size 432x288 with 1 Axes>"
      ]
     },
     "metadata": {
      "needs_background": "light"
     },
     "output_type": "display_data"
    }
   ],
   "source": [
    "plt.imshow(X_test[0], cmap='gray')\n",
    "plt.title(str(y_test[0]))\n",
    "plt.show()"
   ]
  },
  {
   "cell_type": "markdown",
   "id": "aba2a612",
   "metadata": {},
   "source": [
    "# mnist 패션 데이터에 CNNBaseline.py 코드 적용해보기"
   ]
  },
  {
   "cell_type": "code",
   "execution_count": 57,
   "id": "a98992d7",
   "metadata": {},
   "outputs": [],
   "source": [
    "from tensorflow.keras.datasets import fashion_mnist\n",
    "(X_train, y_train), (X_test, y_test) = fashion_mnist.load_data()"
   ]
  },
  {
   "cell_type": "code",
   "execution_count": 59,
   "id": "061273e0",
   "metadata": {},
   "outputs": [
    {
     "name": "stdout",
     "output_type": "stream",
     "text": [
      "(60000, 28, 28) (60000,)\n",
      "(10000, 28, 28) (10000,)\n"
     ]
    }
   ],
   "source": [
    "print(X_train.shape, y_train.shape)\n",
    "print(X_test.shape, y_test.shape)"
   ]
  },
  {
   "cell_type": "code",
   "execution_count": null,
   "id": "54d1b90f",
   "metadata": {},
   "outputs": [],
   "source": []
  }
 ],
 "metadata": {
  "kernelspec": {
   "display_name": "Python 3 (ipykernel)",
   "language": "python",
   "name": "python3"
  },
  "language_info": {
   "codemirror_mode": {
    "name": "ipython",
    "version": 3
   },
   "file_extension": ".py",
   "mimetype": "text/x-python",
   "name": "python",
   "nbconvert_exporter": "python",
   "pygments_lexer": "ipython3",
   "version": "3.8.13"
  }
 },
 "nbformat": 4,
 "nbformat_minor": 5
}
